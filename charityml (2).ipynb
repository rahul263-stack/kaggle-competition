{
 "cells": [
  {
   "cell_type": "markdown",
   "metadata": {},
   "source": [
    "# Kaggle Challenge\n",
    "This is a Kaggle challenge in which we will try to predict the potential donors for a charity organization. The goal is to identify participants who are most likely to donate to the charity so as to target them better.\n",
    "\n",
    "There are ariund 45000 rows that contain information about the people like their occupation, race, country of origin, age, education etc and the goal is to indentify people who have an income of more than $50,000 as they generally are more likely to donate money.\n",
    "\n",
    "### Importing the data"
   ]
  },
  {
   "cell_type": "code",
   "execution_count": 1,
   "metadata": {},
   "outputs": [],
   "source": [
    "import pandas as pd\n",
    "import numpy as np\n",
    "import matplotlib.pyplot as plt\n",
    "import seaborn as sns"
   ]
  },
  {
   "cell_type": "code",
   "execution_count": 2,
   "metadata": {},
   "outputs": [
    {
     "data": {
      "text/html": [
       "<div>\n",
       "<style scoped>\n",
       "    .dataframe tbody tr th:only-of-type {\n",
       "        vertical-align: middle;\n",
       "    }\n",
       "\n",
       "    .dataframe tbody tr th {\n",
       "        vertical-align: top;\n",
       "    }\n",
       "\n",
       "    .dataframe thead th {\n",
       "        text-align: right;\n",
       "    }\n",
       "</style>\n",
       "<table border=\"1\" class=\"dataframe\">\n",
       "  <thead>\n",
       "    <tr style=\"text-align: right;\">\n",
       "      <th></th>\n",
       "      <th>age</th>\n",
       "      <th>workclass</th>\n",
       "      <th>education_level</th>\n",
       "      <th>education-num</th>\n",
       "      <th>marital-status</th>\n",
       "      <th>occupation</th>\n",
       "      <th>relationship</th>\n",
       "      <th>race</th>\n",
       "      <th>sex</th>\n",
       "      <th>capital-gain</th>\n",
       "      <th>capital-loss</th>\n",
       "      <th>hours-per-week</th>\n",
       "      <th>native-country</th>\n",
       "      <th>income</th>\n",
       "    </tr>\n",
       "  </thead>\n",
       "  <tbody>\n",
       "    <tr>\n",
       "      <td>0</td>\n",
       "      <td>39</td>\n",
       "      <td>State-gov</td>\n",
       "      <td>Bachelors</td>\n",
       "      <td>13.0</td>\n",
       "      <td>Never-married</td>\n",
       "      <td>Adm-clerical</td>\n",
       "      <td>Not-in-family</td>\n",
       "      <td>White</td>\n",
       "      <td>Male</td>\n",
       "      <td>2174.0</td>\n",
       "      <td>0.0</td>\n",
       "      <td>40.0</td>\n",
       "      <td>United-States</td>\n",
       "      <td>&lt;=50K</td>\n",
       "    </tr>\n",
       "    <tr>\n",
       "      <td>1</td>\n",
       "      <td>50</td>\n",
       "      <td>Self-emp-not-inc</td>\n",
       "      <td>Bachelors</td>\n",
       "      <td>13.0</td>\n",
       "      <td>Married-civ-spouse</td>\n",
       "      <td>Exec-managerial</td>\n",
       "      <td>Husband</td>\n",
       "      <td>White</td>\n",
       "      <td>Male</td>\n",
       "      <td>0.0</td>\n",
       "      <td>0.0</td>\n",
       "      <td>13.0</td>\n",
       "      <td>United-States</td>\n",
       "      <td>&lt;=50K</td>\n",
       "    </tr>\n",
       "    <tr>\n",
       "      <td>2</td>\n",
       "      <td>38</td>\n",
       "      <td>Private</td>\n",
       "      <td>HS-grad</td>\n",
       "      <td>9.0</td>\n",
       "      <td>Divorced</td>\n",
       "      <td>Handlers-cleaners</td>\n",
       "      <td>Not-in-family</td>\n",
       "      <td>White</td>\n",
       "      <td>Male</td>\n",
       "      <td>0.0</td>\n",
       "      <td>0.0</td>\n",
       "      <td>40.0</td>\n",
       "      <td>United-States</td>\n",
       "      <td>&lt;=50K</td>\n",
       "    </tr>\n",
       "    <tr>\n",
       "      <td>3</td>\n",
       "      <td>53</td>\n",
       "      <td>Private</td>\n",
       "      <td>11th</td>\n",
       "      <td>7.0</td>\n",
       "      <td>Married-civ-spouse</td>\n",
       "      <td>Handlers-cleaners</td>\n",
       "      <td>Husband</td>\n",
       "      <td>Black</td>\n",
       "      <td>Male</td>\n",
       "      <td>0.0</td>\n",
       "      <td>0.0</td>\n",
       "      <td>40.0</td>\n",
       "      <td>United-States</td>\n",
       "      <td>&lt;=50K</td>\n",
       "    </tr>\n",
       "    <tr>\n",
       "      <td>4</td>\n",
       "      <td>28</td>\n",
       "      <td>Private</td>\n",
       "      <td>Bachelors</td>\n",
       "      <td>13.0</td>\n",
       "      <td>Married-civ-spouse</td>\n",
       "      <td>Prof-specialty</td>\n",
       "      <td>Wife</td>\n",
       "      <td>Black</td>\n",
       "      <td>Female</td>\n",
       "      <td>0.0</td>\n",
       "      <td>0.0</td>\n",
       "      <td>40.0</td>\n",
       "      <td>Cuba</td>\n",
       "      <td>&lt;=50K</td>\n",
       "    </tr>\n",
       "  </tbody>\n",
       "</table>\n",
       "</div>"
      ],
      "text/plain": [
       "   age          workclass education_level  education-num       marital-status  \\\n",
       "0   39          State-gov       Bachelors           13.0        Never-married   \n",
       "1   50   Self-emp-not-inc       Bachelors           13.0   Married-civ-spouse   \n",
       "2   38            Private         HS-grad            9.0             Divorced   \n",
       "3   53            Private            11th            7.0   Married-civ-spouse   \n",
       "4   28            Private       Bachelors           13.0   Married-civ-spouse   \n",
       "\n",
       "           occupation    relationship    race      sex  capital-gain  \\\n",
       "0        Adm-clerical   Not-in-family   White     Male        2174.0   \n",
       "1     Exec-managerial         Husband   White     Male           0.0   \n",
       "2   Handlers-cleaners   Not-in-family   White     Male           0.0   \n",
       "3   Handlers-cleaners         Husband   Black     Male           0.0   \n",
       "4      Prof-specialty            Wife   Black   Female           0.0   \n",
       "\n",
       "   capital-loss  hours-per-week  native-country income  \n",
       "0           0.0            40.0   United-States  <=50K  \n",
       "1           0.0            13.0   United-States  <=50K  \n",
       "2           0.0            40.0   United-States  <=50K  \n",
       "3           0.0            40.0   United-States  <=50K  \n",
       "4           0.0            40.0            Cuba  <=50K  "
      ]
     },
     "execution_count": 2,
     "metadata": {},
     "output_type": "execute_result"
    }
   ],
   "source": [
    "df= pd.read_csv(r'C:\\Users\\srini\\Downloads\\census.csv\\census.csv')\n",
    "df.head()"
   ]
  },
  {
   "cell_type": "markdown",
   "metadata": {},
   "source": [
    "### Data Exploration"
   ]
  },
  {
   "cell_type": "code",
   "execution_count": 3,
   "metadata": {},
   "outputs": [
    {
     "name": "stdout",
     "output_type": "stream",
     "text": [
      "<class 'pandas.core.frame.DataFrame'>\n",
      "RangeIndex: 45222 entries, 0 to 45221\n",
      "Data columns (total 14 columns):\n",
      "age                45222 non-null int64\n",
      "workclass          45222 non-null object\n",
      "education_level    45222 non-null object\n",
      "education-num      45222 non-null float64\n",
      "marital-status     45222 non-null object\n",
      "occupation         45222 non-null object\n",
      "relationship       45222 non-null object\n",
      "race               45222 non-null object\n",
      "sex                45222 non-null object\n",
      "capital-gain       45222 non-null float64\n",
      "capital-loss       45222 non-null float64\n",
      "hours-per-week     45222 non-null float64\n",
      "native-country     45222 non-null object\n",
      "income             45222 non-null object\n",
      "dtypes: float64(4), int64(1), object(9)\n",
      "memory usage: 4.8+ MB\n"
     ]
    }
   ],
   "source": [
    "df.info()"
   ]
  },
  {
   "cell_type": "code",
   "execution_count": 4,
   "metadata": {},
   "outputs": [
    {
     "data": {
      "text/plain": [
       "9.0     14783\n",
       "10.0     9899\n",
       "13.0     7570\n",
       "14.0     2514\n",
       "11.0     1959\n",
       "Name: education-num, dtype: int64"
      ]
     },
     "execution_count": 4,
     "metadata": {},
     "output_type": "execute_result"
    }
   ],
   "source": [
    "# exploring the education numeric column\n",
    "df['education-num'].value_counts().head()"
   ]
  },
  {
   "cell_type": "code",
   "execution_count": 5,
   "metadata": {},
   "outputs": [
    {
     "data": {
      "image/png": "[encoded data removed]",
      "text/plain": [
       "<Figure size 432x288 with 1 Axes>"
      ]
     },
     "metadata": {
      "needs_background": "light"
     },
     "output_type": "display_data"
    }
   ],
   "source": [
    "# exploring the relationship between Education numeric and level columns\n",
    "sns.scatterplot(df['education-num'], df.education_level);"
   ]
  },
  {
   "cell_type": "markdown",
   "metadata": {},
   "source": [
    "So the education level and the education num are directly related in the dataset."
   ]
  },
  {
   "cell_type": "code",
   "execution_count": 6,
   "metadata": {},
   "outputs": [
    {
     "data": {
      "text/plain": [
       "age                0\n",
       "workclass          0\n",
       "education_level    0\n",
       "education-num      0\n",
       "marital-status     0\n",
       "occupation         0\n",
       "relationship       0\n",
       "race               0\n",
       "sex                0\n",
       "capital-gain       0\n",
       "capital-loss       0\n",
       "hours-per-week     0\n",
       "native-country     0\n",
       "income             0\n",
       "dtype: int64"
      ]
     },
     "execution_count": 6,
     "metadata": {},
     "output_type": "execute_result"
    }
   ],
   "source": [
    "# Checking for the missing values\n",
    "df.isna().sum()"
   ]
  },
  {
   "cell_type": "markdown",
   "metadata": {},
   "source": [
    "So there are no missing values in the data"
   ]
  },
  {
   "cell_type": "code",
   "execution_count": 7,
   "metadata": {},
   "outputs": [
    {
     "data": {
      "text/plain": [
       "<=50K    34014\n",
       ">50K     11208\n",
       "Name: income, dtype: int64"
      ]
     },
     "execution_count": 7,
     "metadata": {},
     "output_type": "execute_result"
    }
   ],
   "source": [
    "df.income.value_counts()"
   ]
  },
  {
   "cell_type": "code",
   "execution_count": 8,
   "metadata": {},
   "outputs": [],
   "source": [
    "#hot encoding the income column to 1 and 0.\n",
    "df.income.replace({'<=50K':0,'>50K':1}, inplace= True)"
   ]
  },
  {
   "cell_type": "code",
   "execution_count": 9,
   "metadata": {},
   "outputs": [
    {
     "data": {
      "text/html": [
       "<div>\n",
       "<style scoped>\n",
       "    .dataframe tbody tr th:only-of-type {\n",
       "        vertical-align: middle;\n",
       "    }\n",
       "\n",
       "    .dataframe tbody tr th {\n",
       "        vertical-align: top;\n",
       "    }\n",
       "\n",
       "    .dataframe thead th {\n",
       "        text-align: right;\n",
       "    }\n",
       "</style>\n",
       "<table border=\"1\" class=\"dataframe\">\n",
       "  <thead>\n",
       "    <tr style=\"text-align: right;\">\n",
       "      <th></th>\n",
       "      <th>age</th>\n",
       "      <th>workclass</th>\n",
       "      <th>education_level</th>\n",
       "      <th>education-num</th>\n",
       "      <th>marital-status</th>\n",
       "      <th>occupation</th>\n",
       "      <th>relationship</th>\n",
       "      <th>race</th>\n",
       "      <th>sex</th>\n",
       "      <th>capital-gain</th>\n",
       "      <th>capital-loss</th>\n",
       "      <th>hours-per-week</th>\n",
       "      <th>native-country</th>\n",
       "      <th>income</th>\n",
       "    </tr>\n",
       "  </thead>\n",
       "  <tbody>\n",
       "    <tr>\n",
       "      <td>0</td>\n",
       "      <td>39</td>\n",
       "      <td>State-gov</td>\n",
       "      <td>Bachelors</td>\n",
       "      <td>13.0</td>\n",
       "      <td>Never-married</td>\n",
       "      <td>Adm-clerical</td>\n",
       "      <td>Not-in-family</td>\n",
       "      <td>White</td>\n",
       "      <td>Male</td>\n",
       "      <td>2174.0</td>\n",
       "      <td>0.0</td>\n",
       "      <td>40.0</td>\n",
       "      <td>United-States</td>\n",
       "      <td>0</td>\n",
       "    </tr>\n",
       "  </tbody>\n",
       "</table>\n",
       "</div>"
      ],
      "text/plain": [
       "   age   workclass education_level  education-num  marital-status  \\\n",
       "0   39   State-gov       Bachelors           13.0   Never-married   \n",
       "\n",
       "      occupation    relationship    race    sex  capital-gain  capital-loss  \\\n",
       "0   Adm-clerical   Not-in-family   White   Male        2174.0           0.0   \n",
       "\n",
       "   hours-per-week  native-country  income  \n",
       "0            40.0   United-States       0  "
      ]
     },
     "execution_count": 9,
     "metadata": {},
     "output_type": "execute_result"
    }
   ],
   "source": [
    "df.head(1)"
   ]
  },
  {
   "cell_type": "code",
   "execution_count": 10,
   "metadata": {},
   "outputs": [
    {
     "data": {
      "text/plain": [
       "5982"
      ]
     },
     "execution_count": 10,
     "metadata": {},
     "output_type": "execute_result"
    }
   ],
   "source": [
    "# Checking for duplicates in the data\n",
    "df.duplicated().sum()"
   ]
  },
  {
   "cell_type": "markdown",
   "metadata": {},
   "source": [
    "There are 5982 duplicate rows in the dataset. However, it could also be that 2 people hvae the same features as the features are quite generic."
   ]
  },
  {
   "cell_type": "code",
   "execution_count": 11,
   "metadata": {},
   "outputs": [
    {
     "data": {
      "text/plain": [
       " Craft-repair         6020\n",
       " Prof-specialty       6008\n",
       " Exec-managerial      5984\n",
       " Adm-clerical         5540\n",
       " Sales                5408\n",
       " Other-service        4808\n",
       " Machine-op-inspct    2970\n",
       " Transport-moving     2316\n",
       " Handlers-cleaners    2046\n",
       " Farming-fishing      1480\n",
       " Tech-support         1420\n",
       " Protective-serv       976\n",
       " Priv-house-serv       232\n",
       " Armed-Forces           14\n",
       "Name: occupation, dtype: int64"
      ]
     },
     "execution_count": 11,
     "metadata": {},
     "output_type": "execute_result"
    }
   ],
   "source": [
    "df.occupation.value_counts()"
   ]
  },
  {
   "cell_type": "code",
   "execution_count": 12,
   "metadata": {},
   "outputs": [
    {
     "data": {
      "text/plain": [
       "<matplotlib.axes._subplots.AxesSubplot at 0x24ca5478c08>"
      ]
     },
     "execution_count": 12,
     "metadata": {},
     "output_type": "execute_result"
    },
    {
     "data": {
      "image/png": "[encoded data removed]",
      "text/plain": [
       "<Figure size 432x288 with 1 Axes>"
      ]
     },
     "metadata": {
      "needs_background": "light"
     },
     "output_type": "display_data"
    }
   ],
   "source": [
    "# relationship between the number of years of education and income level\n",
    "sns.boxplot(df.income, df['education-num'])"
   ]
  },
  {
   "cell_type": "code",
   "execution_count": 13,
   "metadata": {},
   "outputs": [
    {
     "data": {
      "image/png": "[encoded data removed]",
      "text/plain": [
       "<Figure size 432x288 with 1 Axes>"
      ]
     },
     "metadata": {
      "needs_background": "light"
     },
     "output_type": "display_data"
    }
   ],
   "source": [
    "# relationship between the hours per week and income level\n",
    "sns.boxplot(df.income, df['hours-per-week']);"
   ]
  },
  {
   "cell_type": "code",
   "execution_count": 14,
   "metadata": {},
   "outputs": [
    {
     "data": {
      "image/png": "[encoded data removed]",
      "text/plain": [
       "<Figure size 576x576 with 2 Axes>"
      ]
     },
     "metadata": {
      "needs_background": "light"
     },
     "output_type": "display_data"
    }
   ],
   "source": [
    "# Relationship between the occupation and the income level\n",
    "df_occupation= df.pivot_table(columns='income', index= 'occupation', aggfunc='count')['age']\n",
    "plt.figure(figsize=[8,8])\n",
    "sns.heatmap(df_occupation,cmap= 'viridis_r',annot= True, fmt= '.2f' );"
   ]
  },
  {
   "cell_type": "markdown",
   "metadata": {},
   "source": [
    "The above heatmap shows that most of the higher income people are either Executive managers, professional specialists or Sales professionals."
   ]
  },
  {
   "cell_type": "code",
   "execution_count": 15,
   "metadata": {},
   "outputs": [
    {
     "data": {
      "text/plain": [
       " Married-civ-spouse       21055\n",
       " Never-married            14598\n",
       " Divorced                  6297\n",
       " Separated                 1411\n",
       " Widowed                   1277\n",
       " Married-spouse-absent      552\n",
       " Married-AF-spouse           32\n",
       "Name: marital-status, dtype: int64"
      ]
     },
     "execution_count": 15,
     "metadata": {},
     "output_type": "execute_result"
    }
   ],
   "source": [
    "df['marital-status'].value_counts()"
   ]
  },
  {
   "cell_type": "code",
   "execution_count": 16,
   "metadata": {},
   "outputs": [
    {
     "data": {
      "image/png": "[encoded data removed]",
      "text/plain": [
       "<Figure size 576x360 with 2 Axes>"
      ]
     },
     "metadata": {
      "needs_background": "light"
     },
     "output_type": "display_data"
    }
   ],
   "source": [
    "# Relationship between Marital status and the income level\n",
    "df_marriage= df.pivot_table(columns='income', index= 'marital-status', aggfunc='count')['age']\n",
    "plt.figure(figsize=[8,5])\n",
    "sns.heatmap(df_marriage,cmap= 'viridis_r',annot= True, fmt= '.2f' );"
   ]
  },
  {
   "cell_type": "markdown",
   "metadata": {},
   "source": [
    "Most of the higher income people are Married-civ-spouse. Overwhelming number of never married people are in the lower income bracket"
   ]
  },
  {
   "cell_type": "code",
   "execution_count": 17,
   "metadata": {},
   "outputs": [
    {
     "data": {
      "image/png": "[encoded data removed]",
      "text/plain": [
       "<Figure size 432x288 with 1 Axes>"
      ]
     },
     "metadata": {
      "needs_background": "light"
     },
     "output_type": "display_data"
    }
   ],
   "source": [
    "# Relationship between the age of people and their income\n",
    "sns.boxplot(df.income, df.age);"
   ]
  },
  {
   "cell_type": "markdown",
   "metadata": {},
   "source": [
    "It seems older people tend to have higher incomes with the median age of richer people being around 45 years and the poorer people being 35 years"
   ]
  },
  {
   "cell_type": "code",
   "execution_count": 18,
   "metadata": {},
   "outputs": [
    {
     "data": {
      "text/html": [
       "<div>\n",
       "<style scoped>\n",
       "    .dataframe tbody tr th:only-of-type {\n",
       "        vertical-align: middle;\n",
       "    }\n",
       "\n",
       "    .dataframe tbody tr th {\n",
       "        vertical-align: top;\n",
       "    }\n",
       "\n",
       "    .dataframe thead th {\n",
       "        text-align: right;\n",
       "    }\n",
       "</style>\n",
       "<table border=\"1\" class=\"dataframe\">\n",
       "  <thead>\n",
       "    <tr style=\"text-align: right;\">\n",
       "      <th></th>\n",
       "      <th>age</th>\n",
       "      <th>workclass</th>\n",
       "      <th>education_level</th>\n",
       "      <th>education-num</th>\n",
       "      <th>marital-status</th>\n",
       "      <th>occupation</th>\n",
       "      <th>relationship</th>\n",
       "      <th>race</th>\n",
       "      <th>sex</th>\n",
       "      <th>capital-gain</th>\n",
       "      <th>capital-loss</th>\n",
       "      <th>hours-per-week</th>\n",
       "      <th>native-country</th>\n",
       "      <th>income</th>\n",
       "    </tr>\n",
       "  </thead>\n",
       "  <tbody>\n",
       "    <tr>\n",
       "      <td>0</td>\n",
       "      <td>39</td>\n",
       "      <td>State-gov</td>\n",
       "      <td>Bachelors</td>\n",
       "      <td>13.0</td>\n",
       "      <td>Never-married</td>\n",
       "      <td>Adm-clerical</td>\n",
       "      <td>Not-in-family</td>\n",
       "      <td>White</td>\n",
       "      <td>Male</td>\n",
       "      <td>2174.0</td>\n",
       "      <td>0.0</td>\n",
       "      <td>40.0</td>\n",
       "      <td>United-States</td>\n",
       "      <td>0</td>\n",
       "    </tr>\n",
       "  </tbody>\n",
       "</table>\n",
       "</div>"
      ],
      "text/plain": [
       "   age   workclass education_level  education-num  marital-status  \\\n",
       "0   39   State-gov       Bachelors           13.0   Never-married   \n",
       "\n",
       "      occupation    relationship    race    sex  capital-gain  capital-loss  \\\n",
       "0   Adm-clerical   Not-in-family   White   Male        2174.0           0.0   \n",
       "\n",
       "   hours-per-week  native-country  income  \n",
       "0            40.0   United-States       0  "
      ]
     },
     "execution_count": 18,
     "metadata": {},
     "output_type": "execute_result"
    }
   ],
   "source": [
    "df.head(1)"
   ]
  },
  {
   "cell_type": "code",
   "execution_count": 19,
   "metadata": {},
   "outputs": [
    {
     "data": {
      "image/png": "[encoded data removed]",
      "text/plain": [
       "<Figure size 432x288 with 1 Axes>"
      ]
     },
     "metadata": {
      "needs_background": "light"
     },
     "output_type": "display_data"
    }
   ],
   "source": [
    "# Relationship between the Capital-gain and their income\n",
    "sns.boxplot(df.income, df['capital-gain'], )\n",
    "plt.ylim([0,1000]);"
   ]
  },
  {
   "cell_type": "markdown",
   "metadata": {},
   "source": [
    "There seems to be very high number of points that are close to 0 for the capital gains. We will plot a histogram to see them"
   ]
  },
  {
   "cell_type": "code",
   "execution_count": 20,
   "metadata": {},
   "outputs": [
    {
     "data": {
      "image/png": "[encoded data removed]",
      "text/plain": [
       "<Figure size 432x288 with 1 Axes>"
      ]
     },
     "metadata": {
      "needs_background": "light"
     },
     "output_type": "display_data"
    }
   ],
   "source": [
    "plt.hist(df['capital-gain'])\n",
    "plt.title('Capital Gain histogram');"
   ]
  },
  {
   "cell_type": "code",
   "execution_count": 21,
   "metadata": {},
   "outputs": [
    {
     "data": {
      "image/png": "[encoded data removed]",
      "text/plain": [
       "<Figure size 432x288 with 1 Axes>"
      ]
     },
     "metadata": {
      "needs_background": "light"
     },
     "output_type": "display_data"
    }
   ],
   "source": [
    "plt.hist(df['capital-loss'])\n",
    "plt.title('Capital Loss histogram');\n"
   ]
  },
  {
   "cell_type": "markdown",
   "metadata": {},
   "source": [
    "They both seem to be having logarithmic relationship with the values"
   ]
  },
  {
   "cell_type": "markdown",
   "metadata": {},
   "source": [
    "### Data Preprocessing\n",
    "The Capital Gain and Capital loss columns see to have logarithmic relationship and need to to be transformed."
   ]
  },
  {
   "cell_type": "code",
   "execution_count": 22,
   "metadata": {},
   "outputs": [],
   "source": [
    "# Chaning both capital gains and capital losses to their logarithmic forms and adding 1 to prevent log(0) from creating\n",
    "# problems\n",
    "\n",
    "df['capital-gain']= np.log(df['capital-gain']+1)\n",
    "\n",
    "df['capital-loss']= np.log(df['capital-loss']+1)"
   ]
  },
  {
   "cell_type": "code",
   "execution_count": 23,
   "metadata": {},
   "outputs": [
    {
     "data": {
      "text/html": [
       "<div>\n",
       "<style scoped>\n",
       "    .dataframe tbody tr th:only-of-type {\n",
       "        vertical-align: middle;\n",
       "    }\n",
       "\n",
       "    .dataframe tbody tr th {\n",
       "        vertical-align: top;\n",
       "    }\n",
       "\n",
       "    .dataframe thead th {\n",
       "        text-align: right;\n",
       "    }\n",
       "</style>\n",
       "<table border=\"1\" class=\"dataframe\">\n",
       "  <thead>\n",
       "    <tr style=\"text-align: right;\">\n",
       "      <th></th>\n",
       "      <th>age</th>\n",
       "      <th>workclass</th>\n",
       "      <th>education_level</th>\n",
       "      <th>education-num</th>\n",
       "      <th>marital-status</th>\n",
       "      <th>occupation</th>\n",
       "      <th>relationship</th>\n",
       "      <th>race</th>\n",
       "      <th>sex</th>\n",
       "      <th>capital-gain</th>\n",
       "      <th>capital-loss</th>\n",
       "      <th>hours-per-week</th>\n",
       "      <th>native-country</th>\n",
       "      <th>income</th>\n",
       "    </tr>\n",
       "  </thead>\n",
       "  <tbody>\n",
       "    <tr>\n",
       "      <td>0</td>\n",
       "      <td>39</td>\n",
       "      <td>State-gov</td>\n",
       "      <td>Bachelors</td>\n",
       "      <td>13.0</td>\n",
       "      <td>Never-married</td>\n",
       "      <td>Adm-clerical</td>\n",
       "      <td>Not-in-family</td>\n",
       "      <td>White</td>\n",
       "      <td>Male</td>\n",
       "      <td>7.684784</td>\n",
       "      <td>0.0</td>\n",
       "      <td>40.0</td>\n",
       "      <td>United-States</td>\n",
       "      <td>0</td>\n",
       "    </tr>\n",
       "    <tr>\n",
       "      <td>1</td>\n",
       "      <td>50</td>\n",
       "      <td>Self-emp-not-inc</td>\n",
       "      <td>Bachelors</td>\n",
       "      <td>13.0</td>\n",
       "      <td>Married-civ-spouse</td>\n",
       "      <td>Exec-managerial</td>\n",
       "      <td>Husband</td>\n",
       "      <td>White</td>\n",
       "      <td>Male</td>\n",
       "      <td>0.000000</td>\n",
       "      <td>0.0</td>\n",
       "      <td>13.0</td>\n",
       "      <td>United-States</td>\n",
       "      <td>0</td>\n",
       "    </tr>\n",
       "    <tr>\n",
       "      <td>2</td>\n",
       "      <td>38</td>\n",
       "      <td>Private</td>\n",
       "      <td>HS-grad</td>\n",
       "      <td>9.0</td>\n",
       "      <td>Divorced</td>\n",
       "      <td>Handlers-cleaners</td>\n",
       "      <td>Not-in-family</td>\n",
       "      <td>White</td>\n",
       "      <td>Male</td>\n",
       "      <td>0.000000</td>\n",
       "      <td>0.0</td>\n",
       "      <td>40.0</td>\n",
       "      <td>United-States</td>\n",
       "      <td>0</td>\n",
       "    </tr>\n",
       "  </tbody>\n",
       "</table>\n",
       "</div>"
      ],
      "text/plain": [
       "   age          workclass education_level  education-num       marital-status  \\\n",
       "0   39          State-gov       Bachelors           13.0        Never-married   \n",
       "1   50   Self-emp-not-inc       Bachelors           13.0   Married-civ-spouse   \n",
       "2   38            Private         HS-grad            9.0             Divorced   \n",
       "\n",
       "           occupation    relationship    race    sex  capital-gain  \\\n",
       "0        Adm-clerical   Not-in-family   White   Male      7.684784   \n",
       "1     Exec-managerial         Husband   White   Male      0.000000   \n",
       "2   Handlers-cleaners   Not-in-family   White   Male      0.000000   \n",
       "\n",
       "   capital-loss  hours-per-week  native-country  income  \n",
       "0           0.0            40.0   United-States       0  \n",
       "1           0.0            13.0   United-States       0  \n",
       "2           0.0            40.0   United-States       0  "
      ]
     },
     "execution_count": 23,
     "metadata": {},
     "output_type": "execute_result"
    }
   ],
   "source": [
    "df.head(3)"
   ]
  },
  {
   "cell_type": "code",
   "execution_count": 24,
   "metadata": {},
   "outputs": [],
   "source": [
    "# Standard Scaling all the numerical columns\n",
    "from sklearn.preprocessing import StandardScaler\n",
    "scale= StandardScaler()\n",
    "\n",
    "numerical = ['age','education-num','capital-gain', 'capital-loss','hours-per-week']\n",
    "df[numerical]= scale.fit_transform(df[numerical])"
   ]
  },
  {
   "cell_type": "code",
   "execution_count": 25,
   "metadata": {},
   "outputs": [
    {
     "data": {
      "text/plain": [
       "Index(['education_level', 'income', 'marital-status', 'native-country',\n",
       "       'occupation', 'race', 'relationship', 'sex', 'workclass'],\n",
       "      dtype='object')"
      ]
     },
     "execution_count": 25,
     "metadata": {},
     "output_type": "execute_result"
    }
   ],
   "source": [
    "df.columns.difference(numerical)"
   ]
  },
  {
   "cell_type": "code",
   "execution_count": 26,
   "metadata": {},
   "outputs": [
    {
     "data": {
      "text/html": [
       "<div>\n",
       "<style scoped>\n",
       "    .dataframe tbody tr th:only-of-type {\n",
       "        vertical-align: middle;\n",
       "    }\n",
       "\n",
       "    .dataframe tbody tr th {\n",
       "        vertical-align: top;\n",
       "    }\n",
       "\n",
       "    .dataframe thead th {\n",
       "        text-align: right;\n",
       "    }\n",
       "</style>\n",
       "<table border=\"1\" class=\"dataframe\">\n",
       "  <thead>\n",
       "    <tr style=\"text-align: right;\">\n",
       "      <th></th>\n",
       "      <th>education_level_ 10th</th>\n",
       "      <th>education_level_ 11th</th>\n",
       "      <th>education_level_ 12th</th>\n",
       "      <th>education_level_ 1st-4th</th>\n",
       "      <th>education_level_ 5th-6th</th>\n",
       "      <th>education_level_ 7th-8th</th>\n",
       "      <th>education_level_ 9th</th>\n",
       "      <th>education_level_ Assoc-acdm</th>\n",
       "      <th>education_level_ Assoc-voc</th>\n",
       "      <th>education_level_ Bachelors</th>\n",
       "      <th>...</th>\n",
       "      <th>workclass_ Private</th>\n",
       "      <th>workclass_ Self-emp-inc</th>\n",
       "      <th>workclass_ Self-emp-not-inc</th>\n",
       "      <th>workclass_ State-gov</th>\n",
       "      <th>workclass_ Without-pay</th>\n",
       "      <th>age</th>\n",
       "      <th>education-num</th>\n",
       "      <th>capital-gain</th>\n",
       "      <th>capital-loss</th>\n",
       "      <th>hours-per-week</th>\n",
       "    </tr>\n",
       "  </thead>\n",
       "  <tbody>\n",
       "    <tr>\n",
       "      <td>0</td>\n",
       "      <td>0</td>\n",
       "      <td>0</td>\n",
       "      <td>0</td>\n",
       "      <td>0</td>\n",
       "      <td>0</td>\n",
       "      <td>0</td>\n",
       "      <td>0</td>\n",
       "      <td>0</td>\n",
       "      <td>0</td>\n",
       "      <td>1</td>\n",
       "      <td>...</td>\n",
       "      <td>0</td>\n",
       "      <td>0</td>\n",
       "      <td>0</td>\n",
       "      <td>1</td>\n",
       "      <td>0</td>\n",
       "      <td>0.034201</td>\n",
       "      <td>1.128753</td>\n",
       "      <td>2.815336</td>\n",
       "      <td>-0.222752</td>\n",
       "      <td>-0.07812</td>\n",
       "    </tr>\n",
       "  </tbody>\n",
       "</table>\n",
       "<p>1 rows × 103 columns</p>\n",
       "</div>"
      ],
      "text/plain": [
       "   education_level_ 10th  education_level_ 11th  education_level_ 12th  \\\n",
       "0                      0                      0                      0   \n",
       "\n",
       "   education_level_ 1st-4th  education_level_ 5th-6th  \\\n",
       "0                         0                         0   \n",
       "\n",
       "   education_level_ 7th-8th  education_level_ 9th  \\\n",
       "0                         0                     0   \n",
       "\n",
       "   education_level_ Assoc-acdm  education_level_ Assoc-voc  \\\n",
       "0                            0                           0   \n",
       "\n",
       "   education_level_ Bachelors  ...  workclass_ Private  \\\n",
       "0                           1  ...                   0   \n",
       "\n",
       "   workclass_ Self-emp-inc  workclass_ Self-emp-not-inc  workclass_ State-gov  \\\n",
       "0                        0                            0                     1   \n",
       "\n",
       "   workclass_ Without-pay       age  education-num  capital-gain  \\\n",
       "0                       0  0.034201       1.128753      2.815336   \n",
       "\n",
       "   capital-loss  hours-per-week  \n",
       "0     -0.222752        -0.07812  \n",
       "\n",
       "[1 rows x 103 columns]"
      ]
     },
     "execution_count": 26,
     "metadata": {},
     "output_type": "execute_result"
    }
   ],
   "source": [
    "# Undertaking a one hot encoding for the Categorical variables in the \n",
    "categorical= ['education_level','marital-status','native-country','occupation','race', 'relationship','sex','workclass']\n",
    "df_categorical= pd.get_dummies(df[categorical])\n",
    "df_categorical.shape\n",
    "\n",
    "df_numerical= df[numerical]\n",
    "\n",
    "#combining the numerical and the categorical dataframes together\n",
    "df_new= df_categorical.join(df_numerical, )\n",
    "df_new.head(1)"
   ]
  },
  {
   "cell_type": "code",
   "execution_count": 28,
   "metadata": {},
   "outputs": [],
   "source": [
    "# Sending the manipulated and cleaned data to a local csv file\n",
    "df_new.to_csv(r'C:\\Users\\srini\\Downloads\\intro-to-ml-tensorflow-master\\intro-to-ml-tensorflow-master\\projects\\p1_charityml\\df_new.csv',\\\n",
    "             index= False)"
   ]
  },
  {
   "cell_type": "code",
   "execution_count": 31,
   "metadata": {},
   "outputs": [],
   "source": [
    "df['income'].to_csv(r'C:\\Users\\srini\\Downloads\\intro-to-ml-tensorflow-master\\intro-to-ml-tensorflow-master\\projects\\p1_charityml\\df_y.csv',\\\n",
    "             header= True,index= False)"
   ]
  },
  {
   "cell_type": "markdown",
   "metadata": {},
   "source": [
    "### Predicting the response"
   ]
  },
  {
   "cell_type": "code",
   "execution_count": 28,
   "metadata": {},
   "outputs": [],
   "source": [
    "# Splitting the data into training and validation sets\n",
    "\n",
    "from sklearn.model_selection import train_test_split\n",
    "y= df['income']\n",
    "X_train, X_test, y_train, y_test = train_test_split(df_new, y, test_size= 0.30, random_state= 42,stratify= y)"
   ]
  },
  {
   "cell_type": "code",
   "execution_count": 29,
   "metadata": {},
   "outputs": [],
   "source": [
    "from sklearn.linear_model import LogisticRegression\n",
    "from sklearn.metrics import accuracy_score, fbeta_score, auc, roc_curve\n",
    "from sklearn.model_selection import GridSearchCV\n",
    "from sklearn.metrics import make_scorer\n",
    "from sklearn.svm import SVC\n",
    "from sklearn.naive_bayes import GaussianNB"
   ]
  },
  {
   "cell_type": "code",
   "execution_count": 33,
   "metadata": {},
   "outputs": [],
   "source": [
    "import time"
   ]
  },
  {
   "cell_type": "code",
   "execution_count": 34,
   "metadata": {},
   "outputs": [
    {
     "data": {
      "image/png": "[encoded data removed]",
      "text/plain": [
       "<Figure size 432x288 with 1 Axes>"
      ]
     },
     "metadata": {
      "needs_background": "light"
     },
     "output_type": "display_data"
    },
    {
     "name": "stdout",
     "output_type": "stream",
     "text": [
      "1.9530956745147705 s\n"
     ]
    }
   ],
   "source": [
    "# Using Logistic Regression to train the training dataset\n",
    "C_param= [0.1,1,10,100,1000] # C_param is the hyperparameter\n",
    "f_test_list= []\n",
    "f_train_list= []\n",
    "start= time.time()\n",
    "\n",
    "for c in C_param:\n",
    "    model= LogisticRegression(solver= 'liblinear',C= c)\n",
    "    model.fit(X_train, y_train)\n",
    "\n",
    "    prediction_train=model.predict(X_train)\n",
    "    prediction_test=model.predict(X_test)\n",
    "    \n",
    "    f_train=fbeta_score(y_train, prediction_train,beta=0.5 )\n",
    "    f_test= fbeta_score(y_test, prediction_test,beta=0.5 )\n",
    "     \n",
    "    f_train_list.append(f_train)\n",
    "    f_test_list.append(f_test)\n",
    "\n",
    "# Plotting AUC vs C parameter\n",
    "plt.scatter(x=C_param, y= f_train_list, label= 'Training')\n",
    "plt.scatter(x=C_param, y= f_test_list, label='Testing')\n",
    "plt.legend()\n",
    "plt.show()\n",
    "end= time.time()\n",
    "print(end-start,'s')"
   ]
  },
  {
   "cell_type": "code",
   "execution_count": 36,
   "metadata": {},
   "outputs": [],
   "source": [
    "from sklearn.preprocessing import PolynomialFeatures \n",
    "from time import time"
   ]
  },
  {
   "cell_type": "code",
   "execution_count": null,
   "metadata": {},
   "outputs": [],
   "source": [
    "# exploring the non-linear relationship between the predictors by transforming data to 2 degree polynomial\n",
    "poly = PolynomialFeatures(degree=2)\n",
    "X_poly= poly.fit_transform(df_new)"
   ]
  },
  {
   "cell_type": "code",
   "execution_count": null,
   "metadata": {},
   "outputs": [],
   "source": [
    "# Splitting the data into training and validation sets\n",
    "X_train_poly, X_test_poly, y_train, y_test = train_test_split(X_poly, y, test_size= 0.3, random_state= 35,stratify= y)"
   ]
  },
  {
   "cell_type": "code",
   "execution_count": null,
   "metadata": {},
   "outputs": [],
   "source": [
    "X_poly.shape"
   ]
  },
  {
   "cell_type": "code",
   "execution_count": null,
   "metadata": {},
   "outputs": [],
   "source": [
    "# Using Logistic Regression on polynomial features to train the training dataset\n",
    "C_param= [0.05,0.1,0.3]\n",
    "f_test_list= []\n",
    "f_train_list= []\n",
    "start= time()\n",
    "for c in C_param:\n",
    "    model= LogisticRegression(solver= 'liblinear',C= c)\n",
    "    model.fit(X_train_poly, y_train)\n",
    "\n",
    "    prediction_train=model.predict(X_train_poly)\n",
    "    prediction_test=model.predict(X_test_poly)\n",
    "    \n",
    "    f_train=fbeta_score(y_train, prediction_train,beta=0.5 )\n",
    "    f_test= fbeta_score(y_test, prediction_test,beta=0.5 )\n",
    "     \n",
    "    f_train_list.append(f_train)\n",
    "    f_test_list.append(f_test)\n",
    "\n",
    "# Plotting AUC vs C parameter\n",
    "plt.scatter(x=C_param, y= f_train_list, label= 'Training')\n",
    "plt.scatter(x=C_param, y= f_test_list, label='Testing')\n",
    "plt.legend()\n",
    "plt.show()\n",
    "end= time()\n",
    "print(end-start,'s')\n"
   ]
  },
  {
   "cell_type": "code",
   "execution_count": null,
   "metadata": {},
   "outputs": [],
   "source": [
    "poly = PolynomialFeatures(degree=2)\n",
    "X_poly= poly.fit_transform(df_new)\n",
    "\n",
    "model= LogisticRegression(solver= 'liblinear',C= 0.1)\n",
    "model.fit(X_poly, y)\n",
    "prediction_train=model.predict(X_poly)\n",
    "fbeta_score(y, prediction_train,beta=0.5 )"
   ]
  },
  {
   "cell_type": "code",
   "execution_count": 37,
   "metadata": {},
   "outputs": [],
   "source": [
    "X_train, X_test, y_train, y_test = train_test_split(df_new, y, test_size= 0.30, random_state= 35,stratify= y)"
   ]
  },
  {
   "cell_type": "code",
   "execution_count": null,
   "metadata": {},
   "outputs": [],
   "source": [
    "from sklearn.naive_bayes import GaussianNB"
   ]
  },
  {
   "cell_type": "code",
   "execution_count": null,
   "metadata": {},
   "outputs": [],
   "source": [
    "# Using Naive Bayes to predict\n",
    "\n",
    "model = GaussianNB()\n",
    "model.fit(X_train_poly, y_train)\n",
    "\n",
    "prediction_train=model.predict(X_train_poly)\n",
    "prediction_test=model.predict(X_test_poly)\n",
    "\n",
    "fbeta_score(y_train, prediction_train,beta=0.5 )"
   ]
  },
  {
   "cell_type": "code",
   "execution_count": null,
   "metadata": {},
   "outputs": [],
   "source": [
    "from sklearn.svm import SVC"
   ]
  },
  {
   "cell_type": "code",
   "execution_count": null,
   "metadata": {},
   "outputs": [],
   "source": [
    "# # Using SVM to train the model with RBF kernel\n",
    "\n",
    "# C_param= [0.1,1,10,100]\n",
    "# auc_test= []\n",
    "# auc_train= []\n",
    "# start= time()\n",
    "  \n",
    "# start= time()\n",
    "# model = SVC(kernel = 'poly',gamma = 'scale',C= 0.1,  )\n",
    "# model.fit(X_train, y_train)\n",
    "\n",
    "# prediction_train=model.predict(X_train)\n",
    "# prediction_test=model.predict(X_test)\n",
    "\n",
    "# fpr1, tpr1, threshold1= roc_curve(y_train, prediction_train, )\n",
    "# fpr2, tpr2, threshold2= roc_curve(y_test, prediction_test, )\n",
    "\n",
    "# auc_train.append(auc(fpr1,tpr1))\n",
    "# auc_test.append(auc(fpr2,tpr2))\n",
    "\n",
    "\n",
    "# # Plotting AUC vs C parameter\n",
    "# # plt.scatter(x=C_param, y= auc_train, label= 'Training')\n",
    "# # plt.scatter(x=C_param, y= auc_test, label='Testing')\n",
    "# # plt.legend()\n",
    "# # plt.show()\n",
    "# end= time()\n",
    "# print(end-start,'in s')\n",
    "# print(auc_train, auc_test)"
   ]
  },
  {
   "cell_type": "code",
   "execution_count": 38,
   "metadata": {},
   "outputs": [],
   "source": [
    "from sklearn.tree import DecisionTreeClassifier\n",
    "from sklearn.ensemble import RandomForestClassifier\n",
    "from sklearn.ensemble import AdaBoostClassifier"
   ]
  },
  {
   "cell_type": "code",
   "execution_count": 39,
   "metadata": {},
   "outputs": [
    {
     "name": "stdout",
     "output_type": "stream",
     "text": [
      "0.9665748690534046 0.6363803006232432\n"
     ]
    }
   ],
   "source": [
    "model= DecisionTreeClassifier(min_samples_leaf=1)\n",
    "\n",
    "model.fit(X_train, y_train)\n",
    "\n",
    "prediction_train=model.predict(X_train)\n",
    "prediction_test=model.predict(X_test)\n",
    "\n",
    "f_train=fbeta_score(y_train, prediction_train,beta=0.5 )\n",
    "f_test= fbeta_score(y_test, prediction_test,beta=0.5 )\n",
    "\n",
    "print(f_train, f_test)"
   ]
  },
  {
   "cell_type": "code",
   "execution_count": 54,
   "metadata": {},
   "outputs": [
    {
     "name": "stdout",
     "output_type": "stream",
     "text": [
      "1 2 0.9465153970826579 0.6649770315222556\n",
      "1 3 0.9309533150255002 0.6698610445615716\n",
      "1 4 0.9056203605514316 0.6718271246573133\n",
      "1 5 0.8846076660646197 0.6798839458413927\n",
      "2 2 0.7597116259536641 0.6892710892710893\n",
      "2 3 0.7608771806908149 0.6838198911429986\n",
      "2 4 0.7593253551683112 0.6894051738342395\n",
      "2 5 0.7553901257110753 0.6869952200428548\n",
      "3 2 0.7248797056326067 0.6870983687592686\n",
      "3 3 0.7269762495568948 0.6871794871794873\n",
      "3 4 0.7255109979489355 0.6865177832919769\n",
      "3 5 0.7250849377123443 0.6874484578591458\n",
      "4 2 0.7110953058321479 0.6869723555702699\n",
      "4 3 0.7133476088508209 0.6859133897461424\n",
      "4 4 0.7095711933567185 0.6832360300250208\n",
      "4 5 0.709433423719138 0.6844119114955913\n",
      "5 2 0.7021656779358159 0.6804605372935091\n",
      "5 3 0.7033752860411899 0.6834556370913943\n",
      "5 4 0.7031082529474814 0.6814395201599467\n",
      "5 5 0.7035663338088445 0.6826506826506826\n"
     ]
    }
   ],
   "source": [
    "# Random Forest Classifier\n",
    "K= [1,2,3,4,5]\n",
    "esti = [2,3,4,5]\n",
    "f_train_list=[]\n",
    "f_test_list=[]\n",
    "\n",
    "for k in K:\n",
    "    for e in esti:\n",
    "        model= RandomForestClassifier(n_estimators=150,criterion= 'entropy', max_depth=50, min_samples_leaf=k,\\\n",
    "                                      min_samples_split= e  )\n",
    "\n",
    "        model.fit(X_train, y_train)\n",
    "\n",
    "        prediction_train=model.predict(X_train)\n",
    "        prediction_test=model.predict(X_test)\n",
    "\n",
    "        f_train=fbeta_score(y_train, prediction_train,beta=1)\n",
    "        f_test= fbeta_score(y_test, prediction_test,beta=1 )\n",
    "\n",
    "        f_train_list.append(f_train)\n",
    "        f_test_list.append(f_test)\n",
    "        print(k,e,f_train, f_test)\n"
   ]
  },
  {
   "cell_type": "code",
   "execution_count": 100,
   "metadata": {},
   "outputs": [
    {
     "data": {
      "text/html": [
       "<div>\n",
       "<style scoped>\n",
       "    .dataframe tbody tr th:only-of-type {\n",
       "        vertical-align: middle;\n",
       "    }\n",
       "\n",
       "    .dataframe tbody tr th {\n",
       "        vertical-align: top;\n",
       "    }\n",
       "\n",
       "    .dataframe thead th {\n",
       "        text-align: right;\n",
       "    }\n",
       "</style>\n",
       "<table border=\"1\" class=\"dataframe\">\n",
       "  <thead>\n",
       "    <tr style=\"text-align: right;\">\n",
       "      <th></th>\n",
       "      <th>Feature</th>\n",
       "      <th>Importance</th>\n",
       "      <th>Columns</th>\n",
       "    </tr>\n",
       "  </thead>\n",
       "  <tbody>\n",
       "    <tr>\n",
       "      <td>0</td>\n",
       "      <td>education_level_ 10th</td>\n",
       "      <td>0.002103</td>\n",
       "      <td>education</td>\n",
       "    </tr>\n",
       "    <tr>\n",
       "      <td>1</td>\n",
       "      <td>education_level_ 11th</td>\n",
       "      <td>0.002585</td>\n",
       "      <td>education</td>\n",
       "    </tr>\n",
       "    <tr>\n",
       "      <td>2</td>\n",
       "      <td>education_level_ 12th</td>\n",
       "      <td>0.000945</td>\n",
       "      <td>education</td>\n",
       "    </tr>\n",
       "    <tr>\n",
       "      <td>3</td>\n",
       "      <td>education_level_ 1st-4th</td>\n",
       "      <td>0.000350</td>\n",
       "      <td>education</td>\n",
       "    </tr>\n",
       "    <tr>\n",
       "      <td>4</td>\n",
       "      <td>education_level_ 5th-6th</td>\n",
       "      <td>0.001060</td>\n",
       "      <td>education</td>\n",
       "    </tr>\n",
       "  </tbody>\n",
       "</table>\n",
       "</div>"
      ],
      "text/plain": [
       "                    Feature  Importance    Columns\n",
       "0     education_level_ 10th    0.002103  education\n",
       "1     education_level_ 11th    0.002585  education\n",
       "2     education_level_ 12th    0.000945  education\n",
       "3  education_level_ 1st-4th    0.000350  education\n",
       "4  education_level_ 5th-6th    0.001060  education"
      ]
     },
     "execution_count": 100,
     "metadata": {},
     "output_type": "execute_result"
    }
   ],
   "source": [
    "# Seeing the relative importance of different features in the dataset\n",
    "imp =pd.DataFrame({'Feature':X_train.columns, 'Importance':model.feature_importances_})\n",
    "imp['Columns']= imp['Feature'].apply(lambda x: x.split('_')[0])\n",
    "imp.groupby(by='Columns', ).sum().sort_values(by='Importance', ascending= False)"
   ]
  },
  {
   "cell_type": "code",
   "execution_count": 122,
   "metadata": {},
   "outputs": [
    {
     "data": {
      "text/html": [
       "<div>\n",
       "<style scoped>\n",
       "    .dataframe tbody tr th:only-of-type {\n",
       "        vertical-align: middle;\n",
       "    }\n",
       "\n",
       "    .dataframe tbody tr th {\n",
       "        vertical-align: top;\n",
       "    }\n",
       "\n",
       "    .dataframe thead th {\n",
       "        text-align: right;\n",
       "    }\n",
       "</style>\n",
       "<table border=\"1\" class=\"dataframe\">\n",
       "  <thead>\n",
       "    <tr style=\"text-align: right;\">\n",
       "      <th></th>\n",
       "      <th>marital-status_ Divorced</th>\n",
       "      <th>marital-status_ Married-AF-spouse</th>\n",
       "      <th>marital-status_ Married-civ-spouse</th>\n",
       "      <th>marital-status_ Married-spouse-absent</th>\n",
       "      <th>marital-status_ Never-married</th>\n",
       "      <th>marital-status_ Separated</th>\n",
       "      <th>marital-status_ Widowed</th>\n",
       "      <th>occupation_ Adm-clerical</th>\n",
       "      <th>occupation_ Armed-Forces</th>\n",
       "      <th>occupation_ Craft-repair</th>\n",
       "      <th>...</th>\n",
       "      <th>workclass_ Private</th>\n",
       "      <th>workclass_ Self-emp-inc</th>\n",
       "      <th>workclass_ Self-emp-not-inc</th>\n",
       "      <th>workclass_ State-gov</th>\n",
       "      <th>workclass_ Without-pay</th>\n",
       "      <th>age</th>\n",
       "      <th>education-num</th>\n",
       "      <th>capital-gain</th>\n",
       "      <th>capital-loss</th>\n",
       "      <th>hours-per-week</th>\n",
       "    </tr>\n",
       "  </thead>\n",
       "  <tbody>\n",
       "    <tr>\n",
       "      <td>0</td>\n",
       "      <td>0</td>\n",
       "      <td>0</td>\n",
       "      <td>0</td>\n",
       "      <td>0</td>\n",
       "      <td>1</td>\n",
       "      <td>0</td>\n",
       "      <td>0</td>\n",
       "      <td>1</td>\n",
       "      <td>0</td>\n",
       "      <td>0</td>\n",
       "      <td>...</td>\n",
       "      <td>0</td>\n",
       "      <td>0</td>\n",
       "      <td>0</td>\n",
       "      <td>1</td>\n",
       "      <td>0</td>\n",
       "      <td>0.034201</td>\n",
       "      <td>1.128753</td>\n",
       "      <td>2.815336</td>\n",
       "      <td>-0.222752</td>\n",
       "      <td>-0.07812</td>\n",
       "    </tr>\n",
       "  </tbody>\n",
       "</table>\n",
       "<p>1 rows × 39 columns</p>\n",
       "</div>"
      ],
      "text/plain": [
       "   marital-status_ Divorced  marital-status_ Married-AF-spouse  \\\n",
       "0                         0                                  0   \n",
       "\n",
       "   marital-status_ Married-civ-spouse  marital-status_ Married-spouse-absent  \\\n",
       "0                                   0                                      0   \n",
       "\n",
       "   marital-status_ Never-married  marital-status_ Separated  \\\n",
       "0                              1                          0   \n",
       "\n",
       "   marital-status_ Widowed  occupation_ Adm-clerical  \\\n",
       "0                        0                         1   \n",
       "\n",
       "   occupation_ Armed-Forces  occupation_ Craft-repair  ...  \\\n",
       "0                         0                         0  ...   \n",
       "\n",
       "   workclass_ Private  workclass_ Self-emp-inc  workclass_ Self-emp-not-inc  \\\n",
       "0                   0                        0                            0   \n",
       "\n",
       "   workclass_ State-gov  workclass_ Without-pay       age  education-num  \\\n",
       "0                     1                       0  0.034201       1.128753   \n",
       "\n",
       "   capital-gain  capital-loss  hours-per-week  \n",
       "0      2.815336     -0.222752        -0.07812  \n",
       "\n",
       "[1 rows x 39 columns]"
      ]
     },
     "execution_count": 122,
     "metadata": {},
     "output_type": "execute_result"
    }
   ],
   "source": [
    "# Undertaking a one hot encoding for the Categorical variables in the \n",
    "categorical= ['marital-status','occupation', 'relationship','workclass']\n",
    "df_categorical2= pd.get_dummies(df[categorical])\n",
    "\n",
    "df_numerical= df[numerical]\n",
    "\n",
    "#combining the numerical and the categorical dataframes together\n",
    "df_new_drop= df_categorical2.join(df_numerical, )\n",
    "df_new_drop.head(1)"
   ]
  },
  {
   "cell_type": "code",
   "execution_count": 123,
   "metadata": {},
   "outputs": [],
   "source": [
    "X_train, X_test, y_train, y_test = train_test_split(df_new_drop, y, test_size= 0.30, random_state= 42,stratify= y)"
   ]
  },
  {
   "cell_type": "code",
   "execution_count": 124,
   "metadata": {},
   "outputs": [
    {
     "name": "stdout",
     "output_type": "stream",
     "text": [
      "40 130 0.9504171088959981 0.7645806913070863\n"
     ]
    }
   ],
   "source": [
    "# Random Forest Classifier that generalized best was with hyperparameter with n_estimators=130 and max_depth =40\n",
    "model= RandomForestClassifier(n_estimators=130,criterion= 'entropy', max_depth=40   )\n",
    "\n",
    "model.fit(X_train, y_train)\n",
    "\n",
    "prediction_train=model.predict(X_train)\n",
    "prediction_test=model.predict(X_test)\n",
    "\n",
    "fpr1, tpr1, threshold1= roc_curve(y_train, prediction_train, )\n",
    "fpr2, tpr2, threshold2= roc_curve(y_test, prediction_test, )\n",
    "\n",
    "auc_train=auc(fpr1,tpr1)\n",
    "auc_test =auc(fpr2,tpr2)\n",
    "print(k,e,auc_train, auc_test)"
   ]
  },
  {
   "cell_type": "code",
   "execution_count": 125,
   "metadata": {},
   "outputs": [
    {
     "data": {
      "text/html": [
       "<div>\n",
       "<style scoped>\n",
       "    .dataframe tbody tr th:only-of-type {\n",
       "        vertical-align: middle;\n",
       "    }\n",
       "\n",
       "    .dataframe tbody tr th {\n",
       "        vertical-align: top;\n",
       "    }\n",
       "\n",
       "    .dataframe thead th {\n",
       "        text-align: right;\n",
       "    }\n",
       "</style>\n",
       "<table border=\"1\" class=\"dataframe\">\n",
       "  <thead>\n",
       "    <tr style=\"text-align: right;\">\n",
       "      <th></th>\n",
       "      <th>Importance</th>\n",
       "    </tr>\n",
       "    <tr>\n",
       "      <th>Columns</th>\n",
       "      <th></th>\n",
       "    </tr>\n",
       "  </thead>\n",
       "  <tbody>\n",
       "    <tr>\n",
       "      <td>age</td>\n",
       "      <td>0.252589</td>\n",
       "    </tr>\n",
       "    <tr>\n",
       "      <td>education-num</td>\n",
       "      <td>0.126917</td>\n",
       "    </tr>\n",
       "    <tr>\n",
       "      <td>marital-status</td>\n",
       "      <td>0.126204</td>\n",
       "    </tr>\n",
       "    <tr>\n",
       "      <td>hours-per-week</td>\n",
       "      <td>0.123447</td>\n",
       "    </tr>\n",
       "    <tr>\n",
       "      <td>capital-gain</td>\n",
       "      <td>0.111172</td>\n",
       "    </tr>\n",
       "    <tr>\n",
       "      <td>relationship</td>\n",
       "      <td>0.094602</td>\n",
       "    </tr>\n",
       "    <tr>\n",
       "      <td>occupation</td>\n",
       "      <td>0.086414</td>\n",
       "    </tr>\n",
       "    <tr>\n",
       "      <td>workclass</td>\n",
       "      <td>0.040680</td>\n",
       "    </tr>\n",
       "    <tr>\n",
       "      <td>capital-loss</td>\n",
       "      <td>0.037975</td>\n",
       "    </tr>\n",
       "  </tbody>\n",
       "</table>\n",
       "</div>"
      ],
      "text/plain": [
       "                Importance\n",
       "Columns                   \n",
       "age               0.252589\n",
       "education-num     0.126917\n",
       "marital-status    0.126204\n",
       "hours-per-week    0.123447\n",
       "capital-gain      0.111172\n",
       "relationship      0.094602\n",
       "occupation        0.086414\n",
       "workclass         0.040680\n",
       "capital-loss      0.037975"
      ]
     },
     "execution_count": 125,
     "metadata": {},
     "output_type": "execute_result"
    }
   ],
   "source": [
    "# Finding the relative importance betweent he predictors\n",
    "imp =pd.DataFrame({'Feature':X_train.columns, 'Importance':model.feature_importances_})\n",
    "imp['Columns']= imp['Feature'].apply(lambda x: x.split('_')[0])\n",
    "imp.groupby(by='Columns', ).sum().sort_values(by='Importance', ascending= False)"
   ]
  },
  {
   "cell_type": "code",
   "execution_count": 29,
   "metadata": {},
   "outputs": [
    {
     "data": {
      "text/html": [
       "<div>\n",
       "<style scoped>\n",
       "    .dataframe tbody tr th:only-of-type {\n",
       "        vertical-align: middle;\n",
       "    }\n",
       "\n",
       "    .dataframe tbody tr th {\n",
       "        vertical-align: top;\n",
       "    }\n",
       "\n",
       "    .dataframe thead th {\n",
       "        text-align: right;\n",
       "    }\n",
       "</style>\n",
       "<table border=\"1\" class=\"dataframe\">\n",
       "  <thead>\n",
       "    <tr style=\"text-align: right;\">\n",
       "      <th></th>\n",
       "      <th>Unnamed: 0</th>\n",
       "      <th>age</th>\n",
       "      <th>workclass</th>\n",
       "      <th>education_level</th>\n",
       "      <th>education-num</th>\n",
       "      <th>marital-status</th>\n",
       "      <th>occupation</th>\n",
       "      <th>relationship</th>\n",
       "      <th>race</th>\n",
       "      <th>sex</th>\n",
       "      <th>capital-gain</th>\n",
       "      <th>capital-loss</th>\n",
       "      <th>hours-per-week</th>\n",
       "      <th>native-country</th>\n",
       "    </tr>\n",
       "  </thead>\n",
       "  <tbody>\n",
       "    <tr>\n",
       "      <td>0</td>\n",
       "      <td>0</td>\n",
       "      <td>21.0</td>\n",
       "      <td>Private</td>\n",
       "      <td>10th</td>\n",
       "      <td>6.0</td>\n",
       "      <td>Married-civ-spouse</td>\n",
       "      <td>Craft-repair</td>\n",
       "      <td>Husband</td>\n",
       "      <td>White</td>\n",
       "      <td>Male</td>\n",
       "      <td>0.0</td>\n",
       "      <td>0.0</td>\n",
       "      <td>40.0</td>\n",
       "      <td>United-States</td>\n",
       "    </tr>\n",
       "    <tr>\n",
       "      <td>1</td>\n",
       "      <td>1</td>\n",
       "      <td>49.0</td>\n",
       "      <td>Private</td>\n",
       "      <td>Bachelors</td>\n",
       "      <td>13.0</td>\n",
       "      <td>Married-civ-spouse</td>\n",
       "      <td>Adm-clerical</td>\n",
       "      <td>Wife</td>\n",
       "      <td>White</td>\n",
       "      <td>Female</td>\n",
       "      <td>0.0</td>\n",
       "      <td>0.0</td>\n",
       "      <td>40.0</td>\n",
       "      <td>United-States</td>\n",
       "    </tr>\n",
       "    <tr>\n",
       "      <td>2</td>\n",
       "      <td>2</td>\n",
       "      <td>44.0</td>\n",
       "      <td>Self-emp-not-inc</td>\n",
       "      <td>Assoc-acdm</td>\n",
       "      <td>12.0</td>\n",
       "      <td>Married-civ-spouse</td>\n",
       "      <td>Other-service</td>\n",
       "      <td>Wife</td>\n",
       "      <td>White</td>\n",
       "      <td>Female</td>\n",
       "      <td>0.0</td>\n",
       "      <td>0.0</td>\n",
       "      <td>99.0</td>\n",
       "      <td>United-States</td>\n",
       "    </tr>\n",
       "    <tr>\n",
       "      <td>3</td>\n",
       "      <td>3</td>\n",
       "      <td>34.0</td>\n",
       "      <td>Private</td>\n",
       "      <td>Bachelors</td>\n",
       "      <td>13.0</td>\n",
       "      <td>Married-civ-spouse</td>\n",
       "      <td>Sales</td>\n",
       "      <td>Husband</td>\n",
       "      <td>White</td>\n",
       "      <td>Male</td>\n",
       "      <td>7298.0</td>\n",
       "      <td>0.0</td>\n",
       "      <td>46.0</td>\n",
       "      <td>United-States</td>\n",
       "    </tr>\n",
       "    <tr>\n",
       "      <td>4</td>\n",
       "      <td>4</td>\n",
       "      <td>24.0</td>\n",
       "      <td>Private</td>\n",
       "      <td>HS-grad</td>\n",
       "      <td>9.0</td>\n",
       "      <td>Married-civ-spouse</td>\n",
       "      <td>Machine-op-inspct</td>\n",
       "      <td>Husband</td>\n",
       "      <td>White</td>\n",
       "      <td>Male</td>\n",
       "      <td>0.0</td>\n",
       "      <td>0.0</td>\n",
       "      <td>40.0</td>\n",
       "      <td>United-States</td>\n",
       "    </tr>\n",
       "  </tbody>\n",
       "</table>\n",
       "</div>"
      ],
      "text/plain": [
       "   Unnamed: 0   age          workclass education_level  education-num  \\\n",
       "0           0  21.0            Private            10th            6.0   \n",
       "1           1  49.0            Private       Bachelors           13.0   \n",
       "2           2  44.0   Self-emp-not-inc      Assoc-acdm           12.0   \n",
       "3           3  34.0            Private       Bachelors           13.0   \n",
       "4           4  24.0            Private         HS-grad            9.0   \n",
       "\n",
       "        marital-status          occupation relationship    race      sex  \\\n",
       "0   Married-civ-spouse        Craft-repair      Husband   White     Male   \n",
       "1   Married-civ-spouse        Adm-clerical         Wife   White   Female   \n",
       "2   Married-civ-spouse       Other-service         Wife   White   Female   \n",
       "3   Married-civ-spouse               Sales      Husband   White     Male   \n",
       "4   Married-civ-spouse   Machine-op-inspct      Husband   White     Male   \n",
       "\n",
       "   capital-gain  capital-loss  hours-per-week  native-country  \n",
       "0           0.0           0.0            40.0   United-States  \n",
       "1           0.0           0.0            40.0   United-States  \n",
       "2           0.0           0.0            99.0   United-States  \n",
       "3        7298.0           0.0            46.0   United-States  \n",
       "4           0.0           0.0            40.0   United-States  "
      ]
     },
     "execution_count": 29,
     "metadata": {},
     "output_type": "execute_result"
    }
   ],
   "source": [
    "# importing the testing data\n",
    "\n",
    "test = pd.read_csv(r'C:\\Users\\srini\\Downloads\\intro-to-ml-tensorflow-master\\intro-to-ml-tensorflow-master\\projects\\p1_charityml\\test_census.csv')#,\\\n",
    "#dtype= {'age': float, 'education-num': float,'capital-gain': float,'capital-loss': float,'hours-per-week': float,'income': int})\n",
    "test.head()"
   ]
  },
  {
   "cell_type": "code",
   "execution_count": 30,
   "metadata": {},
   "outputs": [
    {
     "name": "stdout",
     "output_type": "stream",
     "text": [
      "<class 'pandas.core.frame.DataFrame'>\n",
      "RangeIndex: 45222 entries, 0 to 45221\n",
      "Data columns (total 14 columns):\n",
      "Unnamed: 0         45222 non-null int64\n",
      "age                45205 non-null float64\n",
      "workclass          45200 non-null object\n",
      "education_level    45202 non-null object\n",
      "education-num      45208 non-null float64\n",
      "marital-status     45201 non-null object\n",
      "occupation         45200 non-null object\n",
      "relationship       45206 non-null object\n",
      "race               45203 non-null object\n",
      "sex                45203 non-null object\n",
      "capital-gain       45207 non-null float64\n",
      "capital-loss       45205 non-null float64\n",
      "hours-per-week     45209 non-null float64\n",
      "native-country     45206 non-null object\n",
      "dtypes: float64(5), int64(1), object(8)\n",
      "memory usage: 4.8+ MB\n"
     ]
    }
   ],
   "source": [
    "test.info()"
   ]
  },
  {
   "cell_type": "code",
   "execution_count": 31,
   "metadata": {},
   "outputs": [
    {
     "data": {
      "text/html": [
       "<div>\n",
       "<style scoped>\n",
       "    .dataframe tbody tr th:only-of-type {\n",
       "        vertical-align: middle;\n",
       "    }\n",
       "\n",
       "    .dataframe tbody tr th {\n",
       "        vertical-align: top;\n",
       "    }\n",
       "\n",
       "    .dataframe thead th {\n",
       "        text-align: right;\n",
       "    }\n",
       "</style>\n",
       "<table border=\"1\" class=\"dataframe\">\n",
       "  <thead>\n",
       "    <tr style=\"text-align: right;\">\n",
       "      <th></th>\n",
       "      <th>id</th>\n",
       "      <th>age</th>\n",
       "      <th>workclass</th>\n",
       "      <th>education_level</th>\n",
       "      <th>education-num</th>\n",
       "      <th>marital-status</th>\n",
       "      <th>occupation</th>\n",
       "      <th>relationship</th>\n",
       "      <th>race</th>\n",
       "      <th>sex</th>\n",
       "      <th>capital-gain</th>\n",
       "      <th>capital-loss</th>\n",
       "      <th>hours-per-week</th>\n",
       "      <th>native-country</th>\n",
       "    </tr>\n",
       "  </thead>\n",
       "  <tbody>\n",
       "    <tr>\n",
       "      <td>0</td>\n",
       "      <td>0</td>\n",
       "      <td>21.0</td>\n",
       "      <td>Private</td>\n",
       "      <td>10th</td>\n",
       "      <td>6.0</td>\n",
       "      <td>Married-civ-spouse</td>\n",
       "      <td>Craft-repair</td>\n",
       "      <td>Husband</td>\n",
       "      <td>White</td>\n",
       "      <td>Male</td>\n",
       "      <td>0.0</td>\n",
       "      <td>0.0</td>\n",
       "      <td>40.0</td>\n",
       "      <td>United-States</td>\n",
       "    </tr>\n",
       "  </tbody>\n",
       "</table>\n",
       "</div>"
      ],
      "text/plain": [
       "   id   age workclass education_level  education-num       marital-status  \\\n",
       "0   0  21.0   Private            10th            6.0   Married-civ-spouse   \n",
       "\n",
       "      occupation relationship    race    sex  capital-gain  capital-loss  \\\n",
       "0   Craft-repair      Husband   White   Male           0.0           0.0   \n",
       "\n",
       "   hours-per-week  native-country  \n",
       "0            40.0   United-States  "
      ]
     },
     "execution_count": 31,
     "metadata": {},
     "output_type": "execute_result"
    }
   ],
   "source": [
    "# Data manipulation on the test data\n",
    "test.columns\n",
    "\n",
    "test.rename(columns={'Unnamed: 0':'id'}, inplace=True)\n",
    "\n",
    "test.head(1)"
   ]
  },
  {
   "cell_type": "code",
   "execution_count": 32,
   "metadata": {},
   "outputs": [],
   "source": [
    "# Changing to log values\n",
    "test['capital-loss']= np.log(test['capital-loss']+1)\n",
    "test['capital-gain']= np.log(test['capital-gain']+1)"
   ]
  },
  {
   "cell_type": "code",
   "execution_count": 33,
   "metadata": {},
   "outputs": [],
   "source": [
    "#Scaling all the numerical columns\n",
    "scale= StandardScaler()\n",
    "\n",
    "numerical = ['age','education-num','capital-gain', 'capital-loss','hours-per-week']\n",
    "test[numerical]= scale.fit_transform(test[numerical])"
   ]
  },
  {
   "cell_type": "code",
   "execution_count": 34,
   "metadata": {},
   "outputs": [
    {
     "data": {
      "text/plain": [
       "capital-gain   -0.300342\n",
       "capital-loss   -0.222741\n",
       "dtype: float64"
      ]
     },
     "execution_count": 34,
     "metadata": {},
     "output_type": "execute_result"
    }
   ],
   "source": [
    "test[['capital-gain', 'capital-loss',]].median(axis=0)"
   ]
  },
  {
   "cell_type": "code",
   "execution_count": 35,
   "metadata": {},
   "outputs": [
    {
     "data": {
      "text/plain": [
       "id                  0\n",
       "age                17\n",
       "workclass          22\n",
       "education_level    20\n",
       "education-num      14\n",
       "marital-status     21\n",
       "occupation         22\n",
       "relationship       16\n",
       "race               19\n",
       "sex                19\n",
       "capital-gain        0\n",
       "capital-loss        0\n",
       "hours-per-week     13\n",
       "native-country     16\n",
       "dtype: int64"
      ]
     },
     "execution_count": 35,
     "metadata": {},
     "output_type": "execute_result"
    }
   ],
   "source": [
    "test.fillna(value={'capital-gain':-0.300342,'capital-loss':-0.222741}, inplace= True)\n",
    "test.isna().sum()"
   ]
  },
  {
   "cell_type": "code",
   "execution_count": 36,
   "metadata": {},
   "outputs": [
    {
     "name": "stderr",
     "output_type": "stream",
     "text": [
      "C:\\Users\\srini\\AppData\\Local\\Continuum\\anaconda3\\lib\\site-packages\\pandas\\core\\generic.py:6287: SettingWithCopyWarning: \n",
      "A value is trying to be set on a copy of a slice from a DataFrame\n",
      "\n",
      "See the caveats in the documentation: http://pandas.pydata.org/pandas-docs/stable/user_guide/indexing.html#returning-a-view-versus-a-copy\n",
      "  self._update_inplace(new_data)\n"
     ]
    }
   ],
   "source": [
    "test_numerical= test[numerical]\n",
    "test_numerical.fillna(test_numerical.mean(),inplace= True )"
   ]
  },
  {
   "cell_type": "code",
   "execution_count": 37,
   "metadata": {},
   "outputs": [
    {
     "data": {
      "text/plain": [
       "age               0\n",
       "education-num     0\n",
       "capital-gain      0\n",
       "capital-loss      0\n",
       "hours-per-week    0\n",
       "dtype: int64"
      ]
     },
     "execution_count": 37,
     "metadata": {},
     "output_type": "execute_result"
    }
   ],
   "source": [
    "test_numerical.isna().sum()"
   ]
  },
  {
   "cell_type": "code",
   "execution_count": 38,
   "metadata": {},
   "outputs": [
    {
     "data": {
      "text/plain": [
       "education_level    20\n",
       "marital-status     21\n",
       "native-country     16\n",
       "occupation         22\n",
       "race               19\n",
       "relationship       16\n",
       "sex                19\n",
       "workclass          22\n",
       "dtype: int64"
      ]
     },
     "execution_count": 38,
     "metadata": {},
     "output_type": "execute_result"
    }
   ],
   "source": [
    "categorical= ['education_level','marital-status','native-country','occupation','race', 'relationship','sex','workclass']\n",
    "test_cat = test[categorical]\n",
    "test_cat.isna().sum()"
   ]
  },
  {
   "cell_type": "code",
   "execution_count": 39,
   "metadata": {},
   "outputs": [
    {
     "data": {
      "text/plain": [
       "education_level    0\n",
       "marital-status     0\n",
       "native-country     0\n",
       "occupation         0\n",
       "race               0\n",
       "relationship       0\n",
       "sex                0\n",
       "workclass          0\n",
       "dtype: int64"
      ]
     },
     "execution_count": 39,
     "metadata": {},
     "output_type": "execute_result"
    }
   ],
   "source": [
    "values = {'education_level':'HS-grad', 'marital-status': 'Married-civ-spouse', 'native-country':'United-States',\\\n",
    "          'occupation':'Craft-repair', 'race':'White', 'relationship':'Husband', 'sex':'Male', 'workclass':'Private'}\n",
    "test_cat.fillna(values, inplace= True)\n",
    "test_cat.isna().sum()"
   ]
  },
  {
   "cell_type": "code",
   "execution_count": 40,
   "metadata": {},
   "outputs": [
    {
     "name": "stdout",
     "output_type": "stream",
     "text": [
      "(45222, 98)\n"
     ]
    },
    {
     "data": {
      "text/html": [
       "<div>\n",
       "<style scoped>\n",
       "    .dataframe tbody tr th:only-of-type {\n",
       "        vertical-align: middle;\n",
       "    }\n",
       "\n",
       "    .dataframe tbody tr th {\n",
       "        vertical-align: top;\n",
       "    }\n",
       "\n",
       "    .dataframe thead th {\n",
       "        text-align: right;\n",
       "    }\n",
       "</style>\n",
       "<table border=\"1\" class=\"dataframe\">\n",
       "  <thead>\n",
       "    <tr style=\"text-align: right;\">\n",
       "      <th></th>\n",
       "      <th>education_level_ 10th</th>\n",
       "      <th>education_level_ 11th</th>\n",
       "      <th>education_level_ 12th</th>\n",
       "      <th>education_level_ 1st-4th</th>\n",
       "      <th>education_level_ 5th-6th</th>\n",
       "      <th>education_level_ 7th-8th</th>\n",
       "      <th>education_level_ 9th</th>\n",
       "      <th>education_level_ Assoc-acdm</th>\n",
       "      <th>education_level_ Assoc-voc</th>\n",
       "      <th>education_level_ Bachelors</th>\n",
       "      <th>...</th>\n",
       "      <th>workclass_ Private</th>\n",
       "      <th>workclass_ Self-emp-inc</th>\n",
       "      <th>workclass_ Self-emp-not-inc</th>\n",
       "      <th>workclass_ State-gov</th>\n",
       "      <th>workclass_ Without-pay</th>\n",
       "      <th>age</th>\n",
       "      <th>education-num</th>\n",
       "      <th>capital-gain</th>\n",
       "      <th>capital-loss</th>\n",
       "      <th>hours-per-week</th>\n",
       "    </tr>\n",
       "  </thead>\n",
       "  <tbody>\n",
       "    <tr>\n",
       "      <td>0</td>\n",
       "      <td>1</td>\n",
       "      <td>0</td>\n",
       "      <td>0</td>\n",
       "      <td>0</td>\n",
       "      <td>0</td>\n",
       "      <td>0</td>\n",
       "      <td>0</td>\n",
       "      <td>0</td>\n",
       "      <td>0</td>\n",
       "      <td>0</td>\n",
       "      <td>...</td>\n",
       "      <td>1</td>\n",
       "      <td>0</td>\n",
       "      <td>0</td>\n",
       "      <td>0</td>\n",
       "      <td>0</td>\n",
       "      <td>-1.327686</td>\n",
       "      <td>-1.613345</td>\n",
       "      <td>-0.300342</td>\n",
       "      <td>-0.222741</td>\n",
       "      <td>-0.078231</td>\n",
       "    </tr>\n",
       "  </tbody>\n",
       "</table>\n",
       "<p>1 rows × 103 columns</p>\n",
       "</div>"
      ],
      "text/plain": [
       "   education_level_ 10th  education_level_ 11th  education_level_ 12th  \\\n",
       "0                      1                      0                      0   \n",
       "\n",
       "   education_level_ 1st-4th  education_level_ 5th-6th  \\\n",
       "0                         0                         0   \n",
       "\n",
       "   education_level_ 7th-8th  education_level_ 9th  \\\n",
       "0                         0                     0   \n",
       "\n",
       "   education_level_ Assoc-acdm  education_level_ Assoc-voc  \\\n",
       "0                            0                           0   \n",
       "\n",
       "   education_level_ Bachelors  ...  workclass_ Private  \\\n",
       "0                           0  ...                   1   \n",
       "\n",
       "   workclass_ Self-emp-inc  workclass_ Self-emp-not-inc  workclass_ State-gov  \\\n",
       "0                        0                            0                     0   \n",
       "\n",
       "   workclass_ Without-pay       age  education-num  capital-gain  \\\n",
       "0                       0 -1.327686      -1.613345     -0.300342   \n",
       "\n",
       "   capital-loss  hours-per-week  \n",
       "0     -0.222741       -0.078231  \n",
       "\n",
       "[1 rows x 103 columns]"
      ]
     },
     "execution_count": 40,
     "metadata": {},
     "output_type": "execute_result"
    }
   ],
   "source": [
    "# Undertaking a one hot encoding for the Categorical variables in the \n",
    "\n",
    "test_categorical= pd.get_dummies(test[categorical])\n",
    "print(test_categorical.shape)\n",
    "\n",
    "#combining the numerical and the categorical dataframes together\n",
    "test_new= test_categorical.join(test_numerical, )\n",
    "test_new.head(1)"
   ]
  },
  {
   "cell_type": "code",
   "execution_count": 41,
   "metadata": {},
   "outputs": [],
   "source": [
    "test_new.to_csv(r'C:\\Users\\srini\\Downloads\\intro-to-ml-tensorflow-master\\intro-to-ml-tensorflow-master\\projects\\p1_charityml\\test_new.csv',\\\n",
    "               index= False)"
   ]
  },
  {
   "cell_type": "code",
   "execution_count": 92,
   "metadata": {},
   "outputs": [
    {
     "data": {
      "text/plain": [
       "0.9483803437637728"
      ]
     },
     "execution_count": 92,
     "metadata": {},
     "output_type": "execute_result"
    }
   ],
   "source": [
    "# Predicting the response for the test data\n",
    "model= RandomForestClassifier(n_estimators=150,criterion= 'entropy', max_depth=50, min_samples_leaf=1,\\\n",
    "                             min_samples_split=2)\n",
    "model.fit(df_new,y)\n",
    "test_predict= model.predict(test_new)\n",
    "\n",
    "train_pred = model.predict(df_new)\n",
    "fbeta_score(y,train_pred, beta=0.5)"
   ]
  },
  {
   "cell_type": "code",
   "execution_count": 310,
   "metadata": {},
   "outputs": [
    {
     "name": "stdout",
     "output_type": "stream",
     "text": [
      "0.7359500446030329\n"
     ]
    }
   ],
   "source": [
    "# poly = PolynomialFeatures(degree=2)\n",
    "# X_poly= poly.fit_transform(df_new)\n",
    "\n",
    "# model= LogisticRegression(solver= 'liblinear',C= 0.1)\n",
    "# model.fit(X_poly, y)\n",
    "# prediction_train=model.predict(X_poly)\n",
    "# print(fbeta_score(y, prediction_train,beta=0.5 ))\n",
    "\n",
    "# test_poly= poly.fit_transform(test_new)\n",
    "# test_predict= model.predict(test_poly)"
   ]
  },
  {
   "cell_type": "code",
   "execution_count": 94,
   "metadata": {},
   "outputs": [
    {
     "data": {
      "text/plain": [
       "10806"
      ]
     },
     "execution_count": 94,
     "metadata": {},
     "output_type": "execute_result"
    }
   ],
   "source": [
    "test['income']=test_predict\n",
    "test.head(1)\n",
    "test.income.sum()"
   ]
  },
  {
   "cell_type": "code",
   "execution_count": 95,
   "metadata": {},
   "outputs": [
    {
     "data": {
      "text/plain": [
       "(45222, 2)"
      ]
     },
     "execution_count": 95,
     "metadata": {},
     "output_type": "execute_result"
    }
   ],
   "source": [
    "submission = test[['id', 'income']]\n",
    "submission.shape"
   ]
  },
  {
   "cell_type": "code",
   "execution_count": 96,
   "metadata": {},
   "outputs": [],
   "source": [
    "submission.to_csv(r'C:\\Users\\srini\\Downloads\\submission28_4_1.csv', index= False)"
   ]
  }
 ],
 "metadata": {
  "kernelspec": {
   "display_name": "Python 3",
   "language": "python",
   "name": "python3"
  },
  "language_info": {
   "codemirror_mode": {
    "name": "ipython",
    "version": 3
   },
   "file_extension": ".py",
   "mimetype": "text/x-python",
   "name": "python",
   "nbconvert_exporter": "python",
   "pygments_lexer": "ipython3",
   "version": "3.7.4"
  }
 },
 "nbformat": 4,
 "nbformat_minor": 2
}
