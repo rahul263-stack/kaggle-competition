{
 "cells": [
  {
   "cell_type": "markdown",
   "metadata": {
    "_cell_guid": "b1076dfc-b9ad-4769-8c92-a6c4dae69d19",
    "_uuid": "8f2839f25d086af736a60e9eeb907d3b93b6e0e5",
    "execution": {
     "iopub.execute_input": "2021-09-01T17:56:10.980152Z",
     "iopub.status.busy": "2021-09-01T17:56:10.979664Z",
     "iopub.status.idle": "2021-09-01T17:56:10.998275Z",
     "shell.execute_reply": "2021-09-01T17:56:10.997389Z",
     "shell.execute_reply.started": "2021-09-01T17:56:10.980037Z"
    }
   },
   "source": [
    "# CatBoost Tabular Playground Prediction(Sep 2021)\n",
    "## Table of Contents\n",
    "- Import Packages\n",
    "- Import Datasets\n",
    "- EDA & Preprocessing\n",
    "- Model Development & Evaluation\n",
    "- Submission"
   ]
  },
  {
   "cell_type": "markdown",
   "metadata": {},
   "source": [
    "## Import Packages"
   ]
  },
  {
   "cell_type": "code",
   "execution_count": 1,
   "metadata": {
    "execution": {
     "iopub.execute_input": "2021-09-07T16:53:08.333589Z",
     "iopub.status.busy": "2021-09-07T16:53:08.333252Z",
     "iopub.status.idle": "2021-09-07T16:53:08.394126Z",
     "shell.execute_reply": "2021-09-07T16:53:08.393331Z",
     "shell.execute_reply.started": "2021-09-07T16:53:08.333556Z"
    }
   },
   "outputs": [],
   "source": [
    "import numpy as np\n",
    "import pandas as pd\n",
    "import seaborn as sns\n",
    "from catboost import CatBoostClassifier\n",
    "from sklearn.model_selection import train_test_split\n",
    "from sklearn.metrics import classification_report, accuracy_score, log_loss, roc_auc_score"
   ]
  },
  {
   "cell_type": "markdown",
   "metadata": {},
   "source": [
    "## Import datasets"
   ]
  },
  {
   "cell_type": "code",
   "execution_count": 2,
   "metadata": {
    "execution": {
     "iopub.execute_input": "2021-09-07T17:02:37.382354Z",
     "iopub.status.busy": "2021-09-07T17:02:37.382022Z",
     "iopub.status.idle": "2021-09-07T17:03:05.143038Z",
     "shell.execute_reply": "2021-09-07T17:03:05.142125Z",
     "shell.execute_reply.started": "2021-09-07T17:02:37.382324Z"
    }
   },
   "outputs": [],
   "source": [
    "train = pd.read_csv(\"train.csv\")\n",
    "test = pd.read_csv(\"test.csv\")"
   ]
  },
  {
   "cell_type": "code",
   "execution_count": 3,
   "metadata": {
    "execution": {
     "iopub.execute_input": "2021-09-07T17:03:56.33812Z",
     "iopub.status.busy": "2021-09-07T17:03:56.337796Z",
     "iopub.status.idle": "2021-09-07T17:03:56.378826Z",
     "shell.execute_reply": "2021-09-07T17:03:56.377809Z",
     "shell.execute_reply.started": "2021-09-07T17:03:56.338091Z"
    }
   },
   "outputs": [
    {
     "data": {
      "text/html": [
       "<div>\n",
       "<style scoped>\n",
       "    .dataframe tbody tr th:only-of-type {\n",
       "        vertical-align: middle;\n",
       "    }\n",
       "\n",
       "    .dataframe tbody tr th {\n",
       "        vertical-align: top;\n",
       "    }\n",
       "\n",
       "    .dataframe thead th {\n",
       "        text-align: right;\n",
       "    }\n",
       "</style>\n",
       "<table border=\"1\" class=\"dataframe\">\n",
       "  <thead>\n",
       "    <tr style=\"text-align: right;\">\n",
       "      <th></th>\n",
       "      <th>id</th>\n",
       "      <th>f1</th>\n",
       "      <th>f2</th>\n",
       "      <th>f3</th>\n",
       "      <th>f4</th>\n",
       "      <th>f5</th>\n",
       "      <th>f6</th>\n",
       "      <th>f7</th>\n",
       "      <th>f8</th>\n",
       "      <th>f9</th>\n",
       "      <th>...</th>\n",
       "      <th>f110</th>\n",
       "      <th>f111</th>\n",
       "      <th>f112</th>\n",
       "      <th>f113</th>\n",
       "      <th>f114</th>\n",
       "      <th>f115</th>\n",
       "      <th>f116</th>\n",
       "      <th>f117</th>\n",
       "      <th>f118</th>\n",
       "      <th>claim</th>\n",
       "    </tr>\n",
       "  </thead>\n",
       "  <tbody>\n",
       "    <tr>\n",
       "      <th>0</th>\n",
       "      <td>0</td>\n",
       "      <td>0.10859</td>\n",
       "      <td>0.004314</td>\n",
       "      <td>-37.566</td>\n",
       "      <td>0.017364</td>\n",
       "      <td>0.28915</td>\n",
       "      <td>-10.25100</td>\n",
       "      <td>135.12</td>\n",
       "      <td>168900.0</td>\n",
       "      <td>3.992400e+14</td>\n",
       "      <td>...</td>\n",
       "      <td>-12.2280</td>\n",
       "      <td>1.7482</td>\n",
       "      <td>1.90960</td>\n",
       "      <td>-7.11570</td>\n",
       "      <td>4378.80</td>\n",
       "      <td>1.2096</td>\n",
       "      <td>8.613400e+14</td>\n",
       "      <td>140.1</td>\n",
       "      <td>1.01770</td>\n",
       "      <td>1</td>\n",
       "    </tr>\n",
       "    <tr>\n",
       "      <th>1</th>\n",
       "      <td>1</td>\n",
       "      <td>0.10090</td>\n",
       "      <td>0.299610</td>\n",
       "      <td>11822.000</td>\n",
       "      <td>0.276500</td>\n",
       "      <td>0.45970</td>\n",
       "      <td>-0.83733</td>\n",
       "      <td>1721.90</td>\n",
       "      <td>119810.0</td>\n",
       "      <td>3.874100e+15</td>\n",
       "      <td>...</td>\n",
       "      <td>-56.7580</td>\n",
       "      <td>4.1684</td>\n",
       "      <td>0.34808</td>\n",
       "      <td>4.14200</td>\n",
       "      <td>913.23</td>\n",
       "      <td>1.2464</td>\n",
       "      <td>7.575100e+15</td>\n",
       "      <td>1861.0</td>\n",
       "      <td>0.28359</td>\n",
       "      <td>0</td>\n",
       "    </tr>\n",
       "    <tr>\n",
       "      <th>2</th>\n",
       "      <td>2</td>\n",
       "      <td>0.17803</td>\n",
       "      <td>-0.006980</td>\n",
       "      <td>907.270</td>\n",
       "      <td>0.272140</td>\n",
       "      <td>0.45948</td>\n",
       "      <td>0.17327</td>\n",
       "      <td>2298.00</td>\n",
       "      <td>360650.0</td>\n",
       "      <td>1.224500e+13</td>\n",
       "      <td>...</td>\n",
       "      <td>-5.7688</td>\n",
       "      <td>1.2042</td>\n",
       "      <td>0.26290</td>\n",
       "      <td>8.13120</td>\n",
       "      <td>45119.00</td>\n",
       "      <td>1.1764</td>\n",
       "      <td>3.218100e+14</td>\n",
       "      <td>3838.2</td>\n",
       "      <td>0.40690</td>\n",
       "      <td>1</td>\n",
       "    </tr>\n",
       "    <tr>\n",
       "      <th>3</th>\n",
       "      <td>3</td>\n",
       "      <td>0.15236</td>\n",
       "      <td>0.007259</td>\n",
       "      <td>780.100</td>\n",
       "      <td>0.025179</td>\n",
       "      <td>0.51947</td>\n",
       "      <td>7.49140</td>\n",
       "      <td>112.51</td>\n",
       "      <td>259490.0</td>\n",
       "      <td>7.781400e+13</td>\n",
       "      <td>...</td>\n",
       "      <td>-34.8580</td>\n",
       "      <td>2.0694</td>\n",
       "      <td>0.79631</td>\n",
       "      <td>-16.33600</td>\n",
       "      <td>4952.40</td>\n",
       "      <td>1.1784</td>\n",
       "      <td>4.533000e+12</td>\n",
       "      <td>4889.1</td>\n",
       "      <td>0.51486</td>\n",
       "      <td>1</td>\n",
       "    </tr>\n",
       "    <tr>\n",
       "      <th>4</th>\n",
       "      <td>4</td>\n",
       "      <td>0.11623</td>\n",
       "      <td>0.502900</td>\n",
       "      <td>-109.150</td>\n",
       "      <td>0.297910</td>\n",
       "      <td>0.34490</td>\n",
       "      <td>-0.40932</td>\n",
       "      <td>2538.90</td>\n",
       "      <td>65332.0</td>\n",
       "      <td>1.907200e+15</td>\n",
       "      <td>...</td>\n",
       "      <td>-13.6410</td>\n",
       "      <td>1.5298</td>\n",
       "      <td>1.14640</td>\n",
       "      <td>-0.43124</td>\n",
       "      <td>3856.50</td>\n",
       "      <td>1.4830</td>\n",
       "      <td>-8.991300e+12</td>\n",
       "      <td>NaN</td>\n",
       "      <td>0.23049</td>\n",
       "      <td>1</td>\n",
       "    </tr>\n",
       "  </tbody>\n",
       "</table>\n",
       "<p>5 rows × 120 columns</p>\n",
       "</div>"
      ],
      "text/plain": [
       "   id       f1        f2         f3        f4       f5        f6       f7  \\\n",
       "0   0  0.10859  0.004314    -37.566  0.017364  0.28915 -10.25100   135.12   \n",
       "1   1  0.10090  0.299610  11822.000  0.276500  0.45970  -0.83733  1721.90   \n",
       "2   2  0.17803 -0.006980    907.270  0.272140  0.45948   0.17327  2298.00   \n",
       "3   3  0.15236  0.007259    780.100  0.025179  0.51947   7.49140   112.51   \n",
       "4   4  0.11623  0.502900   -109.150  0.297910  0.34490  -0.40932  2538.90   \n",
       "\n",
       "         f8            f9  ...     f110    f111     f112      f113      f114  \\\n",
       "0  168900.0  3.992400e+14  ... -12.2280  1.7482  1.90960  -7.11570   4378.80   \n",
       "1  119810.0  3.874100e+15  ... -56.7580  4.1684  0.34808   4.14200    913.23   \n",
       "2  360650.0  1.224500e+13  ...  -5.7688  1.2042  0.26290   8.13120  45119.00   \n",
       "3  259490.0  7.781400e+13  ... -34.8580  2.0694  0.79631 -16.33600   4952.40   \n",
       "4   65332.0  1.907200e+15  ... -13.6410  1.5298  1.14640  -0.43124   3856.50   \n",
       "\n",
       "     f115          f116    f117     f118  claim  \n",
       "0  1.2096  8.613400e+14   140.1  1.01770      1  \n",
       "1  1.2464  7.575100e+15  1861.0  0.28359      0  \n",
       "2  1.1764  3.218100e+14  3838.2  0.40690      1  \n",
       "3  1.1784  4.533000e+12  4889.1  0.51486      1  \n",
       "4  1.4830 -8.991300e+12     NaN  0.23049      1  \n",
       "\n",
       "[5 rows x 120 columns]"
      ]
     },
     "execution_count": 3,
     "metadata": {},
     "output_type": "execute_result"
    }
   ],
   "source": [
    "train.head()"
   ]
  },
  {
   "cell_type": "code",
   "execution_count": 4,
   "metadata": {
    "execution": {
     "iopub.execute_input": "2021-09-07T17:03:58.345812Z",
     "iopub.status.busy": "2021-09-07T17:03:58.345459Z",
     "iopub.status.idle": "2021-09-07T17:03:58.375451Z",
     "shell.execute_reply": "2021-09-07T17:03:58.374745Z",
     "shell.execute_reply.started": "2021-09-07T17:03:58.345765Z"
    }
   },
   "outputs": [
    {
     "data": {
      "text/html": [
       "<div>\n",
       "<style scoped>\n",
       "    .dataframe tbody tr th:only-of-type {\n",
       "        vertical-align: middle;\n",
       "    }\n",
       "\n",
       "    .dataframe tbody tr th {\n",
       "        vertical-align: top;\n",
       "    }\n",
       "\n",
       "    .dataframe thead th {\n",
       "        text-align: right;\n",
       "    }\n",
       "</style>\n",
       "<table border=\"1\" class=\"dataframe\">\n",
       "  <thead>\n",
       "    <tr style=\"text-align: right;\">\n",
       "      <th></th>\n",
       "      <th>id</th>\n",
       "      <th>f1</th>\n",
       "      <th>f2</th>\n",
       "      <th>f3</th>\n",
       "      <th>f4</th>\n",
       "      <th>f5</th>\n",
       "      <th>f6</th>\n",
       "      <th>f7</th>\n",
       "      <th>f8</th>\n",
       "      <th>f9</th>\n",
       "      <th>...</th>\n",
       "      <th>f109</th>\n",
       "      <th>f110</th>\n",
       "      <th>f111</th>\n",
       "      <th>f112</th>\n",
       "      <th>f113</th>\n",
       "      <th>f114</th>\n",
       "      <th>f115</th>\n",
       "      <th>f116</th>\n",
       "      <th>f117</th>\n",
       "      <th>f118</th>\n",
       "    </tr>\n",
       "  </thead>\n",
       "  <tbody>\n",
       "    <tr>\n",
       "      <th>0</th>\n",
       "      <td>957919</td>\n",
       "      <td>0.165850</td>\n",
       "      <td>0.487050</td>\n",
       "      <td>1295.00</td>\n",
       "      <td>0.02310</td>\n",
       "      <td>0.31900</td>\n",
       "      <td>0.90188</td>\n",
       "      <td>573.29</td>\n",
       "      <td>3743.7</td>\n",
       "      <td>2.705700e+12</td>\n",
       "      <td>...</td>\n",
       "      <td>0.16253</td>\n",
       "      <td>-22.1890</td>\n",
       "      <td>2.0655</td>\n",
       "      <td>0.430880</td>\n",
       "      <td>-10.7410</td>\n",
       "      <td>81606.0</td>\n",
       "      <td>1.1940</td>\n",
       "      <td>1.980400e+14</td>\n",
       "      <td>2017.1</td>\n",
       "      <td>0.46357</td>\n",
       "    </tr>\n",
       "    <tr>\n",
       "      <th>1</th>\n",
       "      <td>957920</td>\n",
       "      <td>0.129650</td>\n",
       "      <td>0.373480</td>\n",
       "      <td>1763.00</td>\n",
       "      <td>0.72884</td>\n",
       "      <td>0.33247</td>\n",
       "      <td>-1.26310</td>\n",
       "      <td>875.55</td>\n",
       "      <td>554370.0</td>\n",
       "      <td>5.955700e+14</td>\n",
       "      <td>...</td>\n",
       "      <td>0.81528</td>\n",
       "      <td>-1.6342</td>\n",
       "      <td>1.5736</td>\n",
       "      <td>-1.071200</td>\n",
       "      <td>11.8320</td>\n",
       "      <td>90114.0</td>\n",
       "      <td>1.1507</td>\n",
       "      <td>4.388000e+16</td>\n",
       "      <td>6638.9</td>\n",
       "      <td>0.28125</td>\n",
       "    </tr>\n",
       "    <tr>\n",
       "      <th>2</th>\n",
       "      <td>957921</td>\n",
       "      <td>0.120190</td>\n",
       "      <td>0.445210</td>\n",
       "      <td>736.26</td>\n",
       "      <td>0.04615</td>\n",
       "      <td>0.29605</td>\n",
       "      <td>0.31665</td>\n",
       "      <td>2659.50</td>\n",
       "      <td>317140.0</td>\n",
       "      <td>3.977800e+14</td>\n",
       "      <td>...</td>\n",
       "      <td>0.81831</td>\n",
       "      <td>-32.7800</td>\n",
       "      <td>2.1364</td>\n",
       "      <td>-1.931200</td>\n",
       "      <td>-3.2804</td>\n",
       "      <td>37739.0</td>\n",
       "      <td>1.1548</td>\n",
       "      <td>1.718100e+14</td>\n",
       "      <td>5844.0</td>\n",
       "      <td>0.13797</td>\n",
       "    </tr>\n",
       "    <tr>\n",
       "      <th>3</th>\n",
       "      <td>957922</td>\n",
       "      <td>0.054008</td>\n",
       "      <td>0.395960</td>\n",
       "      <td>996.14</td>\n",
       "      <td>0.85934</td>\n",
       "      <td>0.36678</td>\n",
       "      <td>-0.17060</td>\n",
       "      <td>386.56</td>\n",
       "      <td>325680.0</td>\n",
       "      <td>-3.432200e+13</td>\n",
       "      <td>...</td>\n",
       "      <td>0.86559</td>\n",
       "      <td>-2.4162</td>\n",
       "      <td>1.5199</td>\n",
       "      <td>-0.011633</td>\n",
       "      <td>1.3840</td>\n",
       "      <td>26849.0</td>\n",
       "      <td>1.1490</td>\n",
       "      <td>2.138800e+17</td>\n",
       "      <td>6173.3</td>\n",
       "      <td>0.32910</td>\n",
       "    </tr>\n",
       "    <tr>\n",
       "      <th>4</th>\n",
       "      <td>957923</td>\n",
       "      <td>0.079947</td>\n",
       "      <td>-0.006919</td>\n",
       "      <td>10574.00</td>\n",
       "      <td>0.34845</td>\n",
       "      <td>0.45008</td>\n",
       "      <td>-1.84200</td>\n",
       "      <td>3027.00</td>\n",
       "      <td>428150.0</td>\n",
       "      <td>9.291500e+11</td>\n",
       "      <td>...</td>\n",
       "      <td>0.25190</td>\n",
       "      <td>-18.6300</td>\n",
       "      <td>3.7387</td>\n",
       "      <td>0.757080</td>\n",
       "      <td>-4.9405</td>\n",
       "      <td>50336.0</td>\n",
       "      <td>1.2488</td>\n",
       "      <td>2.151300e+17</td>\n",
       "      <td>2250.1</td>\n",
       "      <td>0.33796</td>\n",
       "    </tr>\n",
       "  </tbody>\n",
       "</table>\n",
       "<p>5 rows × 119 columns</p>\n",
       "</div>"
      ],
      "text/plain": [
       "       id        f1        f2        f3       f4       f5       f6       f7  \\\n",
       "0  957919  0.165850  0.487050   1295.00  0.02310  0.31900  0.90188   573.29   \n",
       "1  957920  0.129650  0.373480   1763.00  0.72884  0.33247 -1.26310   875.55   \n",
       "2  957921  0.120190  0.445210    736.26  0.04615  0.29605  0.31665  2659.50   \n",
       "3  957922  0.054008  0.395960    996.14  0.85934  0.36678 -0.17060   386.56   \n",
       "4  957923  0.079947 -0.006919  10574.00  0.34845  0.45008 -1.84200  3027.00   \n",
       "\n",
       "         f8            f9  ...     f109     f110    f111      f112     f113  \\\n",
       "0    3743.7  2.705700e+12  ...  0.16253 -22.1890  2.0655  0.430880 -10.7410   \n",
       "1  554370.0  5.955700e+14  ...  0.81528  -1.6342  1.5736 -1.071200  11.8320   \n",
       "2  317140.0  3.977800e+14  ...  0.81831 -32.7800  2.1364 -1.931200  -3.2804   \n",
       "3  325680.0 -3.432200e+13  ...  0.86559  -2.4162  1.5199 -0.011633   1.3840   \n",
       "4  428150.0  9.291500e+11  ...  0.25190 -18.6300  3.7387  0.757080  -4.9405   \n",
       "\n",
       "      f114    f115          f116    f117     f118  \n",
       "0  81606.0  1.1940  1.980400e+14  2017.1  0.46357  \n",
       "1  90114.0  1.1507  4.388000e+16  6638.9  0.28125  \n",
       "2  37739.0  1.1548  1.718100e+14  5844.0  0.13797  \n",
       "3  26849.0  1.1490  2.138800e+17  6173.3  0.32910  \n",
       "4  50336.0  1.2488  2.151300e+17  2250.1  0.33796  \n",
       "\n",
       "[5 rows x 119 columns]"
      ]
     },
     "execution_count": 4,
     "metadata": {},
     "output_type": "execute_result"
    }
   ],
   "source": [
    "test.head()"
   ]
  },
  {
   "cell_type": "markdown",
   "metadata": {},
   "source": [
    "## EDA & Data Preprocessing"
   ]
  },
  {
   "cell_type": "markdown",
   "metadata": {},
   "source": [
    "### Drop ID columns"
   ]
  },
  {
   "cell_type": "code",
   "execution_count": null,
   "metadata": {
    "execution": {
     "iopub.execute_input": "2021-09-07T17:04:01.583246Z",
     "iopub.status.busy": "2021-09-07T17:04:01.582943Z",
     "iopub.status.idle": "2021-09-07T17:04:01.590071Z",
     "shell.execute_reply": "2021-09-07T17:04:01.588973Z",
     "shell.execute_reply.started": "2021-09-07T17:04:01.583219Z"
    }
   },
   "outputs": [],
   "source": [
    "train.pop(\"id\")\n",
    "test_ids = test.pop(\"id\")"
   ]
  },
  {
   "cell_type": "markdown",
   "metadata": {},
   "source": [
    "### Get Train data Targets"
   ]
  },
  {
   "cell_type": "code",
   "execution_count": null,
   "metadata": {
    "execution": {
     "iopub.execute_input": "2021-09-07T17:04:23.307214Z",
     "iopub.status.busy": "2021-09-07T17:04:23.30688Z",
     "iopub.status.idle": "2021-09-07T17:04:23.3602Z",
     "shell.execute_reply": "2021-09-07T17:04:23.358763Z",
     "shell.execute_reply.started": "2021-09-07T17:04:23.307185Z"
    }
   },
   "outputs": [],
   "source": [
    "train_targets = train.pop(\"claim\")"
   ]
  },
  {
   "cell_type": "code",
   "execution_count": null,
   "metadata": {
    "execution": {
     "iopub.execute_input": "2021-09-07T17:04:27.436466Z",
     "iopub.status.busy": "2021-09-07T17:04:27.436125Z",
     "iopub.status.idle": "2021-09-07T17:04:27.444477Z",
     "shell.execute_reply": "2021-09-07T17:04:27.443338Z",
     "shell.execute_reply.started": "2021-09-07T17:04:27.436436Z"
    }
   },
   "outputs": [],
   "source": [
    "train_targets.head()"
   ]
  },
  {
   "cell_type": "markdown",
   "metadata": {},
   "source": [
    "The labels looks balanced. "
   ]
  },
  {
   "cell_type": "code",
   "execution_count": null,
   "metadata": {
    "execution": {
     "iopub.execute_input": "2021-09-07T17:04:29.807952Z",
     "iopub.status.busy": "2021-09-07T17:04:29.807498Z",
     "iopub.status.idle": "2021-09-07T17:04:29.965419Z",
     "shell.execute_reply": "2021-09-07T17:04:29.964653Z",
     "shell.execute_reply.started": "2021-09-07T17:04:29.807908Z"
    }
   },
   "outputs": [],
   "source": [
    "sns.countplot(train_targets)"
   ]
  },
  {
   "cell_type": "markdown",
   "metadata": {},
   "source": [
    "Let's see statistic info between train set and test set and compare their differences, which are very small execpt for their total numbers.  Some of the parameters has a great difference, so I will apply log transformation to reduce their skewness."
   ]
  },
  {
   "cell_type": "code",
   "execution_count": null,
   "metadata": {
    "execution": {
     "iopub.execute_input": "2021-09-07T17:04:37.272199Z",
     "iopub.status.busy": "2021-09-07T17:04:37.271878Z",
     "iopub.status.idle": "2021-09-07T17:04:41.192358Z",
     "shell.execute_reply": "2021-09-07T17:04:41.19154Z",
     "shell.execute_reply.started": "2021-09-07T17:04:37.272173Z"
    }
   },
   "outputs": [],
   "source": [
    "train_desc = train.describe()\n",
    "train_desc.transpose()"
   ]
  },
  {
   "cell_type": "code",
   "execution_count": null,
   "metadata": {
    "execution": {
     "iopub.execute_input": "2021-09-07T17:05:12.477995Z",
     "iopub.status.busy": "2021-09-07T17:05:12.477635Z",
     "iopub.status.idle": "2021-09-07T17:05:14.620261Z",
     "shell.execute_reply": "2021-09-07T17:05:14.619465Z",
     "shell.execute_reply.started": "2021-09-07T17:05:12.477965Z"
    }
   },
   "outputs": [],
   "source": [
    "test_desc = test.describe()\n",
    "test_desc.transpose()"
   ]
  },
  {
   "cell_type": "code",
   "execution_count": null,
   "metadata": {
    "execution": {
     "iopub.execute_input": "2021-09-07T17:05:18.236795Z",
     "iopub.status.busy": "2021-09-07T17:05:18.236465Z",
     "iopub.status.idle": "2021-09-07T17:05:18.25916Z",
     "shell.execute_reply": "2021-09-07T17:05:18.258206Z",
     "shell.execute_reply.started": "2021-09-07T17:05:18.236763Z"
    }
   },
   "outputs": [],
   "source": [
    "desc_delta = train_desc - test_desc\n",
    "desc_delta.transpose()"
   ]
  },
  {
   "cell_type": "markdown",
   "metadata": {},
   "source": [
    "## Feature Scaling"
   ]
  },
  {
   "cell_type": "code",
   "execution_count": null,
   "metadata": {
    "execution": {
     "iopub.execute_input": "2021-09-07T17:05:26.250663Z",
     "iopub.status.busy": "2021-09-07T17:05:26.250347Z",
     "iopub.status.idle": "2021-09-07T17:05:29.781579Z",
     "shell.execute_reply": "2021-09-07T17:05:29.780761Z",
     "shell.execute_reply.started": "2021-09-07T17:05:26.250633Z"
    }
   },
   "outputs": [],
   "source": [
    "for item in train.columns:\n",
    "    if abs(train[item].max()) / (abs(train[item].min()) + 10e-10) > 10:\n",
    "        train[item] = np.sign(train[item]) * np.log2(np.abs(train[item]) + 1)\n",
    "        test[item] = np.sign(test[item]) * np.log2(np.abs(test[item]) + 1)\n",
    "    train_mean = train[item].mean()\n",
    "    train_std = train[item].std()\n",
    "    train[item] = (train[item] - train_mean) / train_std\n",
    "    test[item] = (test[item] - train_mean) / train_std\n",
    "    # Missing Value Imputation seems to have a bad effect to final results\n",
    "    #train[item].replace(np.NAN, train[item].mean(), inplace=True)\n",
    "    #test[item].replace(np.NAN, test[item].mean(), inplace=True)\n"
   ]
  },
  {
   "cell_type": "markdown",
   "metadata": {},
   "source": [
    "### Train Validation Split"
   ]
  },
  {
   "cell_type": "code",
   "execution_count": null,
   "metadata": {
    "execution": {
     "iopub.execute_input": "2021-09-07T17:05:33.91458Z",
     "iopub.status.busy": "2021-09-07T17:05:33.914251Z",
     "iopub.status.idle": "2021-09-07T17:05:34.873351Z",
     "shell.execute_reply": "2021-09-07T17:05:34.872369Z",
     "shell.execute_reply.started": "2021-09-07T17:05:33.914551Z"
    }
   },
   "outputs": [],
   "source": [
    "train_features, valid_features, train_targets, valid_targets = train_test_split(train, train_targets, test_size=0.2, random_state=np.random.randint(1000))\n",
    "train_features.shape, train_targets.shape, valid_features.shape, valid_targets.shape"
   ]
  },
  {
   "cell_type": "markdown",
   "metadata": {},
   "source": [
    "## Model Development & Evaluation\n"
   ]
  },
  {
   "cell_type": "markdown",
   "metadata": {},
   "source": [
    "### Evaluation Method"
   ]
  },
  {
   "cell_type": "code",
   "execution_count": null,
   "metadata": {
    "execution": {
     "iopub.execute_input": "2021-09-07T17:05:38.138811Z",
     "iopub.status.busy": "2021-09-07T17:05:38.138454Z",
     "iopub.status.idle": "2021-09-07T17:05:38.146339Z",
     "shell.execute_reply": "2021-09-07T17:05:38.145326Z",
     "shell.execute_reply.started": "2021-09-07T17:05:38.13878Z"
    }
   },
   "outputs": [],
   "source": [
    "def evaluate(valid_targets, probs, name):\n",
    "    y_pred = np.array(probs > 0.5, dtype=int)\n",
    "    acc = accuracy_score(valid_targets, y_pred)\n",
    "    loss = log_loss(valid_targets, y_pred)\n",
    "    auc = roc_auc_score(valid_targets, probs)\n",
    "    print(\"Accuracy score: %.2f\"%(acc))\n",
    "    print(\"Log loss: %.2f\"%(loss))\n",
    "    print(\"AUC score:\", auc)\n",
    "    print(\"Classification report:\")\n",
    "    print(classification_report(valid_targets, y_pred))\n",
    "    return {\n",
    "        \"name\": name, \n",
    "        \"accuracy_score\": acc, \n",
    "        \"log_loss\": loss, \n",
    "        \"auc\": auc\n",
    "    }"
   ]
  },
  {
   "cell_type": "code",
   "execution_count": null,
   "metadata": {
    "execution": {
     "iopub.execute_input": "2021-09-07T16:59:32.395691Z",
     "iopub.status.busy": "2021-09-07T16:59:32.395301Z",
     "iopub.status.idle": "2021-09-07T16:59:32.405734Z",
     "shell.execute_reply": "2021-09-07T16:59:32.40484Z",
     "shell.execute_reply.started": "2021-09-07T16:59:32.395656Z"
    }
   },
   "outputs": [],
   "source": [
    "train_features.shape"
   ]
  },
  {
   "cell_type": "markdown",
   "metadata": {
    "execution": {
     "iopub.execute_input": "2021-09-04T17:03:32.510108Z",
     "iopub.status.busy": "2021-09-04T17:03:32.509586Z",
     "iopub.status.idle": "2021-09-04T17:03:32.515036Z",
     "shell.execute_reply": "2021-09-04T17:03:32.51408Z",
     "shell.execute_reply.started": "2021-09-04T17:03:32.510005Z"
    }
   },
   "source": [
    "## Using CatBoost"
   ]
  },
  {
   "cell_type": "code",
   "execution_count": null,
   "metadata": {
    "execution": {
     "iopub.execute_input": "2021-09-07T17:05:46.185167Z",
     "iopub.status.busy": "2021-09-07T17:05:46.184522Z",
     "iopub.status.idle": "2021-09-07T17:10:29.012452Z",
     "shell.execute_reply": "2021-09-07T17:10:29.011749Z",
     "shell.execute_reply.started": "2021-09-07T17:05:46.185118Z"
    }
   },
   "outputs": [],
   "source": [
    "cat_params = {\n",
    "    'iterations': 15000, \n",
    "    'loss_function': 'Logloss', \n",
    "    'depth': 7, \n",
    "    'task_type' : 'GPU',\n",
    "    'use_best_model': True,\n",
    "    'eval_metric': 'AUC',\n",
    "    'early_stopping_rounds': 1000,\n",
    "    'learning_rate': 0.03,\n",
    "    'border_count': 32,\n",
    "    'l2_leaf_reg': 3,\n",
    "    \"verbose\": 1000\n",
    "}\n",
    "cat = CatBoostClassifier(\n",
    "    **cat_params\n",
    ")\n",
    "cat.fit(train_features, train_targets, eval_set=[(valid_features, valid_targets)])"
   ]
  },
  {
   "cell_type": "code",
   "execution_count": null,
   "metadata": {
    "execution": {
     "iopub.execute_input": "2021-09-07T17:10:42.112081Z",
     "iopub.status.busy": "2021-09-07T17:10:42.111747Z",
     "iopub.status.idle": "2021-09-07T17:10:44.728543Z",
     "shell.execute_reply": "2021-09-07T17:10:44.727671Z",
     "shell.execute_reply.started": "2021-09-07T17:10:42.112048Z"
    }
   },
   "outputs": [],
   "source": [
    "probs = cat.predict_proba(valid_features)[:, 1]\n",
    "probs[:10]"
   ]
  },
  {
   "cell_type": "code",
   "execution_count": null,
   "metadata": {
    "execution": {
     "iopub.execute_input": "2021-09-07T17:10:46.416417Z",
     "iopub.status.busy": "2021-09-07T17:10:46.416114Z",
     "iopub.status.idle": "2021-09-07T17:10:46.866615Z",
     "shell.execute_reply": "2021-09-07T17:10:46.865612Z",
     "shell.execute_reply.started": "2021-09-07T17:10:46.416389Z"
    }
   },
   "outputs": [],
   "source": [
    "result_cat = evaluate(valid_targets, probs, \"catboost\")\n",
    "result_cat"
   ]
  },
  {
   "cell_type": "markdown",
   "metadata": {},
   "source": [
    "## Submisssion"
   ]
  },
  {
   "cell_type": "code",
   "execution_count": null,
   "metadata": {
    "execution": {
     "iopub.execute_input": "2021-09-07T17:11:29.816073Z",
     "iopub.status.busy": "2021-09-07T17:11:29.815736Z",
     "iopub.status.idle": "2021-09-07T17:11:37.555885Z",
     "shell.execute_reply": "2021-09-07T17:11:37.555012Z",
     "shell.execute_reply.started": "2021-09-07T17:11:29.816044Z"
    }
   },
   "outputs": [],
   "source": [
    "claim = cat.predict_proba(test)[:, 1]\n",
    "submission = pd.DataFrame({\"id\": list(test_ids), \"claim\": claim.reshape(-1)})\n",
    "submission.to_csv(\"submission.csv\", index=False)"
   ]
  }
 ],
 "metadata": {
  "kernelspec": {
   "display_name": "Python 3 (ipykernel)",
   "language": "python",
   "name": "python3"
  },
  "language_info": {
   "codemirror_mode": {
    "name": "ipython",
    "version": 3
   },
   "file_extension": ".py",
   "mimetype": "text/x-python",
   "name": "python",
   "nbconvert_exporter": "python",
   "pygments_lexer": "ipython3",
   "version": "3.9.5"
  }
 },
 "nbformat": 4,
 "nbformat_minor": 4
}
