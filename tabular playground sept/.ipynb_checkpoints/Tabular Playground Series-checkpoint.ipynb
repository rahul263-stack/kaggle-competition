{
 "cells": [
  {
   "cell_type": "markdown",
   "metadata": {
    "id": "LZYwoqwaqgQ5"
   },
   "source": [
    "![](https://zeeshanusmani.com/wp-content/uploads/2019/10/Kaggle3.png)"
   ]
  },
  {
   "cell_type": "markdown",
   "metadata": {
    "id": "PDBo3nCNrZgj"
   },
   "source": [
    "# Tabular Playground Series - Jan 2021 : Competition \n",
    "---\n",
    "\n",
    "\n",
    "This notebook is a ***basic interpretation*** to the competition.\n",
    "\n",
    "As I have done by whole work in [**Goggle Collab**](https://colab.research.google.com/) the topmost 3 code cells are not necessary for the competitors whoa re using kaggle notebooks."
   ]
  },
  {
   "cell_type": "code",
   "execution_count": null,
   "metadata": {
    "id": "5_ZGsHVqIOpO"
   },
   "outputs": [],
   "source": [
    "\n",
    "!pip install -q kaggle\n",
    "\n",
    "!mkdir -p ~/.kaggle\n",
    "\n",
    "!cp kaggle.json ~/.kaggle/\n",
    "\n",
    "!chmod 600 ~/.kaggle/kaggle.json"
   ]
  },
  {
   "cell_type": "code",
   "execution_count": null,
   "metadata": {
    "colab": {
     "base_uri": "https://localhost:8080/"
    },
    "id": "_mS8p6X5vgLV",
    "outputId": "790bed60-1b66-4c2b-adac-2c6adba8a79e"
   },
   "outputs": [],
   "source": [
    "!kaggle competitions download -c tabular-playground-series-jan-2021"
   ]
  },
  {
   "cell_type": "markdown",
   "metadata": {
    "id": "5wNmCSl4y4Rk"
   },
   "source": [
    "### Note :\n",
    "---\n",
    "Always remember the **API token will work after you join** the competition."
   ]
  },
  {
   "cell_type": "code",
   "execution_count": 3,
   "metadata": {
    "id": "eggG2x9g9PJe"
   },
   "outputs": [
    {
     "name": "stdout",
     "output_type": "stream",
     "text": [
      "Collecting opencv-python\n",
      "  Downloading opencv_python-4.5.3.56-cp39-cp39-win_amd64.whl (34.9 MB)\n",
      "Requirement already satisfied: numpy>=1.19.3 in c:\\users\\rahul\\miniconda3\\envs\\ml\\lib\\site-packages (from opencv-python) (1.20.3)\n",
      "Installing collected packages: opencv-python\n",
      "Successfully installed opencv-python-4.5.3.56\n"
     ]
    }
   ],
   "source": [
    "!pip install opencv-python"
   ]
  },
  {
   "cell_type": "code",
   "execution_count": 4,
   "metadata": {
    "id": "K0GJNZDQ99Wo"
   },
   "outputs": [
    {
     "ename": "ModuleNotFoundError",
     "evalue": "No module named 'skimage'",
     "output_type": "error",
     "traceback": [
      "\u001b[1;31m---------------------------------------------------------------------------\u001b[0m",
      "\u001b[1;31mModuleNotFoundError\u001b[0m                       Traceback (most recent call last)",
      "\u001b[1;32m~\\AppData\\Local\\Temp/ipykernel_30380/3926489948.py\u001b[0m in \u001b[0;36m<module>\u001b[1;34m\u001b[0m\n\u001b[0;32m     24\u001b[0m \u001b[1;32mfrom\u001b[0m \u001b[0msklearn\u001b[0m\u001b[1;33m.\u001b[0m\u001b[0mfeature_extraction\u001b[0m\u001b[1;33m.\u001b[0m\u001b[0mtext\u001b[0m \u001b[1;32mimport\u001b[0m \u001b[0mTfidfVectorizer\u001b[0m\u001b[1;33m\u001b[0m\u001b[1;33m\u001b[0m\u001b[0m\n\u001b[0;32m     25\u001b[0m \u001b[1;32mfrom\u001b[0m \u001b[0msklearn\u001b[0m\u001b[1;33m.\u001b[0m\u001b[0mdecomposition\u001b[0m \u001b[1;32mimport\u001b[0m \u001b[0mTruncatedSVD\u001b[0m\u001b[1;33m\u001b[0m\u001b[1;33m\u001b[0m\u001b[0m\n\u001b[1;32m---> 26\u001b[1;33m \u001b[1;32mfrom\u001b[0m \u001b[0mskimage\u001b[0m \u001b[1;32mimport\u001b[0m \u001b[0mdata\u001b[0m\u001b[1;33m,\u001b[0m \u001b[0mcolor\u001b[0m\u001b[1;33m\u001b[0m\u001b[1;33m\u001b[0m\u001b[0m\n\u001b[0m\u001b[0;32m     27\u001b[0m \u001b[1;32mfrom\u001b[0m \u001b[0mskimage\u001b[0m\u001b[1;33m.\u001b[0m\u001b[0mtransform\u001b[0m \u001b[1;32mimport\u001b[0m \u001b[0mrescale\u001b[0m\u001b[1;33m,\u001b[0m \u001b[0mresize\u001b[0m\u001b[1;33m,\u001b[0m \u001b[0mdownscale_local_mean\u001b[0m\u001b[1;33m\u001b[0m\u001b[1;33m\u001b[0m\u001b[0m\n\u001b[0;32m     28\u001b[0m \u001b[1;32mimport\u001b[0m \u001b[0mmatplotlib\u001b[0m\u001b[1;33m.\u001b[0m\u001b[0mimage\u001b[0m \u001b[1;32mas\u001b[0m \u001b[0mmpimg\u001b[0m\u001b[1;33m\u001b[0m\u001b[1;33m\u001b[0m\u001b[0m\n",
      "\u001b[1;31mModuleNotFoundError\u001b[0m: No module named 'skimage'"
     ]
    }
   ],
   "source": [
    "# supporting libraries ---------------------------------------------------------\n",
    "\n",
    "import matplotlib.pyplot as plt\n",
    "import matplotlib.image as mpimg\n",
    "import seaborn as sns\n",
    "import numpy as np\n",
    "import pandas as pd\n",
    "import re\n",
    "import os\n",
    "import glob\n",
    "import cv2\n",
    "\n",
    "# data processing library function ---------------------------------------------\n",
    "\n",
    "from sklearn.model_selection import train_test_split\n",
    "from sklearn.metrics import*\n",
    "import matplotlib.pyplot as plt\n",
    "from sklearn.model_selection import*\n",
    "from sklearn.preprocessing import StandardScaler\n",
    "from sklearn.model_selection import train_test_split\n",
    "from sklearn.preprocessing import StandardScaler\n",
    "from sklearn.feature_selection import VarianceThreshold\n",
    "from sklearn.pipeline import make_pipeline\n",
    "from sklearn.feature_extraction.text import TfidfVectorizer\n",
    "from sklearn.decomposition import TruncatedSVD\n",
    "from skimage import data, color\n",
    "from skimage.transform import rescale, resize, downscale_local_mean\n",
    "import matplotlib.image as mpimg\n",
    "\n",
    "# Machine Learning Models ------------------------------------------------------\n",
    "\n",
    "from sklearn.linear_model import*\n",
    "from sklearn.preprocessing import*\n",
    "from sklearn.ensemble import*\n",
    "from sklearn.neighbors import*\n",
    "from sklearn import svm\n",
    "from sklearn.naive_bayes import*\n",
    "import xgboost as xgb\n"
   ]
  },
  {
   "cell_type": "markdown",
   "metadata": {
    "id": "4ax_1dJ_uciu"
   },
   "source": [
    "## Primary Visualization over data\n",
    "---\n",
    "\n",
    "We are going to read the datas into dataframes and then check -\n",
    "1. How they look (**dataframe.head()**) , \n",
    "2. See their information (**dataframe.info()**) \n",
    "3. See further(**dataframe.describe()**)"
   ]
  },
  {
   "cell_type": "code",
   "execution_count": null,
   "metadata": {
    "id": "nZ4BSOWU-NcH"
   },
   "outputs": [],
   "source": [
    "train=pd.read_csv('train.csv')"
   ]
  },
  {
   "cell_type": "code",
   "execution_count": null,
   "metadata": {
    "id": "P-PEygQH-EyW"
   },
   "outputs": [],
   "source": [
    "test=pd.read_csv('test.csv')"
   ]
  },
  {
   "cell_type": "code",
   "execution_count": null,
   "metadata": {
    "id": "D8-RXl5h__85"
   },
   "outputs": [],
   "source": [
    "sample_submission=pd.read_csv('sample_submission.csv')"
   ]
  },
  {
   "cell_type": "code",
   "execution_count": null,
   "metadata": {
    "colab": {
     "base_uri": "https://localhost:8080/",
     "height": 204
    },
    "id": "IANeyP2ZAIP2",
    "outputId": "f570cc70-feda-480a-8d55-f7f2c9e26683"
   },
   "outputs": [],
   "source": [
    "train.head()"
   ]
  },
  {
   "cell_type": "code",
   "execution_count": null,
   "metadata": {
    "colab": {
     "base_uri": "https://localhost:8080/",
     "height": 204
    },
    "id": "A_rBwPb2AN_H",
    "outputId": "da24dbf3-8945-4103-ca29-2e62bc7b0a37"
   },
   "outputs": [],
   "source": [
    "test.head()"
   ]
  },
  {
   "cell_type": "code",
   "execution_count": null,
   "metadata": {
    "colab": {
     "base_uri": "https://localhost:8080/",
     "height": 204
    },
    "id": "WeLYrsOSAU2u",
    "outputId": "c52a0f85-be96-481b-b1f1-896e4c633a98"
   },
   "outputs": [],
   "source": [
    "sample_submission.head()"
   ]
  },
  {
   "cell_type": "code",
   "execution_count": null,
   "metadata": {
    "colab": {
     "base_uri": "https://localhost:8080/"
    },
    "id": "jWDTWHvRAbjX",
    "outputId": "544cb61a-9d92-4191-aa77-b1d9b96b1f6a"
   },
   "outputs": [],
   "source": [
    "train.info()"
   ]
  },
  {
   "cell_type": "code",
   "execution_count": null,
   "metadata": {
    "colab": {
     "base_uri": "https://localhost:8080/"
    },
    "id": "-ZTY9QpOAegH",
    "outputId": "0adf942a-0e29-4999-f978-42d7643f27f1"
   },
   "outputs": [],
   "source": [
    "test.info()"
   ]
  },
  {
   "cell_type": "code",
   "execution_count": null,
   "metadata": {
    "colab": {
     "base_uri": "https://localhost:8080/"
    },
    "id": "NaxACpfPAh_f",
    "outputId": "18f879e1-1ae2-4887-eb0d-e0bd67460a5b"
   },
   "outputs": [],
   "source": [
    "sample_submission.info()"
   ]
  },
  {
   "cell_type": "code",
   "execution_count": null,
   "metadata": {
    "colab": {
     "base_uri": "https://localhost:8080/",
     "height": 317
    },
    "id": "6WudK2clBxX2",
    "outputId": "3b015cee-924d-4f7e-c960-481eb9ff2123"
   },
   "outputs": [],
   "source": [
    "train.describe()"
   ]
  },
  {
   "cell_type": "code",
   "execution_count": null,
   "metadata": {
    "colab": {
     "base_uri": "https://localhost:8080/",
     "height": 317
    },
    "id": "y-PHCM8nUl8c",
    "outputId": "ddab792b-7e85-49e0-f0fa-996541648110"
   },
   "outputs": [],
   "source": [
    "test.describe()"
   ]
  },
  {
   "cell_type": "markdown",
   "metadata": {
    "id": "yFJS6rEbvMHO"
   },
   "source": [
    "#### Leakage :\n",
    "---\n",
    "Checking if there are leakages or not."
   ]
  },
  {
   "cell_type": "code",
   "execution_count": null,
   "metadata": {
    "colab": {
     "base_uri": "https://localhost:8080/"
    },
    "id": "-CtSnj9XBoTo",
    "outputId": "f89fd23b-edbe-4aeb-bea4-0692711abf4d"
   },
   "outputs": [],
   "source": [
    "train.duplicated().sum()"
   ]
  },
  {
   "cell_type": "code",
   "execution_count": null,
   "metadata": {
    "colab": {
     "base_uri": "https://localhost:8080/"
    },
    "id": "aL7GO7rsBuQB",
    "outputId": "229dba6d-1244-4ad8-d4ff-c3cc9245474e"
   },
   "outputs": [],
   "source": [
    "test.duplicated().sum()"
   ]
  },
  {
   "cell_type": "markdown",
   "metadata": {
    "id": "TVsALyxavXV0"
   },
   "source": [
    "There are no leakages. :)"
   ]
  },
  {
   "cell_type": "markdown",
   "metadata": {
    "id": "La-yOfOnv5td"
   },
   "source": [
    "Now creating featureset and the target value."
   ]
  },
  {
   "cell_type": "code",
   "execution_count": null,
   "metadata": {
    "id": "nbQh-9S6WfoO"
   },
   "outputs": [],
   "source": [
    "X_train=train.drop('target',1)\n",
    "y_train=train['target']\n",
    "X_test=test\n",
    "id=test['id']\n",
    "X_train.drop('id',1,inplace=True)\n",
    "X_test.drop('id',1,inplace=True)"
   ]
  },
  {
   "cell_type": "markdown",
   "metadata": {
    "id": "aa4ig1-Cv9yc"
   },
   "source": [
    "Checking if there are any constant or quasiconstant features."
   ]
  },
  {
   "cell_type": "code",
   "execution_count": null,
   "metadata": {
    "id": "zvJc9FwEWZC9"
   },
   "outputs": [],
   "source": [
    "scaler=VarianceThreshold(0.01)\n",
    "X_train=scaler.fit_transform(X_train)\n",
    "X_test=scaler.transform(X_test)"
   ]
  },
  {
   "cell_type": "code",
   "execution_count": null,
   "metadata": {
    "colab": {
     "base_uri": "https://localhost:8080/"
    },
    "id": "H92LhHzjWsv7",
    "outputId": "30efe9ac-3fce-4eed-d16a-2f6603093492"
   },
   "outputs": [],
   "source": [
    "X_train.shape"
   ]
  },
  {
   "cell_type": "code",
   "execution_count": null,
   "metadata": {
    "colab": {
     "base_uri": "https://localhost:8080/"
    },
    "id": "oaMKA39qXMO2",
    "outputId": "0a631e78-8a0b-47f4-8871-c6823f156c44"
   },
   "outputs": [],
   "source": [
    "X_test.shape"
   ]
  },
  {
   "cell_type": "markdown",
   "metadata": {
    "id": "FuDWHkgwwFgm"
   },
   "source": [
    "Visualizing the feature and checking if there are any serious correlation with the target value of the featureset features."
   ]
  },
  {
   "cell_type": "code",
   "execution_count": null,
   "metadata": {
    "id": "zAB0yeLJzawM"
   },
   "outputs": [],
   "source": [
    "X_train=pd.DataFrame(X_train)\n",
    "X_test=pd.DataFrame(X_test)"
   ]
  },
  {
   "cell_type": "code",
   "execution_count": null,
   "metadata": {
    "colab": {
     "base_uri": "https://localhost:8080/",
     "height": 1000
    },
    "id": "Gz3cSIZfkiX3",
    "outputId": "fa2a7c2f-3c38-49ef-edd4-55c4c96b7648"
   },
   "outputs": [],
   "source": [
    "for col in X_train.columns:\n",
    "  plt.figure(figsize=(20,8))\n",
    "  plt.scatter(X_train[col],y_train,s=0.5)\n",
    "  plt.title(col)\n",
    "  plt.show()"
   ]
  },
  {
   "cell_type": "markdown",
   "metadata": {
    "id": "CTUp9egUwPVM"
   },
   "source": [
    "No too serious observation was located or distinguished."
   ]
  },
  {
   "cell_type": "markdown",
   "metadata": {
    "id": "ywH-dw_vwTxg"
   },
   "source": [
    "# Model Generation and Model evaluation :\n",
    "---\n",
    "\n",
    "We are selecting world class regressor model RandomForestRegressor and the parameters are calibrated as defaults."
   ]
  },
  {
   "cell_type": "code",
   "execution_count": null,
   "metadata": {
    "id": "G7QYuaEXXtn4"
   },
   "outputs": [],
   "source": [
    "model=RandomForestRegressor(random_state=0)"
   ]
  },
  {
   "cell_type": "markdown",
   "metadata": {
    "id": "Ve4LLtQsxUEV"
   },
   "source": [
    "Splitting the train data into train and the validation which will help us to figure out the model is working well or not. \n",
    "We are using a 80-20 train-val split.\n",
    "\n"
   ]
  },
  {
   "cell_type": "code",
   "execution_count": null,
   "metadata": {
    "id": "RRQM74KZaxa6"
   },
   "outputs": [],
   "source": [
    "X_train,X_val,y_train,y_val=train_test_split(X_train,y_train,test_size=0.2,random_state=0)"
   ]
  },
  {
   "cell_type": "code",
   "execution_count": null,
   "metadata": {
    "colab": {
     "base_uri": "https://localhost:8080/"
    },
    "id": "SANVqef1bFW9",
    "outputId": "8428107a-54e9-4d05-d34f-7e8a62afa268"
   },
   "outputs": [],
   "source": [
    "model.fit(X_train,y_train)\n",
    "model.score(X_train,y_train)"
   ]
  },
  {
   "cell_type": "code",
   "execution_count": null,
   "metadata": {
    "colab": {
     "base_uri": "https://localhost:8080/"
    },
    "id": "QX9OsoFCd_Br",
    "outputId": "357ac2ea-a307-4e90-88e5-b7024252332c"
   },
   "outputs": [],
   "source": [
    "model.score(X_val,y_val)"
   ]
  },
  {
   "cell_type": "markdown",
   "metadata": {
    "id": "p6XnkB4kx4VJ"
   },
   "source": [
    "The val accuracy is not any good XD\n",
    "\n",
    "Still we'll proceed further as this is going to be  my first submission in this competition. :D"
   ]
  },
  {
   "cell_type": "code",
   "execution_count": null,
   "metadata": {
    "id": "bu_MYmKLeEox"
   },
   "outputs": [],
   "source": [
    "y_pred=model.predict(X_test)"
   ]
  },
  {
   "cell_type": "markdown",
   "metadata": {
    "id": "sUbCN6LAyP8c"
   },
   "source": [
    "Now we have predicted on the test data."
   ]
  },
  {
   "cell_type": "markdown",
   "metadata": {
    "id": "7xxmRqDHyXki"
   },
   "source": [
    "After submitting you can see that this will give you score around 0.70.\n",
    "\n",
    "\n",
    "---\n",
    "#THANK YOU\n",
    "---\n",
    "\n",
    "DO ***STAR*** if find helpful :)"
   ]
  }
 ],
 "metadata": {
  "accelerator": "GPU",
  "colab": {
   "collapsed_sections": [],
   "name": "Tabular Data Competition",
   "provenance": []
  },
  "kernelspec": {
   "display_name": "Python 3 (ipykernel)",
   "language": "python",
   "name": "python3"
  },
  "language_info": {
   "codemirror_mode": {
    "name": "ipython",
    "version": 3
   },
   "file_extension": ".py",
   "mimetype": "text/x-python",
   "name": "python",
   "nbconvert_exporter": "python",
   "pygments_lexer": "ipython3",
   "version": "3.9.5"
  }
 },
 "nbformat": 4,
 "nbformat_minor": 1
}
