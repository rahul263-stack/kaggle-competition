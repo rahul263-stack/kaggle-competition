{
 "cells": [
  {
   "cell_type": "markdown",
   "metadata": {
    "_cell_guid": "b1076dfc-b9ad-4769-8c92-a6c4dae69d19",
    "_uuid": "8f2839f25d086af736a60e9eeb907d3b93b6e0e5",
    "execution": {
     "iopub.execute_input": "2021-09-01T17:56:10.980152Z",
     "iopub.status.busy": "2021-09-01T17:56:10.979664Z",
     "iopub.status.idle": "2021-09-01T17:56:10.998275Z",
     "shell.execute_reply": "2021-09-01T17:56:10.997389Z",
     "shell.execute_reply.started": "2021-09-01T17:56:10.980037Z"
    }
   },
   "source": [
    "# CatBoost Tabular Playground Prediction(Sep 2021)\n",
    "## Table of Contents\n",
    "- Import Packages\n",
    "- Import Datasets\n",
    "- EDA & Preprocessing\n",
    "- Model Development & Evaluation\n",
    "- Submission"
   ]
  },
  {
   "cell_type": "markdown",
   "metadata": {},
   "source": [
    "## Import Packages"
   ]
  },
  {
   "cell_type": "code",
   "execution_count": 1,
   "metadata": {
    "execution": {
     "iopub.execute_input": "2021-09-07T16:53:08.333589Z",
     "iopub.status.busy": "2021-09-07T16:53:08.333252Z",
     "iopub.status.idle": "2021-09-07T16:53:08.394126Z",
     "shell.execute_reply": "2021-09-07T16:53:08.393331Z",
     "shell.execute_reply.started": "2021-09-07T16:53:08.333556Z"
    }
   },
   "outputs": [],
   "source": [
    "import numpy as np\n",
    "import pandas as pd\n",
    "import seaborn as sns\n",
    "from catboost import CatBoostClassifier\n",
    "from sklearn.model_selection import train_test_split\n",
    "from sklearn.metrics import classification_report, accuracy_score, log_loss, roc_auc_score"
   ]
  },
  {
   "cell_type": "markdown",
   "metadata": {},
   "source": [
    "## Import datasets"
   ]
  },
  {
   "cell_type": "code",
   "execution_count": 2,
   "metadata": {
    "execution": {
     "iopub.execute_input": "2021-09-07T17:02:37.382354Z",
     "iopub.status.busy": "2021-09-07T17:02:37.382022Z",
     "iopub.status.idle": "2021-09-07T17:03:05.143038Z",
     "shell.execute_reply": "2021-09-07T17:03:05.142125Z",
     "shell.execute_reply.started": "2021-09-07T17:02:37.382324Z"
    }
   },
   "outputs": [],
   "source": [
    "train = pd.read_csv(\"train.csv\")\n",
    "test = pd.read_csv(\"test.csv\")"
   ]
  },
  {
   "cell_type": "code",
   "execution_count": 3,
   "metadata": {
    "execution": {
     "iopub.execute_input": "2021-09-07T17:03:56.33812Z",
     "iopub.status.busy": "2021-09-07T17:03:56.337796Z",
     "iopub.status.idle": "2021-09-07T17:03:56.378826Z",
     "shell.execute_reply": "2021-09-07T17:03:56.377809Z",
     "shell.execute_reply.started": "2021-09-07T17:03:56.338091Z"
    }
   },
   "outputs": [
    {
     "data": {
      "text/html": [
       "<div>\n",
       "<style scoped>\n",
       "    .dataframe tbody tr th:only-of-type {\n",
       "        vertical-align: middle;\n",
       "    }\n",
       "\n",
       "    .dataframe tbody tr th {\n",
       "        vertical-align: top;\n",
       "    }\n",
       "\n",
       "    .dataframe thead th {\n",
       "        text-align: right;\n",
       "    }\n",
       "</style>\n",
       "<table border=\"1\" class=\"dataframe\">\n",
       "  <thead>\n",
       "    <tr style=\"text-align: right;\">\n",
       "      <th></th>\n",
       "      <th>id</th>\n",
       "      <th>f1</th>\n",
       "      <th>f2</th>\n",
       "      <th>f3</th>\n",
       "      <th>f4</th>\n",
       "      <th>f5</th>\n",
       "      <th>f6</th>\n",
       "      <th>f7</th>\n",
       "      <th>f8</th>\n",
       "      <th>f9</th>\n",
       "      <th>...</th>\n",
       "      <th>f110</th>\n",
       "      <th>f111</th>\n",
       "      <th>f112</th>\n",
       "      <th>f113</th>\n",
       "      <th>f114</th>\n",
       "      <th>f115</th>\n",
       "      <th>f116</th>\n",
       "      <th>f117</th>\n",
       "      <th>f118</th>\n",
       "      <th>claim</th>\n",
       "    </tr>\n",
       "  </thead>\n",
       "  <tbody>\n",
       "    <tr>\n",
       "      <th>0</th>\n",
       "      <td>0</td>\n",
       "      <td>0.10859</td>\n",
       "      <td>0.004314</td>\n",
       "      <td>-37.566</td>\n",
       "      <td>0.017364</td>\n",
       "      <td>0.28915</td>\n",
       "      <td>-10.25100</td>\n",
       "      <td>135.12</td>\n",
       "      <td>168900.0</td>\n",
       "      <td>3.992400e+14</td>\n",
       "      <td>...</td>\n",
       "      <td>-12.2280</td>\n",
       "      <td>1.7482</td>\n",
       "      <td>1.90960</td>\n",
       "      <td>-7.11570</td>\n",
       "      <td>4378.80</td>\n",
       "      <td>1.2096</td>\n",
       "      <td>8.613400e+14</td>\n",
       "      <td>140.1</td>\n",
       "      <td>1.01770</td>\n",
       "      <td>1</td>\n",
       "    </tr>\n",
       "    <tr>\n",
       "      <th>1</th>\n",
       "      <td>1</td>\n",
       "      <td>0.10090</td>\n",
       "      <td>0.299610</td>\n",
       "      <td>11822.000</td>\n",
       "      <td>0.276500</td>\n",
       "      <td>0.45970</td>\n",
       "      <td>-0.83733</td>\n",
       "      <td>1721.90</td>\n",
       "      <td>119810.0</td>\n",
       "      <td>3.874100e+15</td>\n",
       "      <td>...</td>\n",
       "      <td>-56.7580</td>\n",
       "      <td>4.1684</td>\n",
       "      <td>0.34808</td>\n",
       "      <td>4.14200</td>\n",
       "      <td>913.23</td>\n",
       "      <td>1.2464</td>\n",
       "      <td>7.575100e+15</td>\n",
       "      <td>1861.0</td>\n",
       "      <td>0.28359</td>\n",
       "      <td>0</td>\n",
       "    </tr>\n",
       "    <tr>\n",
       "      <th>2</th>\n",
       "      <td>2</td>\n",
       "      <td>0.17803</td>\n",
       "      <td>-0.006980</td>\n",
       "      <td>907.270</td>\n",
       "      <td>0.272140</td>\n",
       "      <td>0.45948</td>\n",
       "      <td>0.17327</td>\n",
       "      <td>2298.00</td>\n",
       "      <td>360650.0</td>\n",
       "      <td>1.224500e+13</td>\n",
       "      <td>...</td>\n",
       "      <td>-5.7688</td>\n",
       "      <td>1.2042</td>\n",
       "      <td>0.26290</td>\n",
       "      <td>8.13120</td>\n",
       "      <td>45119.00</td>\n",
       "      <td>1.1764</td>\n",
       "      <td>3.218100e+14</td>\n",
       "      <td>3838.2</td>\n",
       "      <td>0.40690</td>\n",
       "      <td>1</td>\n",
       "    </tr>\n",
       "    <tr>\n",
       "      <th>3</th>\n",
       "      <td>3</td>\n",
       "      <td>0.15236</td>\n",
       "      <td>0.007259</td>\n",
       "      <td>780.100</td>\n",
       "      <td>0.025179</td>\n",
       "      <td>0.51947</td>\n",
       "      <td>7.49140</td>\n",
       "      <td>112.51</td>\n",
       "      <td>259490.0</td>\n",
       "      <td>7.781400e+13</td>\n",
       "      <td>...</td>\n",
       "      <td>-34.8580</td>\n",
       "      <td>2.0694</td>\n",
       "      <td>0.79631</td>\n",
       "      <td>-16.33600</td>\n",
       "      <td>4952.40</td>\n",
       "      <td>1.1784</td>\n",
       "      <td>4.533000e+12</td>\n",
       "      <td>4889.1</td>\n",
       "      <td>0.51486</td>\n",
       "      <td>1</td>\n",
       "    </tr>\n",
       "    <tr>\n",
       "      <th>4</th>\n",
       "      <td>4</td>\n",
       "      <td>0.11623</td>\n",
       "      <td>0.502900</td>\n",
       "      <td>-109.150</td>\n",
       "      <td>0.297910</td>\n",
       "      <td>0.34490</td>\n",
       "      <td>-0.40932</td>\n",
       "      <td>2538.90</td>\n",
       "      <td>65332.0</td>\n",
       "      <td>1.907200e+15</td>\n",
       "      <td>...</td>\n",
       "      <td>-13.6410</td>\n",
       "      <td>1.5298</td>\n",
       "      <td>1.14640</td>\n",
       "      <td>-0.43124</td>\n",
       "      <td>3856.50</td>\n",
       "      <td>1.4830</td>\n",
       "      <td>-8.991300e+12</td>\n",
       "      <td>NaN</td>\n",
       "      <td>0.23049</td>\n",
       "      <td>1</td>\n",
       "    </tr>\n",
       "  </tbody>\n",
       "</table>\n",
       "<p>5 rows × 120 columns</p>\n",
       "</div>"
      ],
      "text/plain": [
       "   id       f1        f2         f3        f4       f5        f6       f7  \\\n",
       "0   0  0.10859  0.004314    -37.566  0.017364  0.28915 -10.25100   135.12   \n",
       "1   1  0.10090  0.299610  11822.000  0.276500  0.45970  -0.83733  1721.90   \n",
       "2   2  0.17803 -0.006980    907.270  0.272140  0.45948   0.17327  2298.00   \n",
       "3   3  0.15236  0.007259    780.100  0.025179  0.51947   7.49140   112.51   \n",
       "4   4  0.11623  0.502900   -109.150  0.297910  0.34490  -0.40932  2538.90   \n",
       "\n",
       "         f8            f9  ...     f110    f111     f112      f113      f114  \\\n",
       "0  168900.0  3.992400e+14  ... -12.2280  1.7482  1.90960  -7.11570   4378.80   \n",
       "1  119810.0  3.874100e+15  ... -56.7580  4.1684  0.34808   4.14200    913.23   \n",
       "2  360650.0  1.224500e+13  ...  -5.7688  1.2042  0.26290   8.13120  45119.00   \n",
       "3  259490.0  7.781400e+13  ... -34.8580  2.0694  0.79631 -16.33600   4952.40   \n",
       "4   65332.0  1.907200e+15  ... -13.6410  1.5298  1.14640  -0.43124   3856.50   \n",
       "\n",
       "     f115          f116    f117     f118  claim  \n",
       "0  1.2096  8.613400e+14   140.1  1.01770      1  \n",
       "1  1.2464  7.575100e+15  1861.0  0.28359      0  \n",
       "2  1.1764  3.218100e+14  3838.2  0.40690      1  \n",
       "3  1.1784  4.533000e+12  4889.1  0.51486      1  \n",
       "4  1.4830 -8.991300e+12     NaN  0.23049      1  \n",
       "\n",
       "[5 rows x 120 columns]"
      ]
     },
     "execution_count": 3,
     "metadata": {},
     "output_type": "execute_result"
    }
   ],
   "source": [
    "train.head()"
   ]
  },
  {
   "cell_type": "code",
   "execution_count": 4,
   "metadata": {
    "execution": {
     "iopub.execute_input": "2021-09-07T17:03:58.345812Z",
     "iopub.status.busy": "2021-09-07T17:03:58.345459Z",
     "iopub.status.idle": "2021-09-07T17:03:58.375451Z",
     "shell.execute_reply": "2021-09-07T17:03:58.374745Z",
     "shell.execute_reply.started": "2021-09-07T17:03:58.345765Z"
    }
   },
   "outputs": [
    {
     "data": {
      "text/html": [
       "<div>\n",
       "<style scoped>\n",
       "    .dataframe tbody tr th:only-of-type {\n",
       "        vertical-align: middle;\n",
       "    }\n",
       "\n",
       "    .dataframe tbody tr th {\n",
       "        vertical-align: top;\n",
       "    }\n",
       "\n",
       "    .dataframe thead th {\n",
       "        text-align: right;\n",
       "    }\n",
       "</style>\n",
       "<table border=\"1\" class=\"dataframe\">\n",
       "  <thead>\n",
       "    <tr style=\"text-align: right;\">\n",
       "      <th></th>\n",
       "      <th>id</th>\n",
       "      <th>f1</th>\n",
       "      <th>f2</th>\n",
       "      <th>f3</th>\n",
       "      <th>f4</th>\n",
       "      <th>f5</th>\n",
       "      <th>f6</th>\n",
       "      <th>f7</th>\n",
       "      <th>f8</th>\n",
       "      <th>f9</th>\n",
       "      <th>...</th>\n",
       "      <th>f109</th>\n",
       "      <th>f110</th>\n",
       "      <th>f111</th>\n",
       "      <th>f112</th>\n",
       "      <th>f113</th>\n",
       "      <th>f114</th>\n",
       "      <th>f115</th>\n",
       "      <th>f116</th>\n",
       "      <th>f117</th>\n",
       "      <th>f118</th>\n",
       "    </tr>\n",
       "  </thead>\n",
       "  <tbody>\n",
       "    <tr>\n",
       "      <th>0</th>\n",
       "      <td>957919</td>\n",
       "      <td>0.165850</td>\n",
       "      <td>0.487050</td>\n",
       "      <td>1295.00</td>\n",
       "      <td>0.02310</td>\n",
       "      <td>0.31900</td>\n",
       "      <td>0.90188</td>\n",
       "      <td>573.29</td>\n",
       "      <td>3743.7</td>\n",
       "      <td>2.705700e+12</td>\n",
       "      <td>...</td>\n",
       "      <td>0.16253</td>\n",
       "      <td>-22.1890</td>\n",
       "      <td>2.0655</td>\n",
       "      <td>0.430880</td>\n",
       "      <td>-10.7410</td>\n",
       "      <td>81606.0</td>\n",
       "      <td>1.1940</td>\n",
       "      <td>1.980400e+14</td>\n",
       "      <td>2017.1</td>\n",
       "      <td>0.46357</td>\n",
       "    </tr>\n",
       "    <tr>\n",
       "      <th>1</th>\n",
       "      <td>957920</td>\n",
       "      <td>0.129650</td>\n",
       "      <td>0.373480</td>\n",
       "      <td>1763.00</td>\n",
       "      <td>0.72884</td>\n",
       "      <td>0.33247</td>\n",
       "      <td>-1.26310</td>\n",
       "      <td>875.55</td>\n",
       "      <td>554370.0</td>\n",
       "      <td>5.955700e+14</td>\n",
       "      <td>...</td>\n",
       "      <td>0.81528</td>\n",
       "      <td>-1.6342</td>\n",
       "      <td>1.5736</td>\n",
       "      <td>-1.071200</td>\n",
       "      <td>11.8320</td>\n",
       "      <td>90114.0</td>\n",
       "      <td>1.1507</td>\n",
       "      <td>4.388000e+16</td>\n",
       "      <td>6638.9</td>\n",
       "      <td>0.28125</td>\n",
       "    </tr>\n",
       "    <tr>\n",
       "      <th>2</th>\n",
       "      <td>957921</td>\n",
       "      <td>0.120190</td>\n",
       "      <td>0.445210</td>\n",
       "      <td>736.26</td>\n",
       "      <td>0.04615</td>\n",
       "      <td>0.29605</td>\n",
       "      <td>0.31665</td>\n",
       "      <td>2659.50</td>\n",
       "      <td>317140.0</td>\n",
       "      <td>3.977800e+14</td>\n",
       "      <td>...</td>\n",
       "      <td>0.81831</td>\n",
       "      <td>-32.7800</td>\n",
       "      <td>2.1364</td>\n",
       "      <td>-1.931200</td>\n",
       "      <td>-3.2804</td>\n",
       "      <td>37739.0</td>\n",
       "      <td>1.1548</td>\n",
       "      <td>1.718100e+14</td>\n",
       "      <td>5844.0</td>\n",
       "      <td>0.13797</td>\n",
       "    </tr>\n",
       "    <tr>\n",
       "      <th>3</th>\n",
       "      <td>957922</td>\n",
       "      <td>0.054008</td>\n",
       "      <td>0.395960</td>\n",
       "      <td>996.14</td>\n",
       "      <td>0.85934</td>\n",
       "      <td>0.36678</td>\n",
       "      <td>-0.17060</td>\n",
       "      <td>386.56</td>\n",
       "      <td>325680.0</td>\n",
       "      <td>-3.432200e+13</td>\n",
       "      <td>...</td>\n",
       "      <td>0.86559</td>\n",
       "      <td>-2.4162</td>\n",
       "      <td>1.5199</td>\n",
       "      <td>-0.011633</td>\n",
       "      <td>1.3840</td>\n",
       "      <td>26849.0</td>\n",
       "      <td>1.1490</td>\n",
       "      <td>2.138800e+17</td>\n",
       "      <td>6173.3</td>\n",
       "      <td>0.32910</td>\n",
       "    </tr>\n",
       "    <tr>\n",
       "      <th>4</th>\n",
       "      <td>957923</td>\n",
       "      <td>0.079947</td>\n",
       "      <td>-0.006919</td>\n",
       "      <td>10574.00</td>\n",
       "      <td>0.34845</td>\n",
       "      <td>0.45008</td>\n",
       "      <td>-1.84200</td>\n",
       "      <td>3027.00</td>\n",
       "      <td>428150.0</td>\n",
       "      <td>9.291500e+11</td>\n",
       "      <td>...</td>\n",
       "      <td>0.25190</td>\n",
       "      <td>-18.6300</td>\n",
       "      <td>3.7387</td>\n",
       "      <td>0.757080</td>\n",
       "      <td>-4.9405</td>\n",
       "      <td>50336.0</td>\n",
       "      <td>1.2488</td>\n",
       "      <td>2.151300e+17</td>\n",
       "      <td>2250.1</td>\n",
       "      <td>0.33796</td>\n",
       "    </tr>\n",
       "  </tbody>\n",
       "</table>\n",
       "<p>5 rows × 119 columns</p>\n",
       "</div>"
      ],
      "text/plain": [
       "       id        f1        f2        f3       f4       f5       f6       f7  \\\n",
       "0  957919  0.165850  0.487050   1295.00  0.02310  0.31900  0.90188   573.29   \n",
       "1  957920  0.129650  0.373480   1763.00  0.72884  0.33247 -1.26310   875.55   \n",
       "2  957921  0.120190  0.445210    736.26  0.04615  0.29605  0.31665  2659.50   \n",
       "3  957922  0.054008  0.395960    996.14  0.85934  0.36678 -0.17060   386.56   \n",
       "4  957923  0.079947 -0.006919  10574.00  0.34845  0.45008 -1.84200  3027.00   \n",
       "\n",
       "         f8            f9  ...     f109     f110    f111      f112     f113  \\\n",
       "0    3743.7  2.705700e+12  ...  0.16253 -22.1890  2.0655  0.430880 -10.7410   \n",
       "1  554370.0  5.955700e+14  ...  0.81528  -1.6342  1.5736 -1.071200  11.8320   \n",
       "2  317140.0  3.977800e+14  ...  0.81831 -32.7800  2.1364 -1.931200  -3.2804   \n",
       "3  325680.0 -3.432200e+13  ...  0.86559  -2.4162  1.5199 -0.011633   1.3840   \n",
       "4  428150.0  9.291500e+11  ...  0.25190 -18.6300  3.7387  0.757080  -4.9405   \n",
       "\n",
       "      f114    f115          f116    f117     f118  \n",
       "0  81606.0  1.1940  1.980400e+14  2017.1  0.46357  \n",
       "1  90114.0  1.1507  4.388000e+16  6638.9  0.28125  \n",
       "2  37739.0  1.1548  1.718100e+14  5844.0  0.13797  \n",
       "3  26849.0  1.1490  2.138800e+17  6173.3  0.32910  \n",
       "4  50336.0  1.2488  2.151300e+17  2250.1  0.33796  \n",
       "\n",
       "[5 rows x 119 columns]"
      ]
     },
     "execution_count": 4,
     "metadata": {},
     "output_type": "execute_result"
    }
   ],
   "source": [
    "test.head()"
   ]
  },
  {
   "cell_type": "markdown",
   "metadata": {},
   "source": [
    "## EDA & Data Preprocessing"
   ]
  },
  {
   "cell_type": "markdown",
   "metadata": {},
   "source": [
    "### Drop ID columns"
   ]
  },
  {
   "cell_type": "code",
   "execution_count": 5,
   "metadata": {
    "execution": {
     "iopub.execute_input": "2021-09-07T17:04:01.583246Z",
     "iopub.status.busy": "2021-09-07T17:04:01.582943Z",
     "iopub.status.idle": "2021-09-07T17:04:01.590071Z",
     "shell.execute_reply": "2021-09-07T17:04:01.588973Z",
     "shell.execute_reply.started": "2021-09-07T17:04:01.583219Z"
    }
   },
   "outputs": [],
   "source": [
    "train.pop(\"id\")\n",
    "test_ids = test.pop(\"id\")"
   ]
  },
  {
   "cell_type": "markdown",
   "metadata": {},
   "source": [
    "### Get Train data Targets"
   ]
  },
  {
   "cell_type": "code",
   "execution_count": 6,
   "metadata": {
    "execution": {
     "iopub.execute_input": "2021-09-07T17:04:23.307214Z",
     "iopub.status.busy": "2021-09-07T17:04:23.30688Z",
     "iopub.status.idle": "2021-09-07T17:04:23.3602Z",
     "shell.execute_reply": "2021-09-07T17:04:23.358763Z",
     "shell.execute_reply.started": "2021-09-07T17:04:23.307185Z"
    }
   },
   "outputs": [],
   "source": [
    "train_targets = train.pop(\"claim\")"
   ]
  },
  {
   "cell_type": "code",
   "execution_count": 7,
   "metadata": {
    "execution": {
     "iopub.execute_input": "2021-09-07T17:04:27.436466Z",
     "iopub.status.busy": "2021-09-07T17:04:27.436125Z",
     "iopub.status.idle": "2021-09-07T17:04:27.444477Z",
     "shell.execute_reply": "2021-09-07T17:04:27.443338Z",
     "shell.execute_reply.started": "2021-09-07T17:04:27.436436Z"
    }
   },
   "outputs": [
    {
     "data": {
      "text/plain": [
       "0    1\n",
       "1    0\n",
       "2    1\n",
       "3    1\n",
       "4    1\n",
       "Name: claim, dtype: int64"
      ]
     },
     "execution_count": 7,
     "metadata": {},
     "output_type": "execute_result"
    }
   ],
   "source": [
    "train_targets.head()"
   ]
  },
  {
   "cell_type": "markdown",
   "metadata": {},
   "source": [
    "The labels looks balanced. "
   ]
  },
  {
   "cell_type": "code",
   "execution_count": 8,
   "metadata": {
    "execution": {
     "iopub.execute_input": "2021-09-07T17:04:29.807952Z",
     "iopub.status.busy": "2021-09-07T17:04:29.807498Z",
     "iopub.status.idle": "2021-09-07T17:04:29.965419Z",
     "shell.execute_reply": "2021-09-07T17:04:29.964653Z",
     "shell.execute_reply.started": "2021-09-07T17:04:29.807908Z"
    }
   },
   "outputs": [
    {
     "name": "stderr",
     "output_type": "stream",
     "text": [
      "C:\\Users\\Rahul\\Miniconda3\\envs\\ml\\lib\\site-packages\\seaborn\\_decorators.py:36: FutureWarning: Pass the following variable as a keyword arg: x. From version 0.12, the only valid positional argument will be `data`, and passing other arguments without an explicit keyword will result in an error or misinterpretation.\n",
      "  warnings.warn(\n"
     ]
    },
    {
     "data": {
      "text/plain": [
       "<AxesSubplot:xlabel='claim', ylabel='count'>"
      ]
     },
     "execution_count": 8,
     "metadata": {},
     "output_type": "execute_result"
    },
    {
     "data": {
      "image/png": "[encoded data removed]",
      "text/plain": [
       "<Figure size 432x288 with 1 Axes>"
      ]
     },
     "metadata": {
      "needs_background": "light"
     },
     "output_type": "display_data"
    }
   ],
   "source": [
    "sns.countplot(train_targets)"
   ]
  },
  {
   "cell_type": "markdown",
   "metadata": {},
   "source": [
    "Let's see statistic info between train set and test set and compare their differences, which are very small execpt for their total numbers.  Some of the parameters has a great difference, so I will apply log transformation to reduce their skewness."
   ]
  },
  {
   "cell_type": "code",
   "execution_count": 9,
   "metadata": {
    "execution": {
     "iopub.execute_input": "2021-09-07T17:04:37.272199Z",
     "iopub.status.busy": "2021-09-07T17:04:37.271878Z",
     "iopub.status.idle": "2021-09-07T17:04:41.192358Z",
     "shell.execute_reply": "2021-09-07T17:04:41.19154Z",
     "shell.execute_reply.started": "2021-09-07T17:04:37.272173Z"
    }
   },
   "outputs": [
    {
     "data": {
      "text/html": [
       "<div>\n",
       "<style scoped>\n",
       "    .dataframe tbody tr th:only-of-type {\n",
       "        vertical-align: middle;\n",
       "    }\n",
       "\n",
       "    .dataframe tbody tr th {\n",
       "        vertical-align: top;\n",
       "    }\n",
       "\n",
       "    .dataframe thead th {\n",
       "        text-align: right;\n",
       "    }\n",
       "</style>\n",
       "<table border=\"1\" class=\"dataframe\">\n",
       "  <thead>\n",
       "    <tr style=\"text-align: right;\">\n",
       "      <th></th>\n",
       "      <th>count</th>\n",
       "      <th>mean</th>\n",
       "      <th>std</th>\n",
       "      <th>min</th>\n",
       "      <th>25%</th>\n",
       "      <th>50%</th>\n",
       "      <th>75%</th>\n",
       "      <th>max</th>\n",
       "    </tr>\n",
       "  </thead>\n",
       "  <tbody>\n",
       "    <tr>\n",
       "      <th>f1</th>\n",
       "      <td>942672.0</td>\n",
       "      <td>9.020086e-02</td>\n",
       "      <td>4.356374e-02</td>\n",
       "      <td>-1.499100e-01</td>\n",
       "      <td>7.022700e-02</td>\n",
       "      <td>9.013500e-02</td>\n",
       "      <td>1.165000e-01</td>\n",
       "      <td>4.151700e-01</td>\n",
       "    </tr>\n",
       "    <tr>\n",
       "      <th>f2</th>\n",
       "      <td>942729.0</td>\n",
       "      <td>3.459637e-01</td>\n",
       "      <td>1.462507e-01</td>\n",
       "      <td>-1.904400e-02</td>\n",
       "      <td>2.830500e-01</td>\n",
       "      <td>3.891000e-01</td>\n",
       "      <td>4.584500e-01</td>\n",
       "      <td>5.189900e-01</td>\n",
       "    </tr>\n",
       "    <tr>\n",
       "      <th>f3</th>\n",
       "      <td>942428.0</td>\n",
       "      <td>4.068744e+03</td>\n",
       "      <td>6.415829e+03</td>\n",
       "      <td>-9.421700e+03</td>\n",
       "      <td>4.184300e+02</td>\n",
       "      <td>1.279500e+03</td>\n",
       "      <td>4.444400e+03</td>\n",
       "      <td>3.954400e+04</td>\n",
       "    </tr>\n",
       "    <tr>\n",
       "      <th>f4</th>\n",
       "      <td>942359.0</td>\n",
       "      <td>2.012140e-01</td>\n",
       "      <td>2.125103e-01</td>\n",
       "      <td>-8.212200e-02</td>\n",
       "      <td>3.508650e-02</td>\n",
       "      <td>1.370000e-01</td>\n",
       "      <td>2.971000e-01</td>\n",
       "      <td>1.319900e+00</td>\n",
       "    </tr>\n",
       "    <tr>\n",
       "      <th>f5</th>\n",
       "      <td>942514.0</td>\n",
       "      <td>3.048693e-01</td>\n",
       "      <td>1.453425e-01</td>\n",
       "      <td>-6.989800e-03</td>\n",
       "      <td>2.405200e-01</td>\n",
       "      <td>3.277900e-01</td>\n",
       "      <td>4.128300e-01</td>\n",
       "      <td>5.547500e-01</td>\n",
       "    </tr>\n",
       "    <tr>\n",
       "      <th>...</th>\n",
       "      <td>...</td>\n",
       "      <td>...</td>\n",
       "      <td>...</td>\n",
       "      <td>...</td>\n",
       "      <td>...</td>\n",
       "      <td>...</td>\n",
       "      <td>...</td>\n",
       "      <td>...</td>\n",
       "    </tr>\n",
       "    <tr>\n",
       "      <th>f114</th>\n",
       "      <td>942481.0</td>\n",
       "      <td>6.315297e+04</td>\n",
       "      <td>9.243502e+04</td>\n",
       "      <td>-8.197700e+04</td>\n",
       "      <td>2.443200e+03</td>\n",
       "      <td>1.947900e+04</td>\n",
       "      <td>8.848800e+04</td>\n",
       "      <td>5.260500e+05</td>\n",
       "    </tr>\n",
       "    <tr>\n",
       "      <th>f115</th>\n",
       "      <td>942360.0</td>\n",
       "      <td>1.208876e+00</td>\n",
       "      <td>1.149588e-01</td>\n",
       "      <td>9.052700e-01</td>\n",
       "      <td>1.146800e+00</td>\n",
       "      <td>1.177200e+00</td>\n",
       "      <td>1.242000e+00</td>\n",
       "      <td>1.886700e+00</td>\n",
       "    </tr>\n",
       "    <tr>\n",
       "      <th>f116</th>\n",
       "      <td>942330.0</td>\n",
       "      <td>4.276905e+16</td>\n",
       "      <td>6.732441e+16</td>\n",
       "      <td>-8.944400e+15</td>\n",
       "      <td>2.321100e+14</td>\n",
       "      <td>1.327500e+16</td>\n",
       "      <td>5.278700e+16</td>\n",
       "      <td>3.249900e+17</td>\n",
       "    </tr>\n",
       "    <tr>\n",
       "      <th>f117</th>\n",
       "      <td>942512.0</td>\n",
       "      <td>3.959205e+03</td>\n",
       "      <td>3.155992e+03</td>\n",
       "      <td>-4.152400e+02</td>\n",
       "      <td>1.306200e+03</td>\n",
       "      <td>3.228000e+03</td>\n",
       "      <td>6.137900e+03</td>\n",
       "      <td>1.315100e+04</td>\n",
       "    </tr>\n",
       "    <tr>\n",
       "      <th>f118</th>\n",
       "      <td>942707.0</td>\n",
       "      <td>5.592672e-01</td>\n",
       "      <td>4.084261e-01</td>\n",
       "      <td>-1.512400e-01</td>\n",
       "      <td>2.765600e-01</td>\n",
       "      <td>4.734400e-01</td>\n",
       "      <td>7.462100e-01</td>\n",
       "      <td>2.743600e+00</td>\n",
       "    </tr>\n",
       "  </tbody>\n",
       "</table>\n",
       "<p>118 rows × 8 columns</p>\n",
       "</div>"
      ],
      "text/plain": [
       "         count          mean           std           min           25%  \\\n",
       "f1    942672.0  9.020086e-02  4.356374e-02 -1.499100e-01  7.022700e-02   \n",
       "f2    942729.0  3.459637e-01  1.462507e-01 -1.904400e-02  2.830500e-01   \n",
       "f3    942428.0  4.068744e+03  6.415829e+03 -9.421700e+03  4.184300e+02   \n",
       "f4    942359.0  2.012140e-01  2.125103e-01 -8.212200e-02  3.508650e-02   \n",
       "f5    942514.0  3.048693e-01  1.453425e-01 -6.989800e-03  2.405200e-01   \n",
       "...        ...           ...           ...           ...           ...   \n",
       "f114  942481.0  6.315297e+04  9.243502e+04 -8.197700e+04  2.443200e+03   \n",
       "f115  942360.0  1.208876e+00  1.149588e-01  9.052700e-01  1.146800e+00   \n",
       "f116  942330.0  4.276905e+16  6.732441e+16 -8.944400e+15  2.321100e+14   \n",
       "f117  942512.0  3.959205e+03  3.155992e+03 -4.152400e+02  1.306200e+03   \n",
       "f118  942707.0  5.592672e-01  4.084261e-01 -1.512400e-01  2.765600e-01   \n",
       "\n",
       "               50%           75%           max  \n",
       "f1    9.013500e-02  1.165000e-01  4.151700e-01  \n",
       "f2    3.891000e-01  4.584500e-01  5.189900e-01  \n",
       "f3    1.279500e+03  4.444400e+03  3.954400e+04  \n",
       "f4    1.370000e-01  2.971000e-01  1.319900e+00  \n",
       "f5    3.277900e-01  4.128300e-01  5.547500e-01  \n",
       "...            ...           ...           ...  \n",
       "f114  1.947900e+04  8.848800e+04  5.260500e+05  \n",
       "f115  1.177200e+00  1.242000e+00  1.886700e+00  \n",
       "f116  1.327500e+16  5.278700e+16  3.249900e+17  \n",
       "f117  3.228000e+03  6.137900e+03  1.315100e+04  \n",
       "f118  4.734400e-01  7.462100e-01  2.743600e+00  \n",
       "\n",
       "[118 rows x 8 columns]"
      ]
     },
     "execution_count": 9,
     "metadata": {},
     "output_type": "execute_result"
    }
   ],
   "source": [
    "train_desc = train.describe()\n",
    "train_desc.transpose()"
   ]
  },
  {
   "cell_type": "code",
   "execution_count": 10,
   "metadata": {
    "execution": {
     "iopub.execute_input": "2021-09-07T17:05:12.477995Z",
     "iopub.status.busy": "2021-09-07T17:05:12.477635Z",
     "iopub.status.idle": "2021-09-07T17:05:14.620261Z",
     "shell.execute_reply": "2021-09-07T17:05:14.619465Z",
     "shell.execute_reply.started": "2021-09-07T17:05:12.477965Z"
    }
   },
   "outputs": [
    {
     "data": {
      "text/html": [
       "<div>\n",
       "<style scoped>\n",
       "    .dataframe tbody tr th:only-of-type {\n",
       "        vertical-align: middle;\n",
       "    }\n",
       "\n",
       "    .dataframe tbody tr th {\n",
       "        vertical-align: top;\n",
       "    }\n",
       "\n",
       "    .dataframe thead th {\n",
       "        text-align: right;\n",
       "    }\n",
       "</style>\n",
       "<table border=\"1\" class=\"dataframe\">\n",
       "  <thead>\n",
       "    <tr style=\"text-align: right;\">\n",
       "      <th></th>\n",
       "      <th>count</th>\n",
       "      <th>mean</th>\n",
       "      <th>std</th>\n",
       "      <th>min</th>\n",
       "      <th>25%</th>\n",
       "      <th>50%</th>\n",
       "      <th>75%</th>\n",
       "      <th>max</th>\n",
       "    </tr>\n",
       "  </thead>\n",
       "  <tbody>\n",
       "    <tr>\n",
       "      <th>f1</th>\n",
       "      <td>485662.0</td>\n",
       "      <td>9.019114e-02</td>\n",
       "      <td>4.353777e-02</td>\n",
       "      <td>-1.531900e-01</td>\n",
       "      <td>7.021100e-02</td>\n",
       "      <td>9.017300e-02</td>\n",
       "      <td>1.165075e-01</td>\n",
       "      <td>4.129000e-01</td>\n",
       "    </tr>\n",
       "    <tr>\n",
       "      <th>f2</th>\n",
       "      <td>485583.0</td>\n",
       "      <td>3.461425e-01</td>\n",
       "      <td>1.458888e-01</td>\n",
       "      <td>-1.906000e-02</td>\n",
       "      <td>2.836600e-01</td>\n",
       "      <td>3.889400e-01</td>\n",
       "      <td>4.583100e-01</td>\n",
       "      <td>5.198800e-01</td>\n",
       "    </tr>\n",
       "    <tr>\n",
       "      <th>f3</th>\n",
       "      <td>485679.0</td>\n",
       "      <td>4.047202e+03</td>\n",
       "      <td>6.383225e+03</td>\n",
       "      <td>-9.436300e+03</td>\n",
       "      <td>4.188350e+02</td>\n",
       "      <td>1.277900e+03</td>\n",
       "      <td>4.421400e+03</td>\n",
       "      <td>3.984100e+04</td>\n",
       "    </tr>\n",
       "    <tr>\n",
       "      <th>f4</th>\n",
       "      <td>485741.0</td>\n",
       "      <td>2.015029e-01</td>\n",
       "      <td>2.125533e-01</td>\n",
       "      <td>-8.071600e-02</td>\n",
       "      <td>3.516900e-02</td>\n",
       "      <td>1.373500e-01</td>\n",
       "      <td>2.971600e-01</td>\n",
       "      <td>1.310200e+00</td>\n",
       "    </tr>\n",
       "    <tr>\n",
       "      <th>f5</th>\n",
       "      <td>485597.0</td>\n",
       "      <td>3.048788e-01</td>\n",
       "      <td>1.454351e-01</td>\n",
       "      <td>-7.006900e-03</td>\n",
       "      <td>2.406000e-01</td>\n",
       "      <td>3.280200e-01</td>\n",
       "      <td>4.128100e-01</td>\n",
       "      <td>5.555800e-01</td>\n",
       "    </tr>\n",
       "    <tr>\n",
       "      <th>...</th>\n",
       "      <td>...</td>\n",
       "      <td>...</td>\n",
       "      <td>...</td>\n",
       "      <td>...</td>\n",
       "      <td>...</td>\n",
       "      <td>...</td>\n",
       "      <td>...</td>\n",
       "      <td>...</td>\n",
       "    </tr>\n",
       "    <tr>\n",
       "      <th>f114</th>\n",
       "      <td>485532.0</td>\n",
       "      <td>6.305129e+04</td>\n",
       "      <td>9.227903e+04</td>\n",
       "      <td>-8.138100e+04</td>\n",
       "      <td>2.474875e+03</td>\n",
       "      <td>1.942900e+04</td>\n",
       "      <td>8.830950e+04</td>\n",
       "      <td>5.215400e+05</td>\n",
       "    </tr>\n",
       "    <tr>\n",
       "      <th>f115</th>\n",
       "      <td>485497.0</td>\n",
       "      <td>1.209049e+00</td>\n",
       "      <td>1.150736e-01</td>\n",
       "      <td>9.007000e-01</td>\n",
       "      <td>1.146800e+00</td>\n",
       "      <td>1.177200e+00</td>\n",
       "      <td>1.242300e+00</td>\n",
       "      <td>1.877900e+00</td>\n",
       "    </tr>\n",
       "    <tr>\n",
       "      <th>f116</th>\n",
       "      <td>485391.0</td>\n",
       "      <td>4.284258e+16</td>\n",
       "      <td>6.743966e+16</td>\n",
       "      <td>-7.749400e+15</td>\n",
       "      <td>2.317850e+14</td>\n",
       "      <td>1.330400e+16</td>\n",
       "      <td>5.284700e+16</td>\n",
       "      <td>3.239500e+17</td>\n",
       "    </tr>\n",
       "    <tr>\n",
       "      <th>f117</th>\n",
       "      <td>485711.0</td>\n",
       "      <td>3.968586e+03</td>\n",
       "      <td>3.161273e+03</td>\n",
       "      <td>-4.162400e+02</td>\n",
       "      <td>1.310000e+03</td>\n",
       "      <td>3.237100e+03</td>\n",
       "      <td>6.157300e+03</td>\n",
       "      <td>1.319800e+04</td>\n",
       "    </tr>\n",
       "    <tr>\n",
       "      <th>f118</th>\n",
       "      <td>485589.0</td>\n",
       "      <td>5.587338e-01</td>\n",
       "      <td>4.084724e-01</td>\n",
       "      <td>-1.869600e-01</td>\n",
       "      <td>2.767600e-01</td>\n",
       "      <td>4.737900e-01</td>\n",
       "      <td>7.449700e-01</td>\n",
       "      <td>2.732000e+00</td>\n",
       "    </tr>\n",
       "  </tbody>\n",
       "</table>\n",
       "<p>118 rows × 8 columns</p>\n",
       "</div>"
      ],
      "text/plain": [
       "         count          mean           std           min           25%  \\\n",
       "f1    485662.0  9.019114e-02  4.353777e-02 -1.531900e-01  7.021100e-02   \n",
       "f2    485583.0  3.461425e-01  1.458888e-01 -1.906000e-02  2.836600e-01   \n",
       "f3    485679.0  4.047202e+03  6.383225e+03 -9.436300e+03  4.188350e+02   \n",
       "f4    485741.0  2.015029e-01  2.125533e-01 -8.071600e-02  3.516900e-02   \n",
       "f5    485597.0  3.048788e-01  1.454351e-01 -7.006900e-03  2.406000e-01   \n",
       "...        ...           ...           ...           ...           ...   \n",
       "f114  485532.0  6.305129e+04  9.227903e+04 -8.138100e+04  2.474875e+03   \n",
       "f115  485497.0  1.209049e+00  1.150736e-01  9.007000e-01  1.146800e+00   \n",
       "f116  485391.0  4.284258e+16  6.743966e+16 -7.749400e+15  2.317850e+14   \n",
       "f117  485711.0  3.968586e+03  3.161273e+03 -4.162400e+02  1.310000e+03   \n",
       "f118  485589.0  5.587338e-01  4.084724e-01 -1.869600e-01  2.767600e-01   \n",
       "\n",
       "               50%           75%           max  \n",
       "f1    9.017300e-02  1.165075e-01  4.129000e-01  \n",
       "f2    3.889400e-01  4.583100e-01  5.198800e-01  \n",
       "f3    1.277900e+03  4.421400e+03  3.984100e+04  \n",
       "f4    1.373500e-01  2.971600e-01  1.310200e+00  \n",
       "f5    3.280200e-01  4.128100e-01  5.555800e-01  \n",
       "...            ...           ...           ...  \n",
       "f114  1.942900e+04  8.830950e+04  5.215400e+05  \n",
       "f115  1.177200e+00  1.242300e+00  1.877900e+00  \n",
       "f116  1.330400e+16  5.284700e+16  3.239500e+17  \n",
       "f117  3.237100e+03  6.157300e+03  1.319800e+04  \n",
       "f118  4.737900e-01  7.449700e-01  2.732000e+00  \n",
       "\n",
       "[118 rows x 8 columns]"
      ]
     },
     "execution_count": 10,
     "metadata": {},
     "output_type": "execute_result"
    }
   ],
   "source": [
    "test_desc = test.describe()\n",
    "test_desc.transpose()"
   ]
  },
  {
   "cell_type": "code",
   "execution_count": 11,
   "metadata": {
    "execution": {
     "iopub.execute_input": "2021-09-07T17:05:18.236795Z",
     "iopub.status.busy": "2021-09-07T17:05:18.236465Z",
     "iopub.status.idle": "2021-09-07T17:05:18.25916Z",
     "shell.execute_reply": "2021-09-07T17:05:18.258206Z",
     "shell.execute_reply.started": "2021-09-07T17:05:18.236763Z"
    }
   },
   "outputs": [
    {
     "data": {
      "text/html": [
       "<div>\n",
       "<style scoped>\n",
       "    .dataframe tbody tr th:only-of-type {\n",
       "        vertical-align: middle;\n",
       "    }\n",
       "\n",
       "    .dataframe tbody tr th {\n",
       "        vertical-align: top;\n",
       "    }\n",
       "\n",
       "    .dataframe thead th {\n",
       "        text-align: right;\n",
       "    }\n",
       "</style>\n",
       "<table border=\"1\" class=\"dataframe\">\n",
       "  <thead>\n",
       "    <tr style=\"text-align: right;\">\n",
       "      <th></th>\n",
       "      <th>count</th>\n",
       "      <th>mean</th>\n",
       "      <th>std</th>\n",
       "      <th>min</th>\n",
       "      <th>25%</th>\n",
       "      <th>50%</th>\n",
       "      <th>75%</th>\n",
       "      <th>max</th>\n",
       "    </tr>\n",
       "  </thead>\n",
       "  <tbody>\n",
       "    <tr>\n",
       "      <th>f1</th>\n",
       "      <td>457010.0</td>\n",
       "      <td>9.723625e-06</td>\n",
       "      <td>2.597197e-05</td>\n",
       "      <td>3.280000e-03</td>\n",
       "      <td>1.600000e-05</td>\n",
       "      <td>-3.800000e-05</td>\n",
       "      <td>-7.500000e-06</td>\n",
       "      <td>2.270000e-03</td>\n",
       "    </tr>\n",
       "    <tr>\n",
       "      <th>f2</th>\n",
       "      <td>457146.0</td>\n",
       "      <td>-1.788055e-04</td>\n",
       "      <td>3.619441e-04</td>\n",
       "      <td>1.600000e-05</td>\n",
       "      <td>-6.100000e-04</td>\n",
       "      <td>1.600000e-04</td>\n",
       "      <td>1.400000e-04</td>\n",
       "      <td>-8.900000e-04</td>\n",
       "    </tr>\n",
       "    <tr>\n",
       "      <th>f3</th>\n",
       "      <td>456749.0</td>\n",
       "      <td>2.154181e+01</td>\n",
       "      <td>3.260448e+01</td>\n",
       "      <td>1.460000e+01</td>\n",
       "      <td>-4.050000e-01</td>\n",
       "      <td>1.600000e+00</td>\n",
       "      <td>2.300000e+01</td>\n",
       "      <td>-2.970000e+02</td>\n",
       "    </tr>\n",
       "    <tr>\n",
       "      <th>f4</th>\n",
       "      <td>456618.0</td>\n",
       "      <td>-2.889054e-04</td>\n",
       "      <td>-4.290765e-05</td>\n",
       "      <td>-1.406000e-03</td>\n",
       "      <td>-8.250000e-05</td>\n",
       "      <td>-3.500000e-04</td>\n",
       "      <td>-6.000000e-05</td>\n",
       "      <td>9.700000e-03</td>\n",
       "    </tr>\n",
       "    <tr>\n",
       "      <th>f5</th>\n",
       "      <td>456917.0</td>\n",
       "      <td>-9.531270e-06</td>\n",
       "      <td>-9.253989e-05</td>\n",
       "      <td>1.710000e-05</td>\n",
       "      <td>-8.000000e-05</td>\n",
       "      <td>-2.300000e-04</td>\n",
       "      <td>2.000000e-05</td>\n",
       "      <td>-8.300000e-04</td>\n",
       "    </tr>\n",
       "    <tr>\n",
       "      <th>...</th>\n",
       "      <td>...</td>\n",
       "      <td>...</td>\n",
       "      <td>...</td>\n",
       "      <td>...</td>\n",
       "      <td>...</td>\n",
       "      <td>...</td>\n",
       "      <td>...</td>\n",
       "      <td>...</td>\n",
       "    </tr>\n",
       "    <tr>\n",
       "      <th>f114</th>\n",
       "      <td>456949.0</td>\n",
       "      <td>1.016860e+02</td>\n",
       "      <td>1.559844e+02</td>\n",
       "      <td>-5.960000e+02</td>\n",
       "      <td>-3.167500e+01</td>\n",
       "      <td>5.000000e+01</td>\n",
       "      <td>1.785000e+02</td>\n",
       "      <td>4.510000e+03</td>\n",
       "    </tr>\n",
       "    <tr>\n",
       "      <th>f115</th>\n",
       "      <td>456863.0</td>\n",
       "      <td>-1.730104e-04</td>\n",
       "      <td>-1.147484e-04</td>\n",
       "      <td>4.570000e-03</td>\n",
       "      <td>0.000000e+00</td>\n",
       "      <td>0.000000e+00</td>\n",
       "      <td>-3.000000e-04</td>\n",
       "      <td>8.800000e-03</td>\n",
       "    </tr>\n",
       "    <tr>\n",
       "      <th>f116</th>\n",
       "      <td>456939.0</td>\n",
       "      <td>-7.352366e+13</td>\n",
       "      <td>-1.152458e+14</td>\n",
       "      <td>-1.195000e+15</td>\n",
       "      <td>3.250000e+11</td>\n",
       "      <td>-2.900000e+13</td>\n",
       "      <td>-6.000000e+13</td>\n",
       "      <td>1.040000e+15</td>\n",
       "    </tr>\n",
       "    <tr>\n",
       "      <th>f117</th>\n",
       "      <td>456801.0</td>\n",
       "      <td>-9.380843e+00</td>\n",
       "      <td>-5.281491e+00</td>\n",
       "      <td>1.000000e+00</td>\n",
       "      <td>-3.800000e+00</td>\n",
       "      <td>-9.100000e+00</td>\n",
       "      <td>-1.940000e+01</td>\n",
       "      <td>-4.700000e+01</td>\n",
       "    </tr>\n",
       "    <tr>\n",
       "      <th>f118</th>\n",
       "      <td>457118.0</td>\n",
       "      <td>5.333853e-04</td>\n",
       "      <td>-4.631938e-05</td>\n",
       "      <td>3.572000e-02</td>\n",
       "      <td>-2.000000e-04</td>\n",
       "      <td>-3.500000e-04</td>\n",
       "      <td>1.240000e-03</td>\n",
       "      <td>1.160000e-02</td>\n",
       "    </tr>\n",
       "  </tbody>\n",
       "</table>\n",
       "<p>118 rows × 8 columns</p>\n",
       "</div>"
      ],
      "text/plain": [
       "         count          mean           std           min           25%  \\\n",
       "f1    457010.0  9.723625e-06  2.597197e-05  3.280000e-03  1.600000e-05   \n",
       "f2    457146.0 -1.788055e-04  3.619441e-04  1.600000e-05 -6.100000e-04   \n",
       "f3    456749.0  2.154181e+01  3.260448e+01  1.460000e+01 -4.050000e-01   \n",
       "f4    456618.0 -2.889054e-04 -4.290765e-05 -1.406000e-03 -8.250000e-05   \n",
       "f5    456917.0 -9.531270e-06 -9.253989e-05  1.710000e-05 -8.000000e-05   \n",
       "...        ...           ...           ...           ...           ...   \n",
       "f114  456949.0  1.016860e+02  1.559844e+02 -5.960000e+02 -3.167500e+01   \n",
       "f115  456863.0 -1.730104e-04 -1.147484e-04  4.570000e-03  0.000000e+00   \n",
       "f116  456939.0 -7.352366e+13 -1.152458e+14 -1.195000e+15  3.250000e+11   \n",
       "f117  456801.0 -9.380843e+00 -5.281491e+00  1.000000e+00 -3.800000e+00   \n",
       "f118  457118.0  5.333853e-04 -4.631938e-05  3.572000e-02 -2.000000e-04   \n",
       "\n",
       "               50%           75%           max  \n",
       "f1   -3.800000e-05 -7.500000e-06  2.270000e-03  \n",
       "f2    1.600000e-04  1.400000e-04 -8.900000e-04  \n",
       "f3    1.600000e+00  2.300000e+01 -2.970000e+02  \n",
       "f4   -3.500000e-04 -6.000000e-05  9.700000e-03  \n",
       "f5   -2.300000e-04  2.000000e-05 -8.300000e-04  \n",
       "...            ...           ...           ...  \n",
       "f114  5.000000e+01  1.785000e+02  4.510000e+03  \n",
       "f115  0.000000e+00 -3.000000e-04  8.800000e-03  \n",
       "f116 -2.900000e+13 -6.000000e+13  1.040000e+15  \n",
       "f117 -9.100000e+00 -1.940000e+01 -4.700000e+01  \n",
       "f118 -3.500000e-04  1.240000e-03  1.160000e-02  \n",
       "\n",
       "[118 rows x 8 columns]"
      ]
     },
     "execution_count": 11,
     "metadata": {},
     "output_type": "execute_result"
    }
   ],
   "source": [
    "desc_delta = train_desc - test_desc\n",
    "desc_delta.transpose()"
   ]
  },
  {
   "cell_type": "markdown",
   "metadata": {},
   "source": [
    "## Feature Scaling"
   ]
  },
  {
   "cell_type": "code",
   "execution_count": 12,
   "metadata": {
    "execution": {
     "iopub.execute_input": "2021-09-07T17:05:26.250663Z",
     "iopub.status.busy": "2021-09-07T17:05:26.250347Z",
     "iopub.status.idle": "2021-09-07T17:05:29.781579Z",
     "shell.execute_reply": "2021-09-07T17:05:29.780761Z",
     "shell.execute_reply.started": "2021-09-07T17:05:26.250633Z"
    }
   },
   "outputs": [],
   "source": [
    "for item in train.columns:\n",
    "    if abs(train[item].max()) / (abs(train[item].min()) + 10e-10) > 10:\n",
    "        train[item] = np.sign(train[item]) * np.log2(np.abs(train[item]) + 1)\n",
    "        test[item] = np.sign(test[item]) * np.log2(np.abs(test[item]) + 1)\n",
    "    train_mean = train[item].mean()\n",
    "    train_std = train[item].std()\n",
    "    train[item] = (train[item] - train_mean) / train_std\n",
    "    test[item] = (test[item] - train_mean) / train_std\n",
    "    # Missing Value Imputation seems to have a bad effect to final results\n",
    "    #train[item].replace(np.NAN, train[item].mean(), inplace=True)\n",
    "    #test[item].replace(np.NAN, test[item].mean(), inplace=True)\n"
   ]
  },
  {
   "cell_type": "markdown",
   "metadata": {},
   "source": [
    "### Train Validation Split"
   ]
  },
  {
   "cell_type": "code",
   "execution_count": 13,
   "metadata": {
    "execution": {
     "iopub.execute_input": "2021-09-07T17:05:33.91458Z",
     "iopub.status.busy": "2021-09-07T17:05:33.914251Z",
     "iopub.status.idle": "2021-09-07T17:05:34.873351Z",
     "shell.execute_reply": "2021-09-07T17:05:34.872369Z",
     "shell.execute_reply.started": "2021-09-07T17:05:33.914551Z"
    }
   },
   "outputs": [
    {
     "data": {
      "text/plain": [
       "((766335, 118), (766335,), (191584, 118), (191584,))"
      ]
     },
     "execution_count": 13,
     "metadata": {},
     "output_type": "execute_result"
    }
   ],
   "source": [
    "train_features, valid_features, train_targets, valid_targets = train_test_split(train, train_targets, test_size=0.2, random_state=np.random.randint(1000))\n",
    "train_features.shape, train_targets.shape, valid_features.shape, valid_targets.shape"
   ]
  },
  {
   "cell_type": "markdown",
   "metadata": {},
   "source": [
    "## Model Development & Evaluation\n"
   ]
  },
  {
   "cell_type": "markdown",
   "metadata": {},
   "source": [
    "### Evaluation Method"
   ]
  },
  {
   "cell_type": "code",
   "execution_count": 14,
   "metadata": {
    "execution": {
     "iopub.execute_input": "2021-09-07T17:05:38.138811Z",
     "iopub.status.busy": "2021-09-07T17:05:38.138454Z",
     "iopub.status.idle": "2021-09-07T17:05:38.146339Z",
     "shell.execute_reply": "2021-09-07T17:05:38.145326Z",
     "shell.execute_reply.started": "2021-09-07T17:05:38.13878Z"
    }
   },
   "outputs": [],
   "source": [
    "def evaluate(valid_targets, probs, name):\n",
    "    y_pred = np.array(probs > 0.5, dtype=int)\n",
    "    acc = accuracy_score(valid_targets, y_pred)\n",
    "    loss = log_loss(valid_targets, y_pred)\n",
    "    auc = roc_auc_score(valid_targets, probs)\n",
    "    print(\"Accuracy score: %.2f\"%(acc))\n",
    "    print(\"Log loss: %.2f\"%(loss))\n",
    "    print(\"AUC score:\", auc)\n",
    "    print(\"Classification report:\")\n",
    "    print(classification_report(valid_targets, y_pred))\n",
    "    return {\n",
    "        \"name\": name, \n",
    "        \"accuracy_score\": acc, \n",
    "        \"log_loss\": loss, \n",
    "        \"auc\": auc\n",
    "    }"
   ]
  },
  {
   "cell_type": "code",
   "execution_count": 15,
   "metadata": {
    "execution": {
     "iopub.execute_input": "2021-09-07T16:59:32.395691Z",
     "iopub.status.busy": "2021-09-07T16:59:32.395301Z",
     "iopub.status.idle": "2021-09-07T16:59:32.405734Z",
     "shell.execute_reply": "2021-09-07T16:59:32.40484Z",
     "shell.execute_reply.started": "2021-09-07T16:59:32.395656Z"
    }
   },
   "outputs": [
    {
     "data": {
      "text/plain": [
       "(766335, 118)"
      ]
     },
     "execution_count": 15,
     "metadata": {},
     "output_type": "execute_result"
    }
   ],
   "source": [
    "train_features.shape"
   ]
  },
  {
   "cell_type": "markdown",
   "metadata": {
    "execution": {
     "iopub.execute_input": "2021-09-04T17:03:32.510108Z",
     "iopub.status.busy": "2021-09-04T17:03:32.509586Z",
     "iopub.status.idle": "2021-09-04T17:03:32.515036Z",
     "shell.execute_reply": "2021-09-04T17:03:32.51408Z",
     "shell.execute_reply.started": "2021-09-04T17:03:32.510005Z"
    }
   },
   "source": [
    "## Using CatBoost"
   ]
  },
  {
   "cell_type": "code",
   "execution_count": 22,
   "metadata": {
    "execution": {
     "iopub.execute_input": "2021-09-07T17:05:46.185167Z",
     "iopub.status.busy": "2021-09-07T17:05:46.184522Z",
     "iopub.status.idle": "2021-09-07T17:10:29.012452Z",
     "shell.execute_reply": "2021-09-07T17:10:29.011749Z",
     "shell.execute_reply.started": "2021-09-07T17:05:46.185118Z"
    }
   },
   "outputs": [
    {
     "name": "stdout",
     "output_type": "stream",
     "text": [
      "0:\tlearn: 0.5518146\ttest: 0.5508419\tbest: 0.5508419 (0)\ttotal: 39.6ms\tremaining: 9m 53s\n",
      "1000:\tlearn: 0.8031782\ttest: 0.7976518\tbest: 0.7976518 (1000)\ttotal: 52.5s\tremaining: 12m 14s\n",
      "2000:\tlearn: 0.8094440\ttest: 0.8000313\tbest: 0.8000313 (2000)\ttotal: 1m 54s\tremaining: 12m 26s\n",
      "3000:\tlearn: 0.8144549\ttest: 0.8008842\tbest: 0.8008842 (2998)\ttotal: 3m 27s\tremaining: 13m 51s\n",
      "4000:\tlearn: 0.8192819\ttest: 0.8014015\tbest: 0.8014015 (4000)\ttotal: 4m 53s\tremaining: 13m 27s\n",
      "5000:\tlearn: 0.8241102\ttest: 0.8017505\tbest: 0.8017505 (5000)\ttotal: 5m 29s\tremaining: 10m 59s\n",
      "6000:\tlearn: 0.8290019\ttest: 0.8019897\tbest: 0.8019915 (5994)\ttotal: 6m 4s\tremaining: 9m 6s\n",
      "7000:\tlearn: 0.8338774\ttest: 0.8022176\tbest: 0.8022190 (6993)\ttotal: 6m 43s\tremaining: 7m 40s\n",
      "8000:\tlearn: 0.8388107\ttest: 0.8024215\tbest: 0.8024232 (7995)\ttotal: 7m 20s\tremaining: 6m 25s\n",
      "9000:\tlearn: 0.8436971\ttest: 0.8026317\tbest: 0.8026328 (8999)\ttotal: 7m 57s\tremaining: 5m 18s\n",
      "10000:\tlearn: 0.8485550\ttest: 0.8027357\tbest: 0.8027409 (9954)\ttotal: 8m 33s\tremaining: 4m 16s\n",
      "11000:\tlearn: 0.8533780\ttest: 0.8027712\tbest: 0.8027749 (10978)\ttotal: 9m 10s\tremaining: 3m 20s\n",
      "12000:\tlearn: 0.8580967\ttest: 0.8028494\tbest: 0.8028528 (11963)\ttotal: 9m 46s\tremaining: 2m 26s\n",
      "13000:\tlearn: 0.8626986\ttest: 0.8029394\tbest: 0.8029398 (12994)\ttotal: 10m 22s\tremaining: 1m 35s\n",
      "14000:\tlearn: 0.8671848\ttest: 0.8029855\tbest: 0.8029895 (13899)\ttotal: 11m\tremaining: 47.1s\n",
      "14999:\tlearn: 0.8715788\ttest: 0.8030201\tbest: 0.8030229 (14979)\ttotal: 11m 37s\tremaining: 0us\n",
      "bestTest = 0.8030228615\n",
      "bestIteration = 14979\n",
      "Shrink model to first 14980 iterations.\n"
     ]
    },
    {
     "data": {
      "text/plain": [
       "<catboost.core.CatBoostClassifier at 0x1bcb4a01cd0>"
      ]
     },
     "execution_count": 22,
     "metadata": {},
     "output_type": "execute_result"
    }
   ],
   "source": [
    "cat_params = {\n",
    "    'iterations': 15000, \n",
    "    'loss_function': 'Logloss', \n",
    "    'depth': 7, \n",
    "    'task_type' : 'GPU',\n",
    "    'use_best_model': True,\n",
    "    'eval_metric': 'AUC',\n",
    "    'early_stopping_rounds': 1000,\n",
    "    'learning_rate': 0.02,\n",
    "    'border_count': 32,\n",
    "    'l2_leaf_reg': 3,\n",
    "    \"verbose\": 1000\n",
    "}\n",
    "cat = CatBoostClassifier(\n",
    "    **cat_params\n",
    ")\n",
    "cat.fit(train_features, train_targets, eval_set=[(valid_features, valid_targets)])"
   ]
  },
  {
   "cell_type": "code",
   "execution_count": 23,
   "metadata": {
    "execution": {
     "iopub.execute_input": "2021-09-07T17:10:42.112081Z",
     "iopub.status.busy": "2021-09-07T17:10:42.111747Z",
     "iopub.status.idle": "2021-09-07T17:10:44.728543Z",
     "shell.execute_reply": "2021-09-07T17:10:44.727671Z",
     "shell.execute_reply.started": "2021-09-07T17:10:42.112048Z"
    }
   },
   "outputs": [
    {
     "data": {
      "text/plain": [
       "array([0.81868803, 0.86277838, 0.87330389, 0.22623365, 0.51253656,\n",
       "       0.20610893, 0.59941892, 0.85758601, 0.45039556, 0.58375224])"
      ]
     },
     "execution_count": 23,
     "metadata": {},
     "output_type": "execute_result"
    }
   ],
   "source": [
    "probs = cat.predict_proba(valid_features)[:, 1]\n",
    "probs[:10]"
   ]
  },
  {
   "cell_type": "code",
   "execution_count": 24,
   "metadata": {
    "execution": {
     "iopub.execute_input": "2021-09-07T17:10:46.416417Z",
     "iopub.status.busy": "2021-09-07T17:10:46.416114Z",
     "iopub.status.idle": "2021-09-07T17:10:46.866615Z",
     "shell.execute_reply": "2021-09-07T17:10:46.865612Z",
     "shell.execute_reply.started": "2021-09-07T17:10:46.416389Z"
    }
   },
   "outputs": [
    {
     "name": "stdout",
     "output_type": "stream",
     "text": [
      "Accuracy score: 0.75\n",
      "Log loss: 8.75\n",
      "AUC score: 0.8030228196692537\n",
      "Classification report:\n",
      "              precision    recall  f1-score   support\n",
      "\n",
      "           0       0.74      0.77      0.75     95999\n",
      "           1       0.76      0.73      0.74     95585\n",
      "\n",
      "    accuracy                           0.75    191584\n",
      "   macro avg       0.75      0.75      0.75    191584\n",
      "weighted avg       0.75      0.75      0.75    191584\n",
      "\n"
     ]
    },
    {
     "data": {
      "text/plain": [
       "{'name': 'catboost',\n",
       " 'accuracy_score': 0.7467064055453483,\n",
       " 'log_loss': 8.7485447023782,\n",
       " 'auc': 0.8030228196692537}"
      ]
     },
     "execution_count": 24,
     "metadata": {},
     "output_type": "execute_result"
    }
   ],
   "source": [
    "result_cat = evaluate(valid_targets, probs, \"catboost\")\n",
    "result_cat"
   ]
  },
  {
   "cell_type": "markdown",
   "metadata": {},
   "source": [
    "## Submisssion"
   ]
  },
  {
   "cell_type": "code",
   "execution_count": 25,
   "metadata": {
    "execution": {
     "iopub.execute_input": "2021-09-07T17:11:29.816073Z",
     "iopub.status.busy": "2021-09-07T17:11:29.815736Z",
     "iopub.status.idle": "2021-09-07T17:11:37.555885Z",
     "shell.execute_reply": "2021-09-07T17:11:37.555012Z",
     "shell.execute_reply.started": "2021-09-07T17:11:29.816044Z"
    }
   },
   "outputs": [],
   "source": [
    "claim = cat.predict_proba(test)[:, 1]\n",
    "submission = pd.DataFrame({\"id\": list(test_ids), \"claim\": claim.reshape(-1)})\n",
    "submission.to_csv(\"submission.csv\", index=False)"
   ]
  },
  {
   "cell_type": "code",
   "execution_count": null,
   "metadata": {},
   "outputs": [],
   "source": []
  }
 ],
 "metadata": {
  "kernelspec": {
   "display_name": "Python 3 (ipykernel)",
   "language": "python",
   "name": "python3"
  },
  "language_info": {
   "codemirror_mode": {
    "name": "ipython",
    "version": 3
   },
   "file_extension": ".py",
   "mimetype": "text/x-python",
   "name": "python",
   "nbconvert_exporter": "python",
   "pygments_lexer": "ipython3",
   "version": "3.9.5"
  }
 },
 "nbformat": 4,
 "nbformat_minor": 4
}
