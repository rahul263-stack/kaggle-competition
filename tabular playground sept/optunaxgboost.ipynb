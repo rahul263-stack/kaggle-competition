{
 "cells": [
  {
   "cell_type": "code",
   "execution_count": 1,
   "metadata": {
    "_cell_guid": "b1076dfc-b9ad-4769-8c92-a6c4dae69d19",
    "_kg_hide-output": false,
    "_uuid": "8f2839f25d086af736a60e9eeb907d3b93b6e0e5",
    "execution": {
     "iopub.execute_input": "2021-09-08T04:09:03.284737Z",
     "iopub.status.busy": "2021-09-08T04:09:03.284375Z",
     "iopub.status.idle": "2021-09-08T04:09:03.298722Z",
     "shell.execute_reply": "2021-09-08T04:09:03.297683Z",
     "shell.execute_reply.started": "2021-09-08T04:09:03.284655Z"
    }
   },
   "outputs": [],
   "source": [
    "# This Python 3 environment comes with many helpful analytics libraries installed\n",
    "# It is defined by the kaggle/python Docker image: https://github.com/kaggle/docker-python\n",
    "# For example, here's several helpful packages to load\n",
    "\n",
    "import numpy as np # linear algebra\n",
    "import pandas as pd # data processing, CSV file I/O (e.g. pd.read_csv)\n",
    "\n",
    "# Input data files are available in the read-only \"../input/\" directory\n",
    "# For example, running this (by clicking run or pressing Shift+Enter) will list all files under the input directory\n",
    "\n",
    "import os\n",
    "for dirname, _, filenames in os.walk('/kaggle/input'):\n",
    "    for filename in filenames:\n",
    "        print(os.path.join(dirname, filename))\n",
    "\n",
    "# You can write up to 20GB to the current directory (/kaggle/working/) that gets preserved as output when you create a version using \"Save & Run All\" \n",
    "# You can also write temporary files to /kaggle/temp/, but they won't be saved outside of the current session"
   ]
  },
  {
   "cell_type": "code",
   "execution_count": 2,
   "metadata": {
    "execution": {
     "iopub.execute_input": "2021-09-08T04:09:03.300949Z",
     "iopub.status.busy": "2021-09-08T04:09:03.300567Z",
     "iopub.status.idle": "2021-09-08T04:09:04.142716Z",
     "shell.execute_reply": "2021-09-08T04:09:04.141849Z",
     "shell.execute_reply.started": "2021-09-08T04:09:03.30091Z"
    }
   },
   "outputs": [],
   "source": [
    "from xgboost import XGBClassifier\n",
    "from sklearn.metrics import roc_auc_score\n",
    "import warnings\n",
    "warnings.filterwarnings('ignore')"
   ]
  },
  {
   "cell_type": "code",
   "execution_count": 3,
   "metadata": {
    "execution": {
     "iopub.execute_input": "2021-09-08T04:09:04.14492Z",
     "iopub.status.busy": "2021-09-08T04:09:04.144641Z",
     "iopub.status.idle": "2021-09-08T04:09:04.149301Z",
     "shell.execute_reply": "2021-09-08T04:09:04.148484Z",
     "shell.execute_reply.started": "2021-09-08T04:09:04.144882Z"
    }
   },
   "outputs": [],
   "source": [
    "import warnings"
   ]
  },
  {
   "cell_type": "code",
   "execution_count": 4,
   "metadata": {
    "execution": {
     "iopub.execute_input": "2021-09-08T04:09:04.151304Z",
     "iopub.status.busy": "2021-09-08T04:09:04.150951Z",
     "iopub.status.idle": "2021-09-08T04:09:44.960679Z",
     "shell.execute_reply": "2021-09-08T04:09:44.959844Z",
     "shell.execute_reply.started": "2021-09-08T04:09:04.151267Z"
    }
   },
   "outputs": [],
   "source": [
    "train = pd.read_csv('train.csv')\n",
    "test = pd.read_csv('test.csv')"
   ]
  },
  {
   "cell_type": "code",
   "execution_count": 5,
   "metadata": {
    "execution": {
     "iopub.execute_input": "2021-09-08T04:09:44.962351Z",
     "iopub.status.busy": "2021-09-08T04:09:44.961991Z",
     "iopub.status.idle": "2021-09-08T04:09:45.364196Z",
     "shell.execute_reply": "2021-09-08T04:09:45.363335Z",
     "shell.execute_reply.started": "2021-09-08T04:09:44.962315Z"
    }
   },
   "outputs": [],
   "source": [
    "x_data = train.drop(['id', 'claim'], axis=1)\n",
    "y_data = train.claim\n",
    "\n",
    "x_test = test.drop('id', axis=1)"
   ]
  },
  {
   "cell_type": "markdown",
   "metadata": {},
   "source": [
    "### data preprocessing"
   ]
  },
  {
   "cell_type": "code",
   "execution_count": 6,
   "metadata": {
    "execution": {
     "iopub.execute_input": "2021-09-08T04:09:45.365934Z",
     "iopub.status.busy": "2021-09-08T04:09:45.365439Z",
     "iopub.status.idle": "2021-09-08T04:09:45.371491Z",
     "shell.execute_reply": "2021-09-08T04:09:45.370557Z",
     "shell.execute_reply.started": "2021-09-08T04:09:45.365895Z"
    }
   },
   "outputs": [
    {
     "name": "stdout",
     "output_type": "stream",
     "text": [
      "x_data shape (957919, 118)\n",
      "x_test shape (493474, 118)\n"
     ]
    }
   ],
   "source": [
    "print('x_data shape {}'.format(x_data.shape))\n",
    "print('x_test shape {}'.format(x_test.shape))"
   ]
  },
  {
   "cell_type": "code",
   "execution_count": null,
   "metadata": {
    "execution": {
     "iopub.execute_input": "2021-09-08T04:09:45.374631Z",
     "iopub.status.busy": "2021-09-08T04:09:45.374138Z",
     "iopub.status.idle": "2021-09-08T04:09:45.382156Z",
     "shell.execute_reply": "2021-09-08T04:09:45.381303Z",
     "shell.execute_reply.started": "2021-09-08T04:09:45.374594Z"
    }
   },
   "outputs": [],
   "source": [
    "# from sklearn.linear_model import LogisticRegression\n",
    "# from sklearn.metrics import roc_auc_score\n",
    "\n",
    "# model = LogisticRegression()"
   ]
  },
  {
   "cell_type": "code",
   "execution_count": null,
   "metadata": {
    "execution": {
     "iopub.execute_input": "2021-09-08T04:09:45.3855Z",
     "iopub.status.busy": "2021-09-08T04:09:45.385201Z",
     "iopub.status.idle": "2021-09-08T04:09:45.390862Z",
     "shell.execute_reply": "2021-09-08T04:09:45.389998Z",
     "shell.execute_reply.started": "2021-09-08T04:09:45.385475Z"
    }
   },
   "outputs": [],
   "source": [
    "# from sklearn.tree import DecisionTreeClassifier\n",
    "\n",
    "# model = DecisionTreeClassifier()\n",
    "\n",
    "# from sklearn.model_selection import train_test_split\n",
    "\n",
    "# x_train, x_val, y_train, y_val = train_test_split(x_data, y_data, test_size=0.3, random_state=50)\n",
    "\n",
    "\n",
    "# model.fit(x_train, y_train)\n",
    "# y_pred = model.predict_proba(x_val)[:, 1]\n",
    "# roc_auc_score(y_val, y_pred)"
   ]
  },
  {
   "cell_type": "code",
   "execution_count": 7,
   "metadata": {
    "execution": {
     "iopub.execute_input": "2021-09-08T04:09:45.39374Z",
     "iopub.status.busy": "2021-09-08T04:09:45.393505Z",
     "iopub.status.idle": "2021-09-08T04:09:45.686553Z",
     "shell.execute_reply": "2021-09-08T04:09:45.685713Z",
     "shell.execute_reply.started": "2021-09-08T04:09:45.393718Z"
    }
   },
   "outputs": [],
   "source": [
    "x_data['n_missing'] = x_data.isna().sum(axis=1)\n",
    "x_test['n_missing'] = test.isna().sum(axis=1)"
   ]
  },
  {
   "cell_type": "code",
   "execution_count": null,
   "metadata": {
    "execution": {
     "iopub.execute_input": "2021-09-08T04:09:45.689837Z",
     "iopub.status.busy": "2021-09-08T04:09:45.689582Z",
     "iopub.status.idle": "2021-09-08T04:09:45.693866Z",
     "shell.execute_reply": "2021-09-08T04:09:45.693062Z",
     "shell.execute_reply.started": "2021-09-08T04:09:45.68981Z"
    }
   },
   "outputs": [],
   "source": [
    "# from sklearn.impute import SimpleImputer\n",
    "\n",
    "# imputer = SimpleImputer(strategy=\"median\")\n",
    "# x_data = imputer.fit_transform(x_data)\n",
    "# x_test = imputer.transform(x_test)"
   ]
  },
  {
   "cell_type": "code",
   "execution_count": null,
   "metadata": {
    "execution": {
     "iopub.execute_input": "2021-09-08T04:09:45.695663Z",
     "iopub.status.busy": "2021-09-08T04:09:45.695185Z",
     "iopub.status.idle": "2021-09-08T04:09:45.706564Z",
     "shell.execute_reply": "2021-09-08T04:09:45.705771Z",
     "shell.execute_reply.started": "2021-09-08T04:09:45.695627Z"
    }
   },
   "outputs": [],
   "source": [
    "# pd.DataFrame(x_data).isna().sum()\n",
    "# pd.DataFrame(x_test).isna().sum()"
   ]
  },
  {
   "cell_type": "code",
   "execution_count": 8,
   "metadata": {
    "execution": {
     "iopub.execute_input": "2021-09-08T04:09:45.708292Z",
     "iopub.status.busy": "2021-09-08T04:09:45.707919Z",
     "iopub.status.idle": "2021-09-08T04:09:49.607406Z",
     "shell.execute_reply": "2021-09-08T04:09:49.60653Z",
     "shell.execute_reply.started": "2021-09-08T04:09:45.708258Z"
    }
   },
   "outputs": [],
   "source": [
    "from sklearn.preprocessing import StandardScaler\n",
    "\n",
    "scaler = StandardScaler()\n",
    "\n",
    "x_data_scaler = scaler.fit_transform(x_data)\n",
    "x_test_scaler = scaler.transform(x_test)"
   ]
  },
  {
   "cell_type": "code",
   "execution_count": 9,
   "metadata": {
    "execution": {
     "iopub.execute_input": "2021-09-08T04:09:49.609045Z",
     "iopub.status.busy": "2021-09-08T04:09:49.608692Z",
     "iopub.status.idle": "2021-09-08T04:09:51.001358Z",
     "shell.execute_reply": "2021-09-08T04:09:51.000494Z",
     "shell.execute_reply.started": "2021-09-08T04:09:49.608994Z"
    }
   },
   "outputs": [],
   "source": [
    "from sklearn.model_selection import train_test_split\n",
    "\n",
    "x_train, x_val, y_train, y_val = train_test_split(x_data_scaler, y_data, test_size=0.3, random_state=50)\n"
   ]
  },
  {
   "cell_type": "markdown",
   "metadata": {
    "execution": {
     "iopub.execute_input": "2021-09-07T09:31:47.002948Z",
     "iopub.status.busy": "2021-09-07T09:31:47.002526Z",
     "iopub.status.idle": "2021-09-07T09:31:47.008527Z",
     "shell.execute_reply": "2021-09-07T09:31:47.007276Z",
     "shell.execute_reply.started": "2021-09-07T09:31:47.00286Z"
    }
   },
   "source": [
    "### adaboost"
   ]
  },
  {
   "cell_type": "code",
   "execution_count": null,
   "metadata": {
    "execution": {
     "iopub.execute_input": "2021-09-08T04:09:51.002983Z",
     "iopub.status.busy": "2021-09-08T04:09:51.002643Z",
     "iopub.status.idle": "2021-09-08T04:09:51.007383Z",
     "shell.execute_reply": "2021-09-08T04:09:51.006334Z",
     "shell.execute_reply.started": "2021-09-08T04:09:51.002948Z"
    }
   },
   "outputs": [],
   "source": [
    "# from sklearn.ensemble import AdaBoostClassifier\n",
    "# adaboost = AdaBoostClassifier()\n",
    "# adaboost.fit(x_train, y_train)\n",
    "# y_pred = adaboost.predict_proba(x_val)[:, 1]"
   ]
  },
  {
   "cell_type": "code",
   "execution_count": null,
   "metadata": {
    "execution": {
     "iopub.execute_input": "2021-09-08T04:09:51.009239Z",
     "iopub.status.busy": "2021-09-08T04:09:51.008888Z",
     "iopub.status.idle": "2021-09-08T04:09:51.018422Z",
     "shell.execute_reply": "2021-09-08T04:09:51.017618Z",
     "shell.execute_reply.started": "2021-09-08T04:09:51.009202Z"
    }
   },
   "outputs": [],
   "source": [
    "# from sklearn.metrics import roc_auc_score\n",
    "# roc_auc_score(y_val, y_pred)"
   ]
  },
  {
   "cell_type": "markdown",
   "metadata": {},
   "source": [
    "### optuna"
   ]
  },
  {
   "cell_type": "code",
   "execution_count": 10,
   "metadata": {
    "execution": {
     "iopub.execute_input": "2021-09-08T04:09:51.020233Z",
     "iopub.status.busy": "2021-09-08T04:09:51.019873Z",
     "iopub.status.idle": "2021-09-08T04:09:51.029035Z",
     "shell.execute_reply": "2021-09-08T04:09:51.027989Z",
     "shell.execute_reply.started": "2021-09-08T04:09:51.020198Z"
    }
   },
   "outputs": [],
   "source": [
    "def objective(trial):\n",
    "\n",
    "    param_grid = {'objective': 'binary:logistic',\n",
    "              'use_label_encoder': False,\n",
    "              'n_estimators': trial.suggest_int('n_estimators', 500, 5000),\n",
    "              'learning_rate': trial.suggest_discrete_uniform('learning_rate',0.01,0.1,0.01),\n",
    "              'subsample': trial.suggest_discrete_uniform('subsample', 0.3, 1.0, 0.1),\n",
    "              'colsample_bytree': trial.suggest_discrete_uniform('colsample_bytree',0.1,1.0, 0.1),\n",
    "              'max_depth': trial.suggest_int('max_depth', 2, 20),\n",
    "              'booster': 'gbtree',\n",
    "              'gamma': trial.suggest_uniform('gamma',1.0,10.0),\n",
    "              'reg_alpha': trial.suggest_int('reg_alpha',50,100),\n",
    "              'reg_lambda': trial.suggest_int('reg_lambda',50,100),\n",
    "              'random_state': 42,\n",
    "                 }\n",
    "\n",
    "\n",
    "    xgb_model = XGBClassifier(**param_grid, tree_method='gpu_hist', predictor='gpu_predictor',\n",
    "                            eval_metric=['logloss'])\n",
    "\n",
    "    xgb_model.fit(x_train, y_train, verbose=False)\n",
    "    y_pred = xgb_model.predict_proba(x_val)[:, 1]\n",
    "    return roc_auc_score(y_val, y_pred)\n"
   ]
  },
  {
   "cell_type": "code",
   "execution_count": 12,
   "metadata": {},
   "outputs": [
    {
     "name": "stdout",
     "output_type": "stream",
     "text": [
      "Collecting optuna\n",
      "  Downloading optuna-2.9.1-py3-none-any.whl (302 kB)\n",
      "Requirement already satisfied: tqdm in c:\\users\\rahul\\miniconda3\\envs\\ml\\lib\\site-packages (from optuna) (4.61.2)\n",
      "Requirement already satisfied: sqlalchemy>=1.1.0 in c:\\users\\rahul\\miniconda3\\envs\\ml\\lib\\site-packages (from optuna) (1.4.22)\n",
      "Collecting PyYAML\n",
      "  Downloading PyYAML-5.4.1-cp39-cp39-win_amd64.whl (213 kB)\n",
      "Collecting cmaes>=0.8.2\n",
      "  Downloading cmaes-0.8.2-py3-none-any.whl (15 kB)\n",
      "Collecting colorlog\n",
      "  Downloading colorlog-6.4.1-py2.py3-none-any.whl (11 kB)\n",
      "Requirement already satisfied: scipy!=1.4.0 in c:\\users\\rahul\\miniconda3\\envs\\ml\\lib\\site-packages (from optuna) (1.7.0)\n",
      "Collecting alembic\n",
      "  Downloading alembic-1.7.1-py3-none-any.whl (208 kB)\n",
      "Requirement already satisfied: numpy in c:\\users\\rahul\\miniconda3\\envs\\ml\\lib\\site-packages (from optuna) (1.20.3)\n",
      "Requirement already satisfied: packaging>=20.0 in c:\\users\\rahul\\miniconda3\\envs\\ml\\lib\\site-packages (from optuna) (21.0)\n",
      "Collecting cliff\n",
      "  Downloading cliff-3.9.0-py3-none-any.whl (80 kB)\n",
      "Requirement already satisfied: pyparsing>=2.0.2 in c:\\users\\rahul\\miniconda3\\envs\\ml\\lib\\site-packages (from packaging>=20.0->optuna) (2.4.7)\n",
      "Requirement already satisfied: greenlet!=0.4.17 in c:\\users\\rahul\\miniconda3\\envs\\ml\\lib\\site-packages (from sqlalchemy>=1.1.0->optuna) (1.1.1)\n",
      "Collecting Mako\n",
      "  Downloading Mako-1.1.5-py2.py3-none-any.whl (75 kB)\n",
      "Collecting PrettyTable>=0.7.2\n",
      "  Downloading prettytable-2.2.0-py3-none-any.whl (23 kB)\n",
      "Collecting pbr!=2.1.0,>=2.0.0\n",
      "  Downloading pbr-5.6.0-py2.py3-none-any.whl (111 kB)\n",
      "Collecting autopage>=0.4.0\n",
      "  Downloading autopage-0.4.0-py3-none-any.whl (20 kB)\n",
      "Collecting stevedore>=2.0.1\n",
      "  Downloading stevedore-3.4.0-py3-none-any.whl (49 kB)\n",
      "Collecting cmd2>=1.0.0\n",
      "  Downloading cmd2-2.1.2-py3-none-any.whl (141 kB)\n",
      "Requirement already satisfied: colorama>=0.3.7 in c:\\users\\rahul\\miniconda3\\envs\\ml\\lib\\site-packages (from cmd2>=1.0.0->cliff->optuna) (0.4.4)\n",
      "Requirement already satisfied: attrs>=16.3.0 in c:\\users\\rahul\\miniconda3\\envs\\ml\\lib\\site-packages (from cmd2>=1.0.0->cliff->optuna) (21.2.0)\n",
      "Collecting pyperclip>=1.6\n",
      "  Downloading pyperclip-1.8.2.tar.gz (20 kB)\n",
      "Requirement already satisfied: wcwidth>=0.1.7 in c:\\users\\rahul\\miniconda3\\envs\\ml\\lib\\site-packages (from cmd2>=1.0.0->cliff->optuna) (0.2.5)\n",
      "Collecting pyreadline3\n",
      "  Downloading pyreadline3-3.3-py3-none-any.whl (95 kB)\n",
      "Requirement already satisfied: MarkupSafe>=0.9.2 in c:\\users\\rahul\\miniconda3\\envs\\ml\\lib\\site-packages (from Mako->alembic->optuna) (2.0.1)\n",
      "Building wheels for collected packages: pyperclip\n",
      "  Building wheel for pyperclip (setup.py): started\n",
      "  Building wheel for pyperclip (setup.py): finished with status 'done'\n",
      "  Created wheel for pyperclip: filename=pyperclip-1.8.2-py3-none-any.whl size=11106 sha256=d08e72869c4ea1b91ca5eec9c76e4de5c765c5915014b84935f2e52d4a757449\n",
      "  Stored in directory: c:\\users\\rahul\\appdata\\local\\pip\\cache\\wheels\\0c\\09\\9e\\49e21a6840ef7955b06d47394afef0058f0378c0914e48b8b8\n",
      "Successfully built pyperclip\n",
      "Installing collected packages: pyreadline3, pyperclip, pbr, stevedore, PyYAML, PrettyTable, Mako, cmd2, autopage, colorlog, cmaes, cliff, alembic, optuna\n",
      "Successfully installed Mako-1.1.5 PrettyTable-2.2.0 PyYAML-5.4.1 alembic-1.7.1 autopage-0.4.0 cliff-3.9.0 cmaes-0.8.2 cmd2-2.1.2 colorlog-6.4.1 optuna-2.9.1 pbr-5.6.0 pyperclip-1.8.2 pyreadline3-3.3 stevedore-3.4.0\n"
     ]
    }
   ],
   "source": [
    "!pip install optuna"
   ]
  },
  {
   "cell_type": "code",
   "execution_count": null,
   "metadata": {
    "execution": {
     "iopub.execute_input": "2021-09-08T04:09:51.030672Z",
     "iopub.status.busy": "2021-09-08T04:09:51.030205Z",
     "iopub.status.idle": "2021-09-08T04:09:51.037785Z",
     "shell.execute_reply": "2021-09-08T04:09:51.037029Z",
     "shell.execute_reply.started": "2021-09-08T04:09:51.030531Z"
    }
   },
   "outputs": [
    {
     "name": "stderr",
     "output_type": "stream",
     "text": [
      "\u001b[32m[I 2021-09-08 13:09:58,795]\u001b[0m A new study created in memory with name: XGBClassifier\u001b[0m\n",
      "\u001b[32m[I 2021-09-08 13:11:06,642]\u001b[0m Trial 0 finished with value: 0.8136989272508586 and parameters: {'n_estimators': 1721, 'learning_rate': 0.03, 'subsample': 0.6000000000000001, 'colsample_bytree': 0.8, 'max_depth': 5, 'gamma': 8.91861727906074, 'reg_alpha': 65, 'reg_lambda': 78}. Best is trial 0 with value: 0.8136989272508586.\u001b[0m\n",
      "\u001b[32m[I 2021-09-08 13:12:09,839]\u001b[0m Trial 1 finished with value: 0.8128240569923609 and parameters: {'n_estimators': 2129, 'learning_rate': 0.060000000000000005, 'subsample': 1.0, 'colsample_bytree': 0.1, 'max_depth': 11, 'gamma': 6.893083017682903, 'reg_alpha': 86, 'reg_lambda': 62}. Best is trial 0 with value: 0.8136989272508586.\u001b[0m\n"
     ]
    }
   ],
   "source": [
    "import optuna\n",
    "from optuna.samplers import TPESampler\n",
    "\n",
    "train_time = 1 * 30 * 60 # h * m * s\n",
    "study = optuna.create_study(direction='maximize', sampler=TPESampler(), study_name='XGBClassifier')\n",
    "study.optimize(objective, timeout=train_time)\n",
    "\n",
    "print('Number of finished trials: ', len(study.trials))\n",
    "print('Best trial:')\n",
    "trial = study.best_trial\n",
    "\n",
    "print('\\tValue: {}'.format(trial.value))\n",
    "print('\\tParams: ')\n",
    "for key, value in trial.params.items():\n",
    "    print('\\t\\t{}: {}'.format(key, value))"
   ]
  },
  {
   "cell_type": "markdown",
   "metadata": {},
   "source": [
    "### best params"
   ]
  },
  {
   "cell_type": "markdown",
   "metadata": {},
   "source": [
    "\tValue: 0.8156367214564837\n",
    "\tParams: \n",
    "\t\tn_estimators: 2299\n",
    "\t\tlearning_rate: 0.05968414618557474\n",
    "\t\tsubsample: 0.8\n",
    "\t\tmax_depth: 5\n",
    "\t\tgamma: 1.550895536131489\n",
    "\t\treg_alpha: 50\n",
    "\t\treg_lambda: 100\n",
    "\t\ttree_method: gpu_hist\n",
    "\t\tpredictor: gpu_predictor"
   ]
  },
  {
   "cell_type": "code",
   "execution_count": null,
   "metadata": {
    "execution": {
     "iopub.execute_input": "2021-09-08T04:09:59.312914Z",
     "iopub.status.busy": "2021-09-08T04:09:59.312572Z",
     "iopub.status.idle": "2021-09-08T04:09:59.318373Z",
     "shell.execute_reply": "2021-09-08T04:09:59.317365Z",
     "shell.execute_reply.started": "2021-09-08T04:09:59.312881Z"
    }
   },
   "outputs": [],
   "source": [
    "xgb_params = trial.params\n",
    "xgb_params['tree_method'] = 'gpu_hist'\n",
    "xgb_params['predictor'] = 'gpu_predictor'\n",
    "\n",
    " xgb_params = {\n",
    "     'objective': 'binary:logistic',\n",
    "     'use_label_encoder': False,\n",
    "     'n_estimators': 2299,\n",
    "     'learning_rate': 0.05968414618557474,\n",
    "     'subsample': 0.8,\n",
    "     'colsample_bytree': 0.9,\n",
    "     'max_depth': 5,\n",
    "     'booster': 'gbtree',\n",
    "     'gamma': 1.550895536131489,\n",
    "     'reg_alpha': 84,\n",
    "     'reg_lambda': 93,\n",
    "     'tree_method': 'gpu_hist',\n",
    "     'predictor': 'gpu_predictor',\n",
    "     'n_jobs': 4\n",
    "\n",
    "\n",
    "# xgb_params = {'objective': 'binary:logistic',\n",
    "#               'use_label_encoder': False,\n",
    "#               'n_estimators': 5000,\n",
    "#               'learning_rate': 0.04,\n",
    "#               'subsample': 0.66,\n",
    "#               'colsample_bytree': 0.9,\n",
    "#               'max_depth': 4,\n",
    "#               'booster': 'gbtree',\n",
    "#               'gamma': 3.5,\n",
    "#               'reg_alpha': 81.8,\n",
    "#               'reg_lambda': 72.0,\n",
    "#               'random_state': 42,\n",
    "#               'tree_method': 'gpu_hist',\n",
    "#               'predictor': 'gpu_predictor',\n",
    "#               'n_jobs': 4}"
   ]
  },
  {
   "cell_type": "markdown",
   "metadata": {},
   "source": [
    "### KFold"
   ]
  },
  {
   "cell_type": "code",
   "execution_count": null,
   "metadata": {
    "execution": {
     "iopub.execute_input": "2021-09-08T04:09:59.612956Z",
     "iopub.status.busy": "2021-09-08T04:09:59.612632Z",
     "iopub.status.idle": "2021-09-08T04:20:59.78912Z",
     "shell.execute_reply": "2021-09-08T04:20:59.788257Z",
     "shell.execute_reply.started": "2021-09-08T04:09:59.612927Z"
    }
   },
   "outputs": [],
   "source": [
    "from sklearn.model_selection import KFold\n",
    "\n",
    "n_split = 10\n",
    "kfold = KFold(n_split)\n",
    "\n",
    "val_pred = np.zeros(y_data.shape)\n",
    "y_test = np.zeros((x_test.shape[0],))\n",
    "\n",
    "for i, (train_index, val_index) in enumerate(kfold.split(x_data_scaler)):\n",
    "    # train model\n",
    "    print(\"fold {} training\".format(i))\n",
    "    model = XGBClassifier(**xgb_params, eval_metric=['logloss'])\n",
    "    model.fit(x_data_scaler[train_index], y_data[train_index])\n",
    "    \n",
    "    # predict val and test\n",
    "    val_pred[val_index] = model.predict_proba(x_data_scaler[val_index])[:, 1]\n",
    "    vla_score = roc_auc_score(y_data[val_index], val_pred[val_index])\n",
    "    print(\"fold {} validation auc score {}\".format(i, vla_score))\n",
    "    \n",
    "    y_test += model.predict_proba(x_test_scaler)[:, 1] / n_split\n",
    "    \n",
    "# evaluate validation score    \n",
    "print(\"val auc score :\", roc_auc_score(y_data, val_pred))"
   ]
  },
  {
   "cell_type": "code",
   "execution_count": null,
   "metadata": {
    "execution": {
     "iopub.execute_input": "2021-09-08T04:20:59.79095Z",
     "iopub.status.busy": "2021-09-08T04:20:59.790614Z",
     "iopub.status.idle": "2021-09-08T04:20:59.794574Z",
     "shell.execute_reply": "2021-09-08T04:20:59.793693Z",
     "shell.execute_reply.started": "2021-09-08T04:20:59.790914Z"
    }
   },
   "outputs": [],
   "source": [
    "xgb_model = XGBClassifier(**xgb_params)\n",
    "\n",
    " xgb_model.fit(x_train, y_train)\n",
    " y_val_probe = xgb_model.predict_proba(x_val)"
   ]
  },
  {
   "cell_type": "code",
   "execution_count": null,
   "metadata": {
    "execution": {
     "iopub.execute_input": "2021-09-08T04:20:59.797018Z",
     "iopub.status.busy": "2021-09-08T04:20:59.796466Z",
     "iopub.status.idle": "2021-09-08T04:20:59.812952Z",
     "shell.execute_reply": "2021-09-08T04:20:59.812061Z",
     "shell.execute_reply.started": "2021-09-08T04:20:59.79697Z"
    }
   },
   "outputs": [],
   "source": [
    "train_auc = roc_auc_score(y_train, xgb_model.predict_proba(x_train)[:, 1])\n",
    "val_auc = roc_auc_score(y_val, y_val_probe[:, 1])\n",
    "print(\"train auc {}\\nval auc {}\".format(train_auc, val_auc))"
   ]
  },
  {
   "cell_type": "markdown",
   "metadata": {
    "_kg_hide-input": false,
    "_kg_hide-output": true
   },
   "source": [
    "train auc 0.8202678946011855\n",
    "val auc 0.8138542447335897"
   ]
  },
  {
   "cell_type": "code",
   "execution_count": null,
   "metadata": {
    "execution": {
     "iopub.execute_input": "2021-09-08T04:20:59.814917Z",
     "iopub.status.busy": "2021-09-08T04:20:59.814502Z",
     "iopub.status.idle": "2021-09-08T04:20:59.822776Z",
     "shell.execute_reply": "2021-09-08T04:20:59.822022Z",
     "shell.execute_reply.started": "2021-09-08T04:20:59.814883Z"
    }
   },
   "outputs": [],
   "source": [
    "y_test = xgb_model.predict_proba(x_test_scaler)[:, 1]"
   ]
  },
  {
   "cell_type": "markdown",
   "metadata": {},
   "source": [
    "### submission"
   ]
  },
  {
   "cell_type": "code",
   "execution_count": null,
   "metadata": {
    "execution": {
     "iopub.execute_input": "2021-09-08T04:20:59.824485Z",
     "iopub.status.busy": "2021-09-08T04:20:59.824049Z",
     "iopub.status.idle": "2021-09-08T04:21:01.566877Z",
     "shell.execute_reply": "2021-09-08T04:21:01.566071Z",
     "shell.execute_reply.started": "2021-09-08T04:20:59.82445Z"
    }
   },
   "outputs": [],
   "source": [
    "sub_mission = pd.read_csv('sample_solution.csv')\n",
    "sub_mission.claim = y_test\n",
    "sub_mission.to_csv('submission.csv', index=False)"
   ]
  },
  {
   "cell_type": "code",
   "execution_count": null,
   "metadata": {
    "execution": {
     "iopub.execute_input": "2021-09-08T04:21:01.56839Z",
     "iopub.status.busy": "2021-09-08T04:21:01.568061Z",
     "iopub.status.idle": "2021-09-08T04:21:02.251695Z",
     "shell.execute_reply": "2021-09-08T04:21:02.250812Z",
     "shell.execute_reply.started": "2021-09-08T04:21:01.568346Z"
    }
   },
   "outputs": [],
   "source": [
    "import seaborn as sns\n",
    "sns.histplot(y_test)"
   ]
  }
 ],
 "metadata": {
  "kernelspec": {
   "display_name": "Python 3 (ipykernel)",
   "language": "python",
   "name": "python3"
  },
  "language_info": {
   "codemirror_mode": {
    "name": "ipython",
    "version": 3
   },
   "file_extension": ".py",
   "mimetype": "text/x-python",
   "name": "python",
   "nbconvert_exporter": "python",
   "pygments_lexer": "ipython3",
   "version": "3.9.5"
  }
 },
 "nbformat": 4,
 "nbformat_minor": 4
}
